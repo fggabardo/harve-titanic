{
 "cells": [
  {
   "cell_type": "code",
   "execution_count": 117,
   "id": "453dbad8",
   "metadata": {},
   "outputs": [],
   "source": [
    "from sklearn.preprocessing import OneHotEncoder, LabelEncoder, MinMaxScaler, LabelBinarizer\n",
    "from sklearn.ensemble import RandomForestClassifier\n",
    "from sklearn.linear_model import LogisticRegression, RidgeClassifierCV\n",
    "from sklearn.metrics import accuracy_score\n",
    "from sklearn.svm import LinearSVC, SVC\n",
    "\n",
    "import plotly.express as px\n",
    "from matplotlib import pyplot as plt\n",
    "\n",
    "import missingno as msno\n",
    "import pandas as pd\n",
    "import numpy as np\n",
    "import seaborn as sns\n",
    "import os\n",
    "import re\n",
    "\n",
    "pd.set_option('display.max_rows', 500)\n",
    "pd.set_option('display.max_columns', 500)\n",
    "pd.set_option('display.width', 1000)"
   ]
  },
  {
   "cell_type": "code",
   "execution_count": 118,
   "id": "d7536107",
   "metadata": {},
   "outputs": [
    {
     "data": {
      "image/png": "[encoded data removed]",
      "text/plain": [
       "<Figure size 900x100 with 1 Axes>"
      ]
     },
     "metadata": {},
     "output_type": "display_data"
    }
   ],
   "source": [
    "cm = [\"#273176\",\"#3B61A3\",\"#76A4AC\",\"#BFD4B2\",\"#DAD8A1\"]\n",
    "gradient = [\"#292F55\",\"#273176\",\"#223A92\",\"#3B61A3\",\"#76A4AC\",\"#BFD4B2\",\"#DAD8A1\",\"#C7B679\",\"#957447\"]\n",
    "sns.palplot(gradient)"
   ]
  },
  {
   "cell_type": "markdown",
   "id": "dcfe71fb",
   "metadata": {},
   "source": [
    "### 1. Exploratory Data Analysis (EDA)\n"
   ]
  },
  {
   "cell_type": "code",
   "execution_count": 119,
   "id": "c3a7fb05",
   "metadata": {},
   "outputs": [
    {
     "data": {
      "text/html": [
       "<style type=\"text/css\">\n",
       "#T_b064d_row0_col0, #T_b064d_row0_col6, #T_b064d_row0_col8, #T_b064d_row1_col1, #T_b064d_row1_col6, #T_b064d_row2_col5, #T_b064d_row2_col6, #T_b064d_row3_col1, #T_b064d_row3_col6, #T_b064d_row4_col0, #T_b064d_row4_col5, #T_b064d_row4_col6, #T_b064d_row5_col0, #T_b064d_row5_col5, #T_b064d_row5_col6, #T_b064d_row6_col0, #T_b064d_row6_col1, #T_b064d_row6_col5, #T_b064d_row6_col6, #T_b064d_row7_col0, #T_b064d_row7_col4, #T_b064d_row8_col5, #T_b064d_row9_col6 {\n",
       "  background-color: #f7fbff;\n",
       "  color: #000000;\n",
       "}\n",
       "#T_b064d_row0_col1, #T_b064d_row1_col0, #T_b064d_row1_col8, #T_b064d_row2_col0, #T_b064d_row2_col1, #T_b064d_row3_col0, #T_b064d_row4_col1, #T_b064d_row5_col1, #T_b064d_row6_col4, #T_b064d_row7_col1, #T_b064d_row7_col5, #T_b064d_row8_col0, #T_b064d_row8_col1, #T_b064d_row8_col6, #T_b064d_row9_col0 {\n",
       "  background-color: #08306b;\n",
       "  color: #f1f1f1;\n",
       "}\n",
       "#T_b064d_row0_col4 {\n",
       "  background-color: #9ac8e0;\n",
       "  color: #000000;\n",
       "}\n",
       "#T_b064d_row0_col5, #T_b064d_row1_col5, #T_b064d_row3_col5, #T_b064d_row9_col5 {\n",
       "  background-color: #abd0e6;\n",
       "  color: #000000;\n",
       "}\n",
       "#T_b064d_row1_col4 {\n",
       "  background-color: #3080bd;\n",
       "  color: #f1f1f1;\n",
       "}\n",
       "#T_b064d_row2_col4 {\n",
       "  background-color: #7ab6d9;\n",
       "  color: #000000;\n",
       "}\n",
       "#T_b064d_row2_col8 {\n",
       "  background-color: #f5fafe;\n",
       "  color: #000000;\n",
       "}\n",
       "#T_b064d_row3_col4, #T_b064d_row4_col4 {\n",
       "  background-color: #3f8fc5;\n",
       "  color: #f1f1f1;\n",
       "}\n",
       "#T_b064d_row3_col8 {\n",
       "  background-color: #2a7ab9;\n",
       "  color: #f1f1f1;\n",
       "}\n",
       "#T_b064d_row4_col8 {\n",
       "  background-color: #f5f9fe;\n",
       "  color: #000000;\n",
       "}\n",
       "#T_b064d_row5_col4 {\n",
       "  background-color: #000000;\n",
       "  color: #f1f1f1;\n",
       "}\n",
       "#T_b064d_row5_col8 {\n",
       "  background-color: #f4f9fe;\n",
       "  color: #000000;\n",
       "}\n",
       "#T_b064d_row6_col8 {\n",
       "  background-color: #2f7fbc;\n",
       "  color: #f1f1f1;\n",
       "}\n",
       "#T_b064d_row7_col6, #T_b064d_row9_col1 {\n",
       "  background-color: #6aaed6;\n",
       "  color: #f1f1f1;\n",
       "}\n",
       "#T_b064d_row7_col8 {\n",
       "  background-color: #cddff1;\n",
       "  color: #000000;\n",
       "}\n",
       "#T_b064d_row8_col4 {\n",
       "  background-color: #72b2d8;\n",
       "  color: #f1f1f1;\n",
       "}\n",
       "#T_b064d_row8_col8 {\n",
       "  background-color: #ebf3fb;\n",
       "  color: #000000;\n",
       "}\n",
       "#T_b064d_row9_col4 {\n",
       "  background-color: #caddf0;\n",
       "  color: #000000;\n",
       "}\n",
       "#T_b064d_row9_col8 {\n",
       "  background-color: #a4cce3;\n",
       "  color: #000000;\n",
       "}\n",
       "</style>\n",
       "<table id=\"T_b064d\">\n",
       "  <thead>\n",
       "    <tr>\n",
       "      <th class=\"blank level0\" >&nbsp;</th>\n",
       "      <th id=\"T_b064d_level0_col0\" class=\"col_heading level0 col0\" >Survived</th>\n",
       "      <th id=\"T_b064d_level0_col1\" class=\"col_heading level0 col1\" >Pclass</th>\n",
       "      <th id=\"T_b064d_level0_col2\" class=\"col_heading level0 col2\" >Name</th>\n",
       "      <th id=\"T_b064d_level0_col3\" class=\"col_heading level0 col3\" >Sex</th>\n",
       "      <th id=\"T_b064d_level0_col4\" class=\"col_heading level0 col4\" >Age</th>\n",
       "      <th id=\"T_b064d_level0_col5\" class=\"col_heading level0 col5\" >SibSp</th>\n",
       "      <th id=\"T_b064d_level0_col6\" class=\"col_heading level0 col6\" >Parch</th>\n",
       "      <th id=\"T_b064d_level0_col7\" class=\"col_heading level0 col7\" >Ticket</th>\n",
       "      <th id=\"T_b064d_level0_col8\" class=\"col_heading level0 col8\" >Fare</th>\n",
       "      <th id=\"T_b064d_level0_col9\" class=\"col_heading level0 col9\" >Cabin</th>\n",
       "      <th id=\"T_b064d_level0_col10\" class=\"col_heading level0 col10\" >Embarked</th>\n",
       "    </tr>\n",
       "    <tr>\n",
       "      <th class=\"index_name level0\" >PassengerId</th>\n",
       "      <th class=\"blank col0\" >&nbsp;</th>\n",
       "      <th class=\"blank col1\" >&nbsp;</th>\n",
       "      <th class=\"blank col2\" >&nbsp;</th>\n",
       "      <th class=\"blank col3\" >&nbsp;</th>\n",
       "      <th class=\"blank col4\" >&nbsp;</th>\n",
       "      <th class=\"blank col5\" >&nbsp;</th>\n",
       "      <th class=\"blank col6\" >&nbsp;</th>\n",
       "      <th class=\"blank col7\" >&nbsp;</th>\n",
       "      <th class=\"blank col8\" >&nbsp;</th>\n",
       "      <th class=\"blank col9\" >&nbsp;</th>\n",
       "      <th class=\"blank col10\" >&nbsp;</th>\n",
       "    </tr>\n",
       "  </thead>\n",
       "  <tbody>\n",
       "    <tr>\n",
       "      <th id=\"T_b064d_level0_row0\" class=\"row_heading level0 row0\" >1</th>\n",
       "      <td id=\"T_b064d_row0_col0\" class=\"data row0 col0\" >0.000000</td>\n",
       "      <td id=\"T_b064d_row0_col1\" class=\"data row0 col1\" >3</td>\n",
       "      <td id=\"T_b064d_row0_col2\" class=\"data row0 col2\" >Braund, Mr. Owen Harris</td>\n",
       "      <td id=\"T_b064d_row0_col3\" class=\"data row0 col3\" >male</td>\n",
       "      <td id=\"T_b064d_row0_col4\" class=\"data row0 col4\" >22.000000</td>\n",
       "      <td id=\"T_b064d_row0_col5\" class=\"data row0 col5\" >1</td>\n",
       "      <td id=\"T_b064d_row0_col6\" class=\"data row0 col6\" >0</td>\n",
       "      <td id=\"T_b064d_row0_col7\" class=\"data row0 col7\" >A/5 21171</td>\n",
       "      <td id=\"T_b064d_row0_col8\" class=\"data row0 col8\" >7.250000</td>\n",
       "      <td id=\"T_b064d_row0_col9\" class=\"data row0 col9\" >nan</td>\n",
       "      <td id=\"T_b064d_row0_col10\" class=\"data row0 col10\" >S</td>\n",
       "    </tr>\n",
       "    <tr>\n",
       "      <th id=\"T_b064d_level0_row1\" class=\"row_heading level0 row1\" >2</th>\n",
       "      <td id=\"T_b064d_row1_col0\" class=\"data row1 col0\" >1.000000</td>\n",
       "      <td id=\"T_b064d_row1_col1\" class=\"data row1 col1\" >1</td>\n",
       "      <td id=\"T_b064d_row1_col2\" class=\"data row1 col2\" >Cumings, Mrs. John Bradley (Florence Briggs Thayer)</td>\n",
       "      <td id=\"T_b064d_row1_col3\" class=\"data row1 col3\" >female</td>\n",
       "      <td id=\"T_b064d_row1_col4\" class=\"data row1 col4\" >38.000000</td>\n",
       "      <td id=\"T_b064d_row1_col5\" class=\"data row1 col5\" >1</td>\n",
       "      <td id=\"T_b064d_row1_col6\" class=\"data row1 col6\" >0</td>\n",
       "      <td id=\"T_b064d_row1_col7\" class=\"data row1 col7\" >PC 17599</td>\n",
       "      <td id=\"T_b064d_row1_col8\" class=\"data row1 col8\" >71.283300</td>\n",
       "      <td id=\"T_b064d_row1_col9\" class=\"data row1 col9\" >C85</td>\n",
       "      <td id=\"T_b064d_row1_col10\" class=\"data row1 col10\" >C</td>\n",
       "    </tr>\n",
       "    <tr>\n",
       "      <th id=\"T_b064d_level0_row2\" class=\"row_heading level0 row2\" >3</th>\n",
       "      <td id=\"T_b064d_row2_col0\" class=\"data row2 col0\" >1.000000</td>\n",
       "      <td id=\"T_b064d_row2_col1\" class=\"data row2 col1\" >3</td>\n",
       "      <td id=\"T_b064d_row2_col2\" class=\"data row2 col2\" >Heikkinen, Miss. Laina</td>\n",
       "      <td id=\"T_b064d_row2_col3\" class=\"data row2 col3\" >female</td>\n",
       "      <td id=\"T_b064d_row2_col4\" class=\"data row2 col4\" >26.000000</td>\n",
       "      <td id=\"T_b064d_row2_col5\" class=\"data row2 col5\" >0</td>\n",
       "      <td id=\"T_b064d_row2_col6\" class=\"data row2 col6\" >0</td>\n",
       "      <td id=\"T_b064d_row2_col7\" class=\"data row2 col7\" >STON/O2. 3101282</td>\n",
       "      <td id=\"T_b064d_row2_col8\" class=\"data row2 col8\" >7.925000</td>\n",
       "      <td id=\"T_b064d_row2_col9\" class=\"data row2 col9\" >nan</td>\n",
       "      <td id=\"T_b064d_row2_col10\" class=\"data row2 col10\" >S</td>\n",
       "    </tr>\n",
       "    <tr>\n",
       "      <th id=\"T_b064d_level0_row3\" class=\"row_heading level0 row3\" >4</th>\n",
       "      <td id=\"T_b064d_row3_col0\" class=\"data row3 col0\" >1.000000</td>\n",
       "      <td id=\"T_b064d_row3_col1\" class=\"data row3 col1\" >1</td>\n",
       "      <td id=\"T_b064d_row3_col2\" class=\"data row3 col2\" >Futrelle, Mrs. Jacques Heath (Lily May Peel)</td>\n",
       "      <td id=\"T_b064d_row3_col3\" class=\"data row3 col3\" >female</td>\n",
       "      <td id=\"T_b064d_row3_col4\" class=\"data row3 col4\" >35.000000</td>\n",
       "      <td id=\"T_b064d_row3_col5\" class=\"data row3 col5\" >1</td>\n",
       "      <td id=\"T_b064d_row3_col6\" class=\"data row3 col6\" >0</td>\n",
       "      <td id=\"T_b064d_row3_col7\" class=\"data row3 col7\" >113803</td>\n",
       "      <td id=\"T_b064d_row3_col8\" class=\"data row3 col8\" >53.100000</td>\n",
       "      <td id=\"T_b064d_row3_col9\" class=\"data row3 col9\" >C123</td>\n",
       "      <td id=\"T_b064d_row3_col10\" class=\"data row3 col10\" >S</td>\n",
       "    </tr>\n",
       "    <tr>\n",
       "      <th id=\"T_b064d_level0_row4\" class=\"row_heading level0 row4\" >5</th>\n",
       "      <td id=\"T_b064d_row4_col0\" class=\"data row4 col0\" >0.000000</td>\n",
       "      <td id=\"T_b064d_row4_col1\" class=\"data row4 col1\" >3</td>\n",
       "      <td id=\"T_b064d_row4_col2\" class=\"data row4 col2\" >Allen, Mr. William Henry</td>\n",
       "      <td id=\"T_b064d_row4_col3\" class=\"data row4 col3\" >male</td>\n",
       "      <td id=\"T_b064d_row4_col4\" class=\"data row4 col4\" >35.000000</td>\n",
       "      <td id=\"T_b064d_row4_col5\" class=\"data row4 col5\" >0</td>\n",
       "      <td id=\"T_b064d_row4_col6\" class=\"data row4 col6\" >0</td>\n",
       "      <td id=\"T_b064d_row4_col7\" class=\"data row4 col7\" >373450</td>\n",
       "      <td id=\"T_b064d_row4_col8\" class=\"data row4 col8\" >8.050000</td>\n",
       "      <td id=\"T_b064d_row4_col9\" class=\"data row4 col9\" >nan</td>\n",
       "      <td id=\"T_b064d_row4_col10\" class=\"data row4 col10\" >S</td>\n",
       "    </tr>\n",
       "    <tr>\n",
       "      <th id=\"T_b064d_level0_row5\" class=\"row_heading level0 row5\" >6</th>\n",
       "      <td id=\"T_b064d_row5_col0\" class=\"data row5 col0\" >0.000000</td>\n",
       "      <td id=\"T_b064d_row5_col1\" class=\"data row5 col1\" >3</td>\n",
       "      <td id=\"T_b064d_row5_col2\" class=\"data row5 col2\" >Moran, Mr. James</td>\n",
       "      <td id=\"T_b064d_row5_col3\" class=\"data row5 col3\" >male</td>\n",
       "      <td id=\"T_b064d_row5_col4\" class=\"data row5 col4\" >nan</td>\n",
       "      <td id=\"T_b064d_row5_col5\" class=\"data row5 col5\" >0</td>\n",
       "      <td id=\"T_b064d_row5_col6\" class=\"data row5 col6\" >0</td>\n",
       "      <td id=\"T_b064d_row5_col7\" class=\"data row5 col7\" >330877</td>\n",
       "      <td id=\"T_b064d_row5_col8\" class=\"data row5 col8\" >8.458300</td>\n",
       "      <td id=\"T_b064d_row5_col9\" class=\"data row5 col9\" >nan</td>\n",
       "      <td id=\"T_b064d_row5_col10\" class=\"data row5 col10\" >Q</td>\n",
       "    </tr>\n",
       "    <tr>\n",
       "      <th id=\"T_b064d_level0_row6\" class=\"row_heading level0 row6\" >7</th>\n",
       "      <td id=\"T_b064d_row6_col0\" class=\"data row6 col0\" >0.000000</td>\n",
       "      <td id=\"T_b064d_row6_col1\" class=\"data row6 col1\" >1</td>\n",
       "      <td id=\"T_b064d_row6_col2\" class=\"data row6 col2\" >McCarthy, Mr. Timothy J</td>\n",
       "      <td id=\"T_b064d_row6_col3\" class=\"data row6 col3\" >male</td>\n",
       "      <td id=\"T_b064d_row6_col4\" class=\"data row6 col4\" >54.000000</td>\n",
       "      <td id=\"T_b064d_row6_col5\" class=\"data row6 col5\" >0</td>\n",
       "      <td id=\"T_b064d_row6_col6\" class=\"data row6 col6\" >0</td>\n",
       "      <td id=\"T_b064d_row6_col7\" class=\"data row6 col7\" >17463</td>\n",
       "      <td id=\"T_b064d_row6_col8\" class=\"data row6 col8\" >51.862500</td>\n",
       "      <td id=\"T_b064d_row6_col9\" class=\"data row6 col9\" >E46</td>\n",
       "      <td id=\"T_b064d_row6_col10\" class=\"data row6 col10\" >S</td>\n",
       "    </tr>\n",
       "    <tr>\n",
       "      <th id=\"T_b064d_level0_row7\" class=\"row_heading level0 row7\" >8</th>\n",
       "      <td id=\"T_b064d_row7_col0\" class=\"data row7 col0\" >0.000000</td>\n",
       "      <td id=\"T_b064d_row7_col1\" class=\"data row7 col1\" >3</td>\n",
       "      <td id=\"T_b064d_row7_col2\" class=\"data row7 col2\" >Palsson, Master. Gosta Leonard</td>\n",
       "      <td id=\"T_b064d_row7_col3\" class=\"data row7 col3\" >male</td>\n",
       "      <td id=\"T_b064d_row7_col4\" class=\"data row7 col4\" >2.000000</td>\n",
       "      <td id=\"T_b064d_row7_col5\" class=\"data row7 col5\" >3</td>\n",
       "      <td id=\"T_b064d_row7_col6\" class=\"data row7 col6\" >1</td>\n",
       "      <td id=\"T_b064d_row7_col7\" class=\"data row7 col7\" >349909</td>\n",
       "      <td id=\"T_b064d_row7_col8\" class=\"data row7 col8\" >21.075000</td>\n",
       "      <td id=\"T_b064d_row7_col9\" class=\"data row7 col9\" >nan</td>\n",
       "      <td id=\"T_b064d_row7_col10\" class=\"data row7 col10\" >S</td>\n",
       "    </tr>\n",
       "    <tr>\n",
       "      <th id=\"T_b064d_level0_row8\" class=\"row_heading level0 row8\" >9</th>\n",
       "      <td id=\"T_b064d_row8_col0\" class=\"data row8 col0\" >1.000000</td>\n",
       "      <td id=\"T_b064d_row8_col1\" class=\"data row8 col1\" >3</td>\n",
       "      <td id=\"T_b064d_row8_col2\" class=\"data row8 col2\" >Johnson, Mrs. Oscar W (Elisabeth Vilhelmina Berg)</td>\n",
       "      <td id=\"T_b064d_row8_col3\" class=\"data row8 col3\" >female</td>\n",
       "      <td id=\"T_b064d_row8_col4\" class=\"data row8 col4\" >27.000000</td>\n",
       "      <td id=\"T_b064d_row8_col5\" class=\"data row8 col5\" >0</td>\n",
       "      <td id=\"T_b064d_row8_col6\" class=\"data row8 col6\" >2</td>\n",
       "      <td id=\"T_b064d_row8_col7\" class=\"data row8 col7\" >347742</td>\n",
       "      <td id=\"T_b064d_row8_col8\" class=\"data row8 col8\" >11.133300</td>\n",
       "      <td id=\"T_b064d_row8_col9\" class=\"data row8 col9\" >nan</td>\n",
       "      <td id=\"T_b064d_row8_col10\" class=\"data row8 col10\" >S</td>\n",
       "    </tr>\n",
       "    <tr>\n",
       "      <th id=\"T_b064d_level0_row9\" class=\"row_heading level0 row9\" >10</th>\n",
       "      <td id=\"T_b064d_row9_col0\" class=\"data row9 col0\" >1.000000</td>\n",
       "      <td id=\"T_b064d_row9_col1\" class=\"data row9 col1\" >2</td>\n",
       "      <td id=\"T_b064d_row9_col2\" class=\"data row9 col2\" >Nasser, Mrs. Nicholas (Adele Achem)</td>\n",
       "      <td id=\"T_b064d_row9_col3\" class=\"data row9 col3\" >female</td>\n",
       "      <td id=\"T_b064d_row9_col4\" class=\"data row9 col4\" >14.000000</td>\n",
       "      <td id=\"T_b064d_row9_col5\" class=\"data row9 col5\" >1</td>\n",
       "      <td id=\"T_b064d_row9_col6\" class=\"data row9 col6\" >0</td>\n",
       "      <td id=\"T_b064d_row9_col7\" class=\"data row9 col7\" >237736</td>\n",
       "      <td id=\"T_b064d_row9_col8\" class=\"data row9 col8\" >30.070800</td>\n",
       "      <td id=\"T_b064d_row9_col9\" class=\"data row9 col9\" >nan</td>\n",
       "      <td id=\"T_b064d_row9_col10\" class=\"data row9 col10\" >C</td>\n",
       "    </tr>\n",
       "  </tbody>\n",
       "</table>\n"
      ],
      "text/plain": [
       "<pandas.io.formats.style.Styler at 0x7c114ecfd900>"
      ]
     },
     "execution_count": 119,
     "metadata": {},
     "output_type": "execute_result"
    }
   ],
   "source": [
    "df_tr = pd.read_csv(f\"train.csv\").set_index(\"PassengerId\", drop=True)\n",
    "df_ts = pd.read_csv(f\"test.csv\").set_index(\"PassengerId\", drop=True)\n",
    "df = pd.concat([df_tr, df_ts], axis=0)\n",
    "df.head(10).style.background_gradient(cmap='Blues')"
   ]
  },
  {
   "cell_type": "code",
   "execution_count": 120,
   "id": "e2ba4d0f",
   "metadata": {},
   "outputs": [
    {
     "data": {
      "text/plain": [
       "<Axes: >"
      ]
     },
     "execution_count": 120,
     "metadata": {},
     "output_type": "execute_result"
    },
    {
     "data": {
      "image/png": "[encoded data removed]",
      "text/plain": [
       "<Figure size 3000x200 with 3 Axes>"
      ]
     },
     "metadata": {},
     "output_type": "display_data"
    }
   ],
   "source": [
    "msno.bar(df, figsize=(30,2))"
   ]
  },
  {
   "cell_type": "code",
   "execution_count": 121,
   "id": "5efbe666",
   "metadata": {},
   "outputs": [
    {
     "data": {
      "text/html": [
       "<div>\n",
       "<style scoped>\n",
       "    .dataframe tbody tr th:only-of-type {\n",
       "        vertical-align: middle;\n",
       "    }\n",
       "\n",
       "    .dataframe tbody tr th {\n",
       "        vertical-align: top;\n",
       "    }\n",
       "\n",
       "    .dataframe thead th {\n",
       "        text-align: right;\n",
       "    }\n",
       "</style>\n",
       "<table border=\"1\" class=\"dataframe\">\n",
       "  <thead>\n",
       "    <tr style=\"text-align: right;\">\n",
       "      <th></th>\n",
       "      <th>Survived</th>\n",
       "      <th>Pclass</th>\n",
       "      <th>Age</th>\n",
       "      <th>SibSp</th>\n",
       "      <th>Parch</th>\n",
       "      <th>Fare</th>\n",
       "    </tr>\n",
       "  </thead>\n",
       "  <tbody>\n",
       "    <tr>\n",
       "      <th>count</th>\n",
       "      <td>891.000000</td>\n",
       "      <td>1309.000000</td>\n",
       "      <td>1046.000000</td>\n",
       "      <td>1309.000000</td>\n",
       "      <td>1309.000000</td>\n",
       "      <td>1308.000000</td>\n",
       "    </tr>\n",
       "    <tr>\n",
       "      <th>mean</th>\n",
       "      <td>0.383838</td>\n",
       "      <td>2.294882</td>\n",
       "      <td>29.881138</td>\n",
       "      <td>0.498854</td>\n",
       "      <td>0.385027</td>\n",
       "      <td>33.295479</td>\n",
       "    </tr>\n",
       "    <tr>\n",
       "      <th>std</th>\n",
       "      <td>0.486592</td>\n",
       "      <td>0.837836</td>\n",
       "      <td>14.413493</td>\n",
       "      <td>1.041658</td>\n",
       "      <td>0.865560</td>\n",
       "      <td>51.758668</td>\n",
       "    </tr>\n",
       "    <tr>\n",
       "      <th>min</th>\n",
       "      <td>0.000000</td>\n",
       "      <td>1.000000</td>\n",
       "      <td>0.170000</td>\n",
       "      <td>0.000000</td>\n",
       "      <td>0.000000</td>\n",
       "      <td>0.000000</td>\n",
       "    </tr>\n",
       "    <tr>\n",
       "      <th>25%</th>\n",
       "      <td>0.000000</td>\n",
       "      <td>2.000000</td>\n",
       "      <td>21.000000</td>\n",
       "      <td>0.000000</td>\n",
       "      <td>0.000000</td>\n",
       "      <td>7.895800</td>\n",
       "    </tr>\n",
       "    <tr>\n",
       "      <th>50%</th>\n",
       "      <td>0.000000</td>\n",
       "      <td>3.000000</td>\n",
       "      <td>28.000000</td>\n",
       "      <td>0.000000</td>\n",
       "      <td>0.000000</td>\n",
       "      <td>14.454200</td>\n",
       "    </tr>\n",
       "    <tr>\n",
       "      <th>75%</th>\n",
       "      <td>1.000000</td>\n",
       "      <td>3.000000</td>\n",
       "      <td>39.000000</td>\n",
       "      <td>1.000000</td>\n",
       "      <td>0.000000</td>\n",
       "      <td>31.275000</td>\n",
       "    </tr>\n",
       "    <tr>\n",
       "      <th>max</th>\n",
       "      <td>1.000000</td>\n",
       "      <td>3.000000</td>\n",
       "      <td>80.000000</td>\n",
       "      <td>8.000000</td>\n",
       "      <td>9.000000</td>\n",
       "      <td>512.329200</td>\n",
       "    </tr>\n",
       "  </tbody>\n",
       "</table>\n",
       "</div>"
      ],
      "text/plain": [
       "         Survived       Pclass          Age        SibSp        Parch         Fare\n",
       "count  891.000000  1309.000000  1046.000000  1309.000000  1309.000000  1308.000000\n",
       "mean     0.383838     2.294882    29.881138     0.498854     0.385027    33.295479\n",
       "std      0.486592     0.837836    14.413493     1.041658     0.865560    51.758668\n",
       "min      0.000000     1.000000     0.170000     0.000000     0.000000     0.000000\n",
       "25%      0.000000     2.000000    21.000000     0.000000     0.000000     7.895800\n",
       "50%      0.000000     3.000000    28.000000     0.000000     0.000000    14.454200\n",
       "75%      1.000000     3.000000    39.000000     1.000000     0.000000    31.275000\n",
       "max      1.000000     3.000000    80.000000     8.000000     9.000000   512.329200"
      ]
     },
     "execution_count": 121,
     "metadata": {},
     "output_type": "execute_result"
    }
   ],
   "source": [
    "df.describe()"
   ]
  },
  {
   "cell_type": "code",
   "execution_count": 122,
   "id": "07a45292",
   "metadata": {},
   "outputs": [
    {
     "data": {
      "text/html": [
       "<div>\n",
       "<style scoped>\n",
       "    .dataframe tbody tr th:only-of-type {\n",
       "        vertical-align: middle;\n",
       "    }\n",
       "\n",
       "    .dataframe tbody tr th {\n",
       "        vertical-align: top;\n",
       "    }\n",
       "\n",
       "    .dataframe thead th {\n",
       "        text-align: right;\n",
       "    }\n",
       "</style>\n",
       "<table border=\"1\" class=\"dataframe\">\n",
       "  <thead>\n",
       "    <tr style=\"text-align: right;\">\n",
       "      <th></th>\n",
       "      <th>Name</th>\n",
       "      <th>Sex</th>\n",
       "      <th>Ticket</th>\n",
       "      <th>Cabin</th>\n",
       "      <th>Embarked</th>\n",
       "    </tr>\n",
       "  </thead>\n",
       "  <tbody>\n",
       "    <tr>\n",
       "      <th>count</th>\n",
       "      <td>1309</td>\n",
       "      <td>1309</td>\n",
       "      <td>1309</td>\n",
       "      <td>295</td>\n",
       "      <td>1307</td>\n",
       "    </tr>\n",
       "    <tr>\n",
       "      <th>unique</th>\n",
       "      <td>1307</td>\n",
       "      <td>2</td>\n",
       "      <td>929</td>\n",
       "      <td>186</td>\n",
       "      <td>3</td>\n",
       "    </tr>\n",
       "    <tr>\n",
       "      <th>top</th>\n",
       "      <td>Kelly, Mr. James</td>\n",
       "      <td>male</td>\n",
       "      <td>CA. 2343</td>\n",
       "      <td>C23 C25 C27</td>\n",
       "      <td>S</td>\n",
       "    </tr>\n",
       "    <tr>\n",
       "      <th>freq</th>\n",
       "      <td>2</td>\n",
       "      <td>843</td>\n",
       "      <td>11</td>\n",
       "      <td>6</td>\n",
       "      <td>914</td>\n",
       "    </tr>\n",
       "  </tbody>\n",
       "</table>\n",
       "</div>"
      ],
      "text/plain": [
       "                    Name   Sex    Ticket        Cabin Embarked\n",
       "count               1309  1309      1309          295     1307\n",
       "unique              1307     2       929          186        3\n",
       "top     Kelly, Mr. James  male  CA. 2343  C23 C25 C27        S\n",
       "freq                   2   843        11            6      914"
      ]
     },
     "execution_count": 122,
     "metadata": {},
     "output_type": "execute_result"
    }
   ],
   "source": [
    "df.describe(include='object')"
   ]
  },
  {
   "cell_type": "markdown",
   "id": "78de5a60",
   "metadata": {},
   "source": [
    "<iframe src=\"https://www.kaggle.com/embed/nikitakudriashov/top-1-titanic-solution?cellIds=8&kernelSessionId=100522922\" height=\"300\" style=\"margin: 0 auto; width: 100%; max-width: 950px;\" frameborder=\"0\" scrolling=\"auto\" title=\"Top 1% Titanic solution\"></iframe>"
   ]
  },
  {
   "cell_type": "markdown",
   "id": "3a91adc1",
   "metadata": {},
   "source": [
    "<iframe src=\"https://www.kaggle.com/embed/nikitakudriashov/top-1-titanic-solution?cellIds=9&kernelSessionId=100522922\" height=\"300\" style=\"margin: 0 auto; width: 100%; max-width: 950px;\" frameborder=\"0\" scrolling=\"auto\" title=\"Top 1% Titanic solution\"></iframe>"
   ]
  },
  {
   "cell_type": "code",
   "execution_count": 123,
   "id": "9fb058e6",
   "metadata": {},
   "outputs": [
    {
     "name": "stdout",
     "output_type": "stream",
     "text": [
      "All Deck descriptors:\n",
      "{'E', 'C', 'N/A', 'F', 'T', 'G', 'A', 'B', 'D'}\n"
     ]
    }
   ],
   "source": [
    "df[\"Deck\"] = df[\"Cabin\"].str[:1]\n",
    "df[\"Deck\"] = df[\"Deck\"].replace(np.nan,\"N/A\")\n",
    "print(\"All Deck descriptors:\")\n",
    "print(set(df[\"Deck\"].values))"
   ]
  },
  {
   "cell_type": "code",
   "execution_count": 124,
   "id": "1ed80d77",
   "metadata": {},
   "outputs": [
    {
     "data": {
      "application/vnd.plotly.v1+json": {
       "config": {
        "plotlyServerURL": "https://plot.ly"
       },
       "data": [
        {
         "bingroup": "x",
         "hovertemplate": "Survived=1.0<br>Deck=%{x}<br>count=%{y}<extra></extra>",
         "legendgroup": "1.0",
         "marker": {
          "color": "#273176",
          "pattern": {
           "shape": ""
          }
         },
         "name": "1.0",
         "orientation": "v",
         "showlegend": true,
         "type": "histogram",
         "x": [
          "C",
          "C",
          "G",
          "C",
          "D",
          "A",
          "B",
          "D",
          "C",
          "B",
          "F",
          "C",
          "D",
          "E",
          "F",
          "D",
          "C",
          "E",
          "F",
          "F",
          "B",
          "B",
          "A",
          "D",
          "D",
          "C",
          "C",
          "D",
          "B",
          "C",
          "C",
          "D",
          "B",
          "C",
          "B",
          "E",
          "C",
          "C",
          "E",
          "C",
          "B",
          "C",
          "E",
          "C",
          "D",
          "B",
          "E",
          "F",
          "C",
          "F",
          "E",
          "D",
          "B",
          "E",
          "B",
          "D",
          "G",
          "C",
          "E",
          "C",
          "B",
          "A",
          "C",
          "C",
          "D",
          "E",
          "D",
          "B",
          "C",
          "D",
          "B",
          "E",
          "F",
          "B",
          "B",
          "B",
          "B",
          "C",
          "A",
          "E",
          "C",
          "E",
          "E",
          "C",
          "E",
          "B",
          "D",
          "A",
          "C",
          "F",
          "D",
          "D",
          "A",
          "B",
          "B",
          "D",
          "A",
          "C",
          "B",
          "D",
          "B",
          "B",
          "C",
          "E",
          "E",
          "C",
          "C",
          "C",
          "E",
          "E",
          "B",
          "B",
          "D",
          "B",
          "E",
          "B",
          "B",
          "D",
          "B",
          "B",
          "D",
          "B",
          "E",
          "B",
          "E",
          "B",
          "E",
          "C",
          "C",
          "D",
          "E",
          "D",
          "D",
          "C",
          "B",
          "C"
         ],
         "xaxis": "x",
         "yaxis": "y"
        },
        {
         "bingroup": "x",
         "hovertemplate": "Survived=0.0<br>Deck=%{x}<br>count=%{y}<extra></extra>",
         "legendgroup": "0.0",
         "marker": {
          "color": "#3B61A3",
          "pattern": {
           "shape": ""
          }
         },
         "name": "0.0",
         "orientation": "v",
         "showlegend": true,
         "type": "histogram",
         "x": [
          "E",
          "C",
          "B",
          "C",
          "F",
          "E",
          "A",
          "D",
          "C",
          "B",
          "D",
          "C",
          "B",
          "F",
          "B",
          "A",
          "C",
          "A",
          "G",
          "C",
          "G",
          "C",
          "E",
          "B",
          "C",
          "A",
          "D",
          "C",
          "C",
          "C",
          "C",
          "T",
          "C",
          "C",
          "E",
          "C",
          "C",
          "E",
          "E",
          "A",
          "B",
          "C",
          "C",
          "C",
          "D",
          "C",
          "B",
          "C",
          "A",
          "D",
          "D",
          "E",
          "B",
          "C",
          "F",
          "C",
          "F",
          "C",
          "B",
          "D",
          "E",
          "F",
          "D",
          "B",
          "A",
          "B",
          "A",
          "B"
         ],
         "xaxis": "x",
         "yaxis": "y"
        },
        {
         "bingroup": "x",
         "hovertemplate": "Survived=nan<br>Deck=%{x}<br>count=%{y}<extra></extra>",
         "legendgroup": "nan",
         "marker": {
          "color": "#76A4AC",
          "pattern": {
           "shape": ""
          }
         },
         "name": "nan",
         "orientation": "v",
         "showlegend": true,
         "type": "histogram",
         "x": [
          "B",
          "E",
          "B",
          "B",
          "A",
          "C",
          "D",
          "D",
          "A",
          "D",
          "C",
          "C",
          "F",
          "B",
          "B",
          "C",
          "C",
          "D",
          "C",
          "C",
          "C",
          "C",
          "B",
          "C",
          "C",
          "F",
          "A",
          "C",
          "G",
          "C",
          "C",
          "C",
          "B",
          "E",
          "C",
          "C",
          "D",
          "B",
          "C",
          "F",
          "E",
          "E",
          "D",
          "B",
          "E",
          "C",
          "A",
          "B",
          "C",
          "F",
          "C",
          "D",
          "C",
          "E",
          "D",
          "C",
          "C",
          "C",
          "B",
          "F",
          "A",
          "D",
          "B",
          "C",
          "B",
          "C",
          "B",
          "F",
          "F",
          "F",
          "A",
          "C",
          "B",
          "D",
          "E",
          "C",
          "E",
          "E",
          "B",
          "A",
          "C",
          "B",
          "D",
          "C",
          "B",
          "C",
          "D",
          "D",
          "C",
          "C",
          "C"
         ],
         "xaxis": "x",
         "yaxis": "y"
        }
       ],
       "layout": {
        "barmode": "relative",
        "legend": {
         "title": {
          "text": "Survived"
         },
         "tracegroupgap": 0
        },
        "margin": {
         "t": 60
        },
        "template": {
         "data": {
          "bar": [
           {
            "error_x": {
             "color": "#2a3f5f"
            },
            "error_y": {
             "color": "#2a3f5f"
            },
            "marker": {
             "line": {
              "color": "#E5ECF6",
              "width": 0.5
             },
             "pattern": {
              "fillmode": "overlay",
              "size": 10,
              "solidity": 0.2
             }
            },
            "type": "bar"
           }
          ],
          "barpolar": [
           {
            "marker": {
             "line": {
              "color": "#E5ECF6",
              "width": 0.5
             },
             "pattern": {
              "fillmode": "overlay",
              "size": 10,
              "solidity": 0.2
             }
            },
            "type": "barpolar"
           }
          ],
          "carpet": [
           {
            "aaxis": {
             "endlinecolor": "#2a3f5f",
             "gridcolor": "white",
             "linecolor": "white",
             "minorgridcolor": "white",
             "startlinecolor": "#2a3f5f"
            },
            "baxis": {
             "endlinecolor": "#2a3f5f",
             "gridcolor": "white",
             "linecolor": "white",
             "minorgridcolor": "white",
             "startlinecolor": "#2a3f5f"
            },
            "type": "carpet"
           }
          ],
          "choropleth": [
           {
            "colorbar": {
             "outlinewidth": 0,
             "ticks": ""
            },
            "type": "choropleth"
           }
          ],
          "contour": [
           {
            "colorbar": {
             "outlinewidth": 0,
             "ticks": ""
            },
            "colorscale": [
             [
              0,
              "#0d0887"
             ],
             [
              0.1111111111111111,
              "#46039f"
             ],
             [
              0.2222222222222222,
              "#7201a8"
             ],
             [
              0.3333333333333333,
              "#9c179e"
             ],
             [
              0.4444444444444444,
              "#bd3786"
             ],
             [
              0.5555555555555556,
              "#d8576b"
             ],
             [
              0.6666666666666666,
              "#ed7953"
             ],
             [
              0.7777777777777778,
              "#fb9f3a"
             ],
             [
              0.8888888888888888,
              "#fdca26"
             ],
             [
              1,
              "#f0f921"
             ]
            ],
            "type": "contour"
           }
          ],
          "contourcarpet": [
           {
            "colorbar": {
             "outlinewidth": 0,
             "ticks": ""
            },
            "type": "contourcarpet"
           }
          ],
          "heatmap": [
           {
            "colorbar": {
             "outlinewidth": 0,
             "ticks": ""
            },
            "colorscale": [
             [
              0,
              "#0d0887"
             ],
             [
              0.1111111111111111,
              "#46039f"
             ],
             [
              0.2222222222222222,
              "#7201a8"
             ],
             [
              0.3333333333333333,
              "#9c179e"
             ],
             [
              0.4444444444444444,
              "#bd3786"
             ],
             [
              0.5555555555555556,
              "#d8576b"
             ],
             [
              0.6666666666666666,
              "#ed7953"
             ],
             [
              0.7777777777777778,
              "#fb9f3a"
             ],
             [
              0.8888888888888888,
              "#fdca26"
             ],
             [
              1,
              "#f0f921"
             ]
            ],
            "type": "heatmap"
           }
          ],
          "histogram": [
           {
            "marker": {
             "pattern": {
              "fillmode": "overlay",
              "size": 10,
              "solidity": 0.2
             }
            },
            "type": "histogram"
           }
          ],
          "histogram2d": [
           {
            "colorbar": {
             "outlinewidth": 0,
             "ticks": ""
            },
            "colorscale": [
             [
              0,
              "#0d0887"
             ],
             [
              0.1111111111111111,
              "#46039f"
             ],
             [
              0.2222222222222222,
              "#7201a8"
             ],
             [
              0.3333333333333333,
              "#9c179e"
             ],
             [
              0.4444444444444444,
              "#bd3786"
             ],
             [
              0.5555555555555556,
              "#d8576b"
             ],
             [
              0.6666666666666666,
              "#ed7953"
             ],
             [
              0.7777777777777778,
              "#fb9f3a"
             ],
             [
              0.8888888888888888,
              "#fdca26"
             ],
             [
              1,
              "#f0f921"
             ]
            ],
            "type": "histogram2d"
           }
          ],
          "histogram2dcontour": [
           {
            "colorbar": {
             "outlinewidth": 0,
             "ticks": ""
            },
            "colorscale": [
             [
              0,
              "#0d0887"
             ],
             [
              0.1111111111111111,
              "#46039f"
             ],
             [
              0.2222222222222222,
              "#7201a8"
             ],
             [
              0.3333333333333333,
              "#9c179e"
             ],
             [
              0.4444444444444444,
              "#bd3786"
             ],
             [
              0.5555555555555556,
              "#d8576b"
             ],
             [
              0.6666666666666666,
              "#ed7953"
             ],
             [
              0.7777777777777778,
              "#fb9f3a"
             ],
             [
              0.8888888888888888,
              "#fdca26"
             ],
             [
              1,
              "#f0f921"
             ]
            ],
            "type": "histogram2dcontour"
           }
          ],
          "mesh3d": [
           {
            "colorbar": {
             "outlinewidth": 0,
             "ticks": ""
            },
            "type": "mesh3d"
           }
          ],
          "parcoords": [
           {
            "line": {
             "colorbar": {
              "outlinewidth": 0,
              "ticks": ""
             }
            },
            "type": "parcoords"
           }
          ],
          "pie": [
           {
            "automargin": true,
            "type": "pie"
           }
          ],
          "scatter": [
           {
            "fillpattern": {
             "fillmode": "overlay",
             "size": 10,
             "solidity": 0.2
            },
            "type": "scatter"
           }
          ],
          "scatter3d": [
           {
            "line": {
             "colorbar": {
              "outlinewidth": 0,
              "ticks": ""
             }
            },
            "marker": {
             "colorbar": {
              "outlinewidth": 0,
              "ticks": ""
             }
            },
            "type": "scatter3d"
           }
          ],
          "scattercarpet": [
           {
            "marker": {
             "colorbar": {
              "outlinewidth": 0,
              "ticks": ""
             }
            },
            "type": "scattercarpet"
           }
          ],
          "scattergeo": [
           {
            "marker": {
             "colorbar": {
              "outlinewidth": 0,
              "ticks": ""
             }
            },
            "type": "scattergeo"
           }
          ],
          "scattergl": [
           {
            "marker": {
             "colorbar": {
              "outlinewidth": 0,
              "ticks": ""
             }
            },
            "type": "scattergl"
           }
          ],
          "scattermap": [
           {
            "marker": {
             "colorbar": {
              "outlinewidth": 0,
              "ticks": ""
             }
            },
            "type": "scattermap"
           }
          ],
          "scattermapbox": [
           {
            "marker": {
             "colorbar": {
              "outlinewidth": 0,
              "ticks": ""
             }
            },
            "type": "scattermapbox"
           }
          ],
          "scatterpolar": [
           {
            "marker": {
             "colorbar": {
              "outlinewidth": 0,
              "ticks": ""
             }
            },
            "type": "scatterpolar"
           }
          ],
          "scatterpolargl": [
           {
            "marker": {
             "colorbar": {
              "outlinewidth": 0,
              "ticks": ""
             }
            },
            "type": "scatterpolargl"
           }
          ],
          "scatterternary": [
           {
            "marker": {
             "colorbar": {
              "outlinewidth": 0,
              "ticks": ""
             }
            },
            "type": "scatterternary"
           }
          ],
          "surface": [
           {
            "colorbar": {
             "outlinewidth": 0,
             "ticks": ""
            },
            "colorscale": [
             [
              0,
              "#0d0887"
             ],
             [
              0.1111111111111111,
              "#46039f"
             ],
             [
              0.2222222222222222,
              "#7201a8"
             ],
             [
              0.3333333333333333,
              "#9c179e"
             ],
             [
              0.4444444444444444,
              "#bd3786"
             ],
             [
              0.5555555555555556,
              "#d8576b"
             ],
             [
              0.6666666666666666,
              "#ed7953"
             ],
             [
              0.7777777777777778,
              "#fb9f3a"
             ],
             [
              0.8888888888888888,
              "#fdca26"
             ],
             [
              1,
              "#f0f921"
             ]
            ],
            "type": "surface"
           }
          ],
          "table": [
           {
            "cells": {
             "fill": {
              "color": "#EBF0F8"
             },
             "line": {
              "color": "white"
             }
            },
            "header": {
             "fill": {
              "color": "#C8D4E3"
             },
             "line": {
              "color": "white"
             }
            },
            "type": "table"
           }
          ]
         },
         "layout": {
          "annotationdefaults": {
           "arrowcolor": "#2a3f5f",
           "arrowhead": 0,
           "arrowwidth": 1
          },
          "autotypenumbers": "strict",
          "coloraxis": {
           "colorbar": {
            "outlinewidth": 0,
            "ticks": ""
           }
          },
          "colorscale": {
           "diverging": [
            [
             0,
             "#8e0152"
            ],
            [
             0.1,
             "#c51b7d"
            ],
            [
             0.2,
             "#de77ae"
            ],
            [
             0.3,
             "#f1b6da"
            ],
            [
             0.4,
             "#fde0ef"
            ],
            [
             0.5,
             "#f7f7f7"
            ],
            [
             0.6,
             "#e6f5d0"
            ],
            [
             0.7,
             "#b8e186"
            ],
            [
             0.8,
             "#7fbc41"
            ],
            [
             0.9,
             "#4d9221"
            ],
            [
             1,
             "#276419"
            ]
           ],
           "sequential": [
            [
             0,
             "#0d0887"
            ],
            [
             0.1111111111111111,
             "#46039f"
            ],
            [
             0.2222222222222222,
             "#7201a8"
            ],
            [
             0.3333333333333333,
             "#9c179e"
            ],
            [
             0.4444444444444444,
             "#bd3786"
            ],
            [
             0.5555555555555556,
             "#d8576b"
            ],
            [
             0.6666666666666666,
             "#ed7953"
            ],
            [
             0.7777777777777778,
             "#fb9f3a"
            ],
            [
             0.8888888888888888,
             "#fdca26"
            ],
            [
             1,
             "#f0f921"
            ]
           ],
           "sequentialminus": [
            [
             0,
             "#0d0887"
            ],
            [
             0.1111111111111111,
             "#46039f"
            ],
            [
             0.2222222222222222,
             "#7201a8"
            ],
            [
             0.3333333333333333,
             "#9c179e"
            ],
            [
             0.4444444444444444,
             "#bd3786"
            ],
            [
             0.5555555555555556,
             "#d8576b"
            ],
            [
             0.6666666666666666,
             "#ed7953"
            ],
            [
             0.7777777777777778,
             "#fb9f3a"
            ],
            [
             0.8888888888888888,
             "#fdca26"
            ],
            [
             1,
             "#f0f921"
            ]
           ]
          },
          "colorway": [
           "#636efa",
           "#EF553B",
           "#00cc96",
           "#ab63fa",
           "#FFA15A",
           "#19d3f3",
           "#FF6692",
           "#B6E880",
           "#FF97FF",
           "#FECB52"
          ],
          "font": {
           "color": "#2a3f5f"
          },
          "geo": {
           "bgcolor": "white",
           "lakecolor": "white",
           "landcolor": "#E5ECF6",
           "showlakes": true,
           "showland": true,
           "subunitcolor": "white"
          },
          "hoverlabel": {
           "align": "left"
          },
          "hovermode": "closest",
          "mapbox": {
           "style": "light"
          },
          "paper_bgcolor": "white",
          "plot_bgcolor": "#E5ECF6",
          "polar": {
           "angularaxis": {
            "gridcolor": "white",
            "linecolor": "white",
            "ticks": ""
           },
           "bgcolor": "#E5ECF6",
           "radialaxis": {
            "gridcolor": "white",
            "linecolor": "white",
            "ticks": ""
           }
          },
          "scene": {
           "xaxis": {
            "backgroundcolor": "#E5ECF6",
            "gridcolor": "white",
            "gridwidth": 2,
            "linecolor": "white",
            "showbackground": true,
            "ticks": "",
            "zerolinecolor": "white"
           },
           "yaxis": {
            "backgroundcolor": "#E5ECF6",
            "gridcolor": "white",
            "gridwidth": 2,
            "linecolor": "white",
            "showbackground": true,
            "ticks": "",
            "zerolinecolor": "white"
           },
           "zaxis": {
            "backgroundcolor": "#E5ECF6",
            "gridcolor": "white",
            "gridwidth": 2,
            "linecolor": "white",
            "showbackground": true,
            "ticks": "",
            "zerolinecolor": "white"
           }
          },
          "shapedefaults": {
           "line": {
            "color": "#2a3f5f"
           }
          },
          "ternary": {
           "aaxis": {
            "gridcolor": "white",
            "linecolor": "white",
            "ticks": ""
           },
           "baxis": {
            "gridcolor": "white",
            "linecolor": "white",
            "ticks": ""
           },
           "bgcolor": "#E5ECF6",
           "caxis": {
            "gridcolor": "white",
            "linecolor": "white",
            "ticks": ""
           }
          },
          "title": {
           "x": 0.05
          },
          "xaxis": {
           "automargin": true,
           "gridcolor": "white",
           "linecolor": "white",
           "ticks": "",
           "title": {
            "standoff": 15
           },
           "zerolinecolor": "white",
           "zerolinewidth": 2
          },
          "yaxis": {
           "automargin": true,
           "gridcolor": "white",
           "linecolor": "white",
           "ticks": "",
           "title": {
            "standoff": 15
           },
           "zerolinecolor": "white",
           "zerolinewidth": 2
          }
         }
        },
        "xaxis": {
         "anchor": "y",
         "domain": [
          0,
          1
         ],
         "title": {
          "text": "Deck"
         }
        },
        "yaxis": {
         "anchor": "x",
         "domain": [
          0,
          1
         ],
         "title": {
          "text": "count"
         }
        }
       }
      }
     },
     "metadata": {},
     "output_type": "display_data"
    },
    {
     "data": {
      "image/png": "[encoded data removed]",
      "text/plain": [
       "<Figure size 640x480 with 1 Axes>"
      ]
     },
     "metadata": {},
     "output_type": "display_data"
    }
   ],
   "source": [
    "dfplt = df.copy()\n",
    "dfplt[\"Survived\"] = dfplt[\"Survived\"].astype(str)\n",
    "dfplt = dfplt[dfplt[\"Deck\"]!=\"N/A\"]\n",
    "fig = px.histogram(dfplt, x=\"Deck\",color=\"Survived\",\n",
    "                   color_discrete_sequence=cm)\n",
    "fig.show()\n",
    "\n",
    "df_count = dfplt.copy()['Deck'].value_counts().reset_index()\n",
    "df_temp = dfplt[dfplt['Survived'] == '1.0'].copy()['Deck'].value_counts().reset_index()\n",
    "df_temp.rename(columns={'count' : 'survivors'}, inplace=True)\n",
    "df_count = df_count.merge(df_temp, on='Deck', how='left')\n",
    "df_temp = dfplt[dfplt['Survived'] != '1.0'].copy()['Deck'].value_counts().reset_index()\n",
    "df_temp.rename(columns={'count' : 'dead'}, inplace=True)\n",
    "df_count = df_count.merge(df_temp, on='Deck', how='left')\n",
    "df_count['per_surv'] = df_count['survivors'] / df_count['count'] * 100\n",
    "\n",
    "plt.bar(x=df_count['Deck'], height=df_count['per_surv'], color=cm)\n",
    "plt.title(\"% De sobreviventes por Deck\")\n",
    "plt.show()"
   ]
  },
  {
   "cell_type": "markdown",
   "id": "4e307536",
   "metadata": {},
   "source": [
    "<iframe src=\"https://www.kaggle.com/embed/nikitakudriashov/top-1-titanic-solution?cellIds=12&kernelSessionId=100522922\" height=\"300\" style=\"margin: 0 auto; width: 100%; max-width: 950px;\" frameborder=\"0\" scrolling=\"auto\" title=\"Top 1% Titanic solution\"></iframe>"
   ]
  },
  {
   "cell_type": "code",
   "execution_count": 125,
   "id": "42f79edd",
   "metadata": {},
   "outputs": [],
   "source": [
    "df.loc[df[\"Deck\"]=='T',\"Deck\"] = 'N/A'"
   ]
  },
  {
   "cell_type": "code",
   "execution_count": 126,
   "id": "8f629c0f",
   "metadata": {},
   "outputs": [],
   "source": [
    "replaces = {'B51 B53 B55': 'B55', 'B52 B54 B56': 'B56', 'B57 B59 B63 B66': 'B66', 'B58 B60': 'B60', \n",
    "            'B82 B84': 'B84', 'B96 B98': 'B98', 'C22 C26': 'C26', 'C23 C25 C27': 'C27', 'C55 C57': 'C57',\n",
    "            'C62 C64': 'C64', 'D10 D12': 'D12', 'E39 E41': 'E41', 'F E46': 'E46', 'F E57': 'E57',\n",
    "            'F E69': 'E69', 'F G63': 'G63', 'F G73': 'G73', 'F': None, 'D': None, ' ': None, 'T': None, np.nan: None}\n",
    "df[\"Cabin\"] = df[\"Cabin\"].replace(replaces)\n",
    "df[\"Cabin\"] = df.fillna(np.nan)[\"Cabin\"].str[1:].astype(float)"
   ]
  },
  {
   "cell_type": "code",
   "execution_count": 127,
   "id": "a53426a7",
   "metadata": {},
   "outputs": [
    {
     "data": {
      "application/vnd.plotly.v1+json": {
       "config": {
        "plotlyServerURL": "https://plot.ly"
       },
       "data": [
        {
         "bingroup": "x",
         "hovertemplate": "Survived=0.0<br>Cabin=%{x}<br>count=%{y}<extra></extra>",
         "legendgroup": "0.0",
         "marker": {
          "color": "#273176",
          "pattern": {
           "shape": ""
          }
         },
         "name": "0.0",
         "orientation": "v",
         "showlegend": true,
         "type": "histogram",
         "x": {
          "bdata": "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",
          "dtype": "f8"
         },
         "xaxis": "x",
         "yaxis": "y"
        },
        {
         "bingroup": "x",
         "hovertemplate": "Survived=1.0<br>Cabin=%{x}<br>count=%{y}<extra></extra>",
         "legendgroup": "1.0",
         "marker": {
          "color": "#3B61A3",
          "pattern": {
           "shape": ""
          }
         },
         "name": "1.0",
         "orientation": "v",
         "showlegend": true,
         "type": "histogram",
         "x": {
          "bdata": "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",
          "dtype": "f8"
         },
         "xaxis": "x",
         "yaxis": "y"
        },
        {
         "bingroup": "x",
         "hovertemplate": "Survived=nan<br>Cabin=%{x}<br>count=%{y}<extra></extra>",
         "legendgroup": "nan",
         "marker": {
          "color": "#76A4AC",
          "pattern": {
           "shape": ""
          }
         },
         "name": "nan",
         "orientation": "v",
         "showlegend": true,
         "type": "histogram",
         "x": {
          "bdata": "AAAAAAAA+H8AAAAAAAD4fwAAAAAAAPh/AAAAAAAA+H8AAAAAAAD4fwAAAAAAAPh/AAAAAAAA+H8AAAAAAAD4fwAAAAAAAPh/AAAAAAAA+H8AAAAAAAD4fwAAAAAAAPh/AAAAAACARkAAAAAAAAD4fwAAAAAAAD9AAAAAAAAA+H8AAAAAAAD4fwAAAAAAAPh/AAAAAAAA+H8AAAAAAAD4fwAAAAAAAPh/AAAAAAAA+H8AAAAAAAD4fwAAAAAAAPh/AAAAAACAUEAAAAAAAAD4fwAAAAAAAEJAAAAAAAAA+H8AAAAAAAA1QAAAAAAAAPh/AAAAAAAA+H8AAAAAAAD4fwAAAAAAAPh/AAAAAAAA+H8AAAAAAIBTQAAAAAAAAPh/AAAAAAAA+H8AAAAAAAD4fwAAAAAAAPh/AAAAAAAA+H8AAAAAAAD4fwAAAAAAAEFAAAAAAAAA+H8AAAAAAAD4fwAAAAAAADNAAAAAAAAA+H8AAAAAAAAiQAAAAAAAAPh/AAAAAAAALkAAAAAAAAD4fwAAAAAAAD9AAAAAAAAA+H8AAAAAAAD4fwAAAAAAADtAAAAAAAAA+H8AAAAAAAD4fwAAAAAAAPh/AAAAAACAT0AAAAAAAAD4fwAAAAAAgE5AAAAAAAAA+H8AAAAAAAD4fwAAAAAAAPh/AAAAAAAA+H8AAAAAAIBQQAAAAAAAAPh/AAAAAAAA+H8AAAAAAAD4fwAAAAAAgEpAAAAAAAAAO0AAAAAAAAD4fwAAAAAAAPh/AAAAAAAA+H8AAAAAAIBFQAAAAAAAQGBAAAAAAACAYEAAAAAAAAD4fwAAAAAAQFlAAAAAAAAA+H8AAAAAAAD4fwAAAAAAAPh/AAAAAACATEAAAAAAAAD4fwAAAAAAAPh/AAAAAAAA+H8AAAAAAAD4fwAAAAAAAPh/AAAAAAAA+H8AAAAAAAD4fwAAAAAAAPh/AAAAAAAA+H8AAAAAAAD4fwAAAAAAwFFAAAAAAAAA+H8AAAAAAAD4fwAAAAAAAPh/AAAAAAAAR0AAAAAAAAD4fwAAAAAAAPh/AAAAAAAA+H8AAAAAAABdQAAAAAAAAPh/AAAAAAAA+H8AAAAAAAD4fwAAAAAAAPh/AAAAAAAA+H8AAAAAAAD4fwAAAAAAAPh/AAAAAAAA+H8AAAAAAAD4fwAAAAAAAPh/AAAAAAAA+H8AAAAAAAA9QAAAAAAAAPh/AAAAAACATEAAAAAAAAD4fwAAAAAAAPh/AAAAAAAAGEAAAAAAAAAYQAAAAAAAAPh/AAAAAAAA+H8AAAAAAAD4fwAAAAAAADxAAAAAAAAA+H8AAAAAAAD4fwAAAAAAAPh/AAAAAAAA+H8AAAAAAAD4fwAAAAAAAPh/AAAAAAAA+H8AAAAAAAD4fwAAAAAAgElAAAAAAAAA+H8AAAAAAAD4fwAAAAAAAPh/AAAAAAAA+H8AAAAAAAD4fwAAAAAAAPh/AAAAAAAA+H8AAAAAAAD4fwAAAAAAAPh/AAAAAAAA+H8AAAAAAIBQQAAAAAAAAPh/AAAAAAAA+H8AAAAAAAD4fwAAAAAAAEdAAAAAAAAA+H8AAAAAAAD4fwAAAAAAAPh/AAAAAAAAS0AAAAAAAAD4fwAAAAAAAPh/AAAAAAAA+H8AAAAAAAD4fwAAAAAAAPh/AAAAAABAWEAAAAAAAAD4fwAAAAAAADZAAAAAAAAA+H8AAAAAAAD4fwAAAAAAAPh/AAAAAAAA+H8AAAAAAAD4fwAAAAAAAPh/AAAAAAAA+H8AAAAAAAAkQAAAAAAAAPh/AAAAAAAA+H8AAAAAAAD4fwAAAAAAAPh/AAAAAAAA+H8AAAAAAAD4fwAAAAAAAPh/AAAAAAAA+H8AAAAAAAD4fwAAAAAAAPh/AAAAAAAAXUAAAAAAAAAQQAAAAAAAgEZAAAAAAAAA+H8AAAAAAABKQAAAAAAAAD5AAAAAAAAA+H8AAAAAAABOQAAAAAAAAPh/AAAAAAAA+H8AAAAAAAD4fwAAAAAAAPh/AAAAAAAA+H8AAAAAAAD4fwAAAAAAAPh/AAAAAAAA+H8AAAAAAAD4fwAAAAAAAPh/AAAAAAAA+H8AAAAAAABBQAAAAAAAAPh/AAAAAAAA+H8AAAAAAAD4fwAAAAAAAPh/AAAAAAAA+H8AAAAAAABQQAAAAAAAAPh/AAAAAAAA+H8AAAAAAAD4fwAAAAAAAPh/AAAAAAAA+H8AAAAAAAAmQAAAAAAAAPh/AAAAAAAA+H8AAAAAAAD4fwAAAAAAAPh/AAAAAAAA+H8AAAAAAAD4fwAAAAAAACZAAAAAAAAA+H8AAAAAAAD4fwAAAAAAAFRAAAAAAAAA+H8AAAAAAAD4fwAAAAAAAPh/AAAAAACAQEAAAAAAAAD4fwAAAAAAAPh/AAAAAAAA+H8AAAAAAAD4fwAAAAAAAPh/AAAAAAAA+H8AAAAAAAD4fwAAAAAAAPh/AAAAAAAA+H8AAAAAAAD4fwAAAAAAAPh/AAAAAABAVUAAAAAAAAD4fwAAAAAAgEJAAAAAAAAA+H8AAAAAAAD4fwAAAAAAgFVAAAAAAAAA+H8AAAAAAAD4fwAAAAAAAEFAAAAAAAAA+H8AAAAAAAD4fwAAAAAAADVAAAAAAAAA+H8AAAAAAAD4fwAAAAAAAPh/AAAAAAAA+H8AAAAAAAD4fwAAAAAAAPh/AAAAAABAVkAAAAAAAAD4fwAAAAAAAPh/AAAAAAAA+H8AAAAAAAD4fwAAAAAAAPh/AAAAAAAA+H8AAAAAAAD4fwAAAAAAAPh/AAAAAAAA+H8AAAAAAAD4fwAAAAAAAPh/AAAAAAAA+H8AAAAAAAD4fwAAAAAAAPh/AAAAAAAA+H8AAAAAAAD4fwAAAAAAAPh/AAAAAAAAGEAAAAAAAAD4fwAAAAAAQFZAAAAAAAAA+H8AAAAAAAD4fwAAAAAAAPh/AAAAAAAA+H8AAAAAAAD4fwAAAAAAAPh/AAAAAAAA+H8AAAAAAAD4fwAAAAAAAPh/AAAAAAAA+H8AAAAAAAD4fwAAAAAAAPh/AAAAAAAA+H8AAAAAAAD4fwAAAAAAgEZAAAAAAAAAR0AAAAAAAAD4fwAAAAAAAPh/AAAAAAAA+H8AAAAAAAD4fwAAAAAAAEFAAAAAAAAA+H8AAAAAAAD4fwAAAAAAAPh/AAAAAAAA+H8AAAAAAAD4fwAAAAAAAPh/AAAAAAAA+H8AAAAAAAD4fwAAAAAAAPh/AAAAAAAA+H8AAAAAAAD4fwAAAAAAADpAAAAAAAAAOkAAAAAAAAD4fwAAAAAAQFFAAAAAAAAA+H8AAAAAAAD4fwAAAAAAAPh/AAAAAAAA+H8AAAAAAAD4fwAAAAAAAEBAAAAAAAAA+H8AAAAAAIBTQAAAAAAAAPh/AAAAAAAA+H8AAAAAAAD4fwAAAAAAAPh/AAAAAACATEAAAAAAAAAAQAAAAAAAAPh/AAAAAAAA+H8AAAAAAAD4fwAAAAAAABBAAAAAAAAA+H8AAAAAAAD4fwAAAAAAAPh/AAAAAAAA+H8AAAAAAAAyQAAAAAAAAPh/AAAAAAAA+H8AAAAAAAD4fwAAAAAAgFpAAAAAAAAA+H8AAAAAAAD4fwAAAAAAAPh/AAAAAAAA+H8AAAAAAAD4fwAAAAAAAPh/AAAAAAAA+H8AAAAAAIBLQAAAAAAAAPh/AAAAAAAA+H8AAAAAAAD4fwAAAAAAAPh/AAAAAAAA+H8AAAAAAAD4fwAAAAAAAChAAAAAAAAA+H8AAAAAAAD4fwAAAAAAAPh/AAAAAAAA+H8AAAAAAABOQAAAAAAAQFlAAAAAAAAA+H8AAAAAAAD4fwAAAAAAAPh/AAAAAAAA+H8AAAAAAAD4fwAAAAAAAPh/AAAAAAAA+H8AAAAAAABJQAAAAAAAAPh/AAAAAAAA+H8AAAAAAAD4fwAAAAAAAPh/AAAAAAAA+H8AAAAAAAD4fwAAAAAAgERAAAAAAAAATEAAAAAAAAD4fwAAAAAAAEFAAAAAAAAA+H8AAAAAAAD4fwAAAAAAAPh/AAAAAACAQ0AAAAAAAAD4fwAAAAAAAPh/AAAAAAAA+H8AAAAAAAD4fwAAAAAAAPh/AAAAAAAA+H8AAAAAAAD4fwAAAAAAAPh/AAAAAAAA+H8AAAAAAAD4fwAAAAAAAPh/AAAAAAAAOEAAAAAAAAA8QAAAAAAAAPh/AAAAAAAA+H8AAAAAAAD4fwAAAAAAAD9AAAAAAAAA+H8AAAAAAIBEQAAAAAAAAPh/AAAAAAAA+H8AAAAAAAAcQAAAAAAAAPh/AAAAAAAA+H8AAAAAAAD4fwAAAAAAAERAAAAAAAAAQ0AAAAAAAAD4fwAAAAAAAFRAAAAAAAAA+H8AAAAAAAD4fwAAAAAAAPh/AAAAAACAU0AAAAAAAAD4fwAAAAAAAPh/AAAAAABAWkAAAAAAAAD4fwAAAAAAAPh/AAAAAAAA+H8=",
          "dtype": "f8"
         },
         "xaxis": "x",
         "yaxis": "y"
        }
       ],
       "layout": {
        "barmode": "relative",
        "height": 300,
        "legend": {
         "title": {
          "text": "Survived"
         },
         "tracegroupgap": 0
        },
        "margin": {
         "t": 60
        },
        "template": {
         "data": {
          "bar": [
           {
            "error_x": {
             "color": "#2a3f5f"
            },
            "error_y": {
             "color": "#2a3f5f"
            },
            "marker": {
             "line": {
              "color": "#E5ECF6",
              "width": 0.5
             },
             "pattern": {
              "fillmode": "overlay",
              "size": 10,
              "solidity": 0.2
             }
            },
            "type": "bar"
           }
          ],
          "barpolar": [
           {
            "marker": {
             "line": {
              "color": "#E5ECF6",
              "width": 0.5
             },
             "pattern": {
              "fillmode": "overlay",
              "size": 10,
              "solidity": 0.2
             }
            },
            "type": "barpolar"
           }
          ],
          "carpet": [
           {
            "aaxis": {
             "endlinecolor": "#2a3f5f",
             "gridcolor": "white",
             "linecolor": "white",
             "minorgridcolor": "white",
             "startlinecolor": "#2a3f5f"
            },
            "baxis": {
             "endlinecolor": "#2a3f5f",
             "gridcolor": "white",
             "linecolor": "white",
             "minorgridcolor": "white",
             "startlinecolor": "#2a3f5f"
            },
            "type": "carpet"
           }
          ],
          "choropleth": [
           {
            "colorbar": {
             "outlinewidth": 0,
             "ticks": ""
            },
            "type": "choropleth"
           }
          ],
          "contour": [
           {
            "colorbar": {
             "outlinewidth": 0,
             "ticks": ""
            },
            "colorscale": [
             [
              0,
              "#0d0887"
             ],
             [
              0.1111111111111111,
              "#46039f"
             ],
             [
              0.2222222222222222,
              "#7201a8"
             ],
             [
              0.3333333333333333,
              "#9c179e"
             ],
             [
              0.4444444444444444,
              "#bd3786"
             ],
             [
              0.5555555555555556,
              "#d8576b"
             ],
             [
              0.6666666666666666,
              "#ed7953"
             ],
             [
              0.7777777777777778,
              "#fb9f3a"
             ],
             [
              0.8888888888888888,
              "#fdca26"
             ],
             [
              1,
              "#f0f921"
             ]
            ],
            "type": "contour"
           }
          ],
          "contourcarpet": [
           {
            "colorbar": {
             "outlinewidth": 0,
             "ticks": ""
            },
            "type": "contourcarpet"
           }
          ],
          "heatmap": [
           {
            "colorbar": {
             "outlinewidth": 0,
             "ticks": ""
            },
            "colorscale": [
             [
              0,
              "#0d0887"
             ],
             [
              0.1111111111111111,
              "#46039f"
             ],
             [
              0.2222222222222222,
              "#7201a8"
             ],
             [
              0.3333333333333333,
              "#9c179e"
             ],
             [
              0.4444444444444444,
              "#bd3786"
             ],
             [
              0.5555555555555556,
              "#d8576b"
             ],
             [
              0.6666666666666666,
              "#ed7953"
             ],
             [
              0.7777777777777778,
              "#fb9f3a"
             ],
             [
              0.8888888888888888,
              "#fdca26"
             ],
             [
              1,
              "#f0f921"
             ]
            ],
            "type": "heatmap"
           }
          ],
          "histogram": [
           {
            "marker": {
             "pattern": {
              "fillmode": "overlay",
              "size": 10,
              "solidity": 0.2
             }
            },
            "type": "histogram"
           }
          ],
          "histogram2d": [
           {
            "colorbar": {
             "outlinewidth": 0,
             "ticks": ""
            },
            "colorscale": [
             [
              0,
              "#0d0887"
             ],
             [
              0.1111111111111111,
              "#46039f"
             ],
             [
              0.2222222222222222,
              "#7201a8"
             ],
             [
              0.3333333333333333,
              "#9c179e"
             ],
             [
              0.4444444444444444,
              "#bd3786"
             ],
             [
              0.5555555555555556,
              "#d8576b"
             ],
             [
              0.6666666666666666,
              "#ed7953"
             ],
             [
              0.7777777777777778,
              "#fb9f3a"
             ],
             [
              0.8888888888888888,
              "#fdca26"
             ],
             [
              1,
              "#f0f921"
             ]
            ],
            "type": "histogram2d"
           }
          ],
          "histogram2dcontour": [
           {
            "colorbar": {
             "outlinewidth": 0,
             "ticks": ""
            },
            "colorscale": [
             [
              0,
              "#0d0887"
             ],
             [
              0.1111111111111111,
              "#46039f"
             ],
             [
              0.2222222222222222,
              "#7201a8"
             ],
             [
              0.3333333333333333,
              "#9c179e"
             ],
             [
              0.4444444444444444,
              "#bd3786"
             ],
             [
              0.5555555555555556,
              "#d8576b"
             ],
             [
              0.6666666666666666,
              "#ed7953"
             ],
             [
              0.7777777777777778,
              "#fb9f3a"
             ],
             [
              0.8888888888888888,
              "#fdca26"
             ],
             [
              1,
              "#f0f921"
             ]
            ],
            "type": "histogram2dcontour"
           }
          ],
          "mesh3d": [
           {
            "colorbar": {
             "outlinewidth": 0,
             "ticks": ""
            },
            "type": "mesh3d"
           }
          ],
          "parcoords": [
           {
            "line": {
             "colorbar": {
              "outlinewidth": 0,
              "ticks": ""
             }
            },
            "type": "parcoords"
           }
          ],
          "pie": [
           {
            "automargin": true,
            "type": "pie"
           }
          ],
          "scatter": [
           {
            "fillpattern": {
             "fillmode": "overlay",
             "size": 10,
             "solidity": 0.2
            },
            "type": "scatter"
           }
          ],
          "scatter3d": [
           {
            "line": {
             "colorbar": {
              "outlinewidth": 0,
              "ticks": ""
             }
            },
            "marker": {
             "colorbar": {
              "outlinewidth": 0,
              "ticks": ""
             }
            },
            "type": "scatter3d"
           }
          ],
          "scattercarpet": [
           {
            "marker": {
             "colorbar": {
              "outlinewidth": 0,
              "ticks": ""
             }
            },
            "type": "scattercarpet"
           }
          ],
          "scattergeo": [
           {
            "marker": {
             "colorbar": {
              "outlinewidth": 0,
              "ticks": ""
             }
            },
            "type": "scattergeo"
           }
          ],
          "scattergl": [
           {
            "marker": {
             "colorbar": {
              "outlinewidth": 0,
              "ticks": ""
             }
            },
            "type": "scattergl"
           }
          ],
          "scattermap": [
           {
            "marker": {
             "colorbar": {
              "outlinewidth": 0,
              "ticks": ""
             }
            },
            "type": "scattermap"
           }
          ],
          "scattermapbox": [
           {
            "marker": {
             "colorbar": {
              "outlinewidth": 0,
              "ticks": ""
             }
            },
            "type": "scattermapbox"
           }
          ],
          "scatterpolar": [
           {
            "marker": {
             "colorbar": {
              "outlinewidth": 0,
              "ticks": ""
             }
            },
            "type": "scatterpolar"
           }
          ],
          "scatterpolargl": [
           {
            "marker": {
             "colorbar": {
              "outlinewidth": 0,
              "ticks": ""
             }
            },
            "type": "scatterpolargl"
           }
          ],
          "scatterternary": [
           {
            "marker": {
             "colorbar": {
              "outlinewidth": 0,
              "ticks": ""
             }
            },
            "type": "scatterternary"
           }
          ],
          "surface": [
           {
            "colorbar": {
             "outlinewidth": 0,
             "ticks": ""
            },
            "colorscale": [
             [
              0,
              "#0d0887"
             ],
             [
              0.1111111111111111,
              "#46039f"
             ],
             [
              0.2222222222222222,
              "#7201a8"
             ],
             [
              0.3333333333333333,
              "#9c179e"
             ],
             [
              0.4444444444444444,
              "#bd3786"
             ],
             [
              0.5555555555555556,
              "#d8576b"
             ],
             [
              0.6666666666666666,
              "#ed7953"
             ],
             [
              0.7777777777777778,
              "#fb9f3a"
             ],
             [
              0.8888888888888888,
              "#fdca26"
             ],
             [
              1,
              "#f0f921"
             ]
            ],
            "type": "surface"
           }
          ],
          "table": [
           {
            "cells": {
             "fill": {
              "color": "#EBF0F8"
             },
             "line": {
              "color": "white"
             }
            },
            "header": {
             "fill": {
              "color": "#C8D4E3"
             },
             "line": {
              "color": "white"
             }
            },
            "type": "table"
           }
          ]
         },
         "layout": {
          "annotationdefaults": {
           "arrowcolor": "#2a3f5f",
           "arrowhead": 0,
           "arrowwidth": 1
          },
          "autotypenumbers": "strict",
          "coloraxis": {
           "colorbar": {
            "outlinewidth": 0,
            "ticks": ""
           }
          },
          "colorscale": {
           "diverging": [
            [
             0,
             "#8e0152"
            ],
            [
             0.1,
             "#c51b7d"
            ],
            [
             0.2,
             "#de77ae"
            ],
            [
             0.3,
             "#f1b6da"
            ],
            [
             0.4,
             "#fde0ef"
            ],
            [
             0.5,
             "#f7f7f7"
            ],
            [
             0.6,
             "#e6f5d0"
            ],
            [
             0.7,
             "#b8e186"
            ],
            [
             0.8,
             "#7fbc41"
            ],
            [
             0.9,
             "#4d9221"
            ],
            [
             1,
             "#276419"
            ]
           ],
           "sequential": [
            [
             0,
             "#0d0887"
            ],
            [
             0.1111111111111111,
             "#46039f"
            ],
            [
             0.2222222222222222,
             "#7201a8"
            ],
            [
             0.3333333333333333,
             "#9c179e"
            ],
            [
             0.4444444444444444,
             "#bd3786"
            ],
            [
             0.5555555555555556,
             "#d8576b"
            ],
            [
             0.6666666666666666,
             "#ed7953"
            ],
            [
             0.7777777777777778,
             "#fb9f3a"
            ],
            [
             0.8888888888888888,
             "#fdca26"
            ],
            [
             1,
             "#f0f921"
            ]
           ],
           "sequentialminus": [
            [
             0,
             "#0d0887"
            ],
            [
             0.1111111111111111,
             "#46039f"
            ],
            [
             0.2222222222222222,
             "#7201a8"
            ],
            [
             0.3333333333333333,
             "#9c179e"
            ],
            [
             0.4444444444444444,
             "#bd3786"
            ],
            [
             0.5555555555555556,
             "#d8576b"
            ],
            [
             0.6666666666666666,
             "#ed7953"
            ],
            [
             0.7777777777777778,
             "#fb9f3a"
            ],
            [
             0.8888888888888888,
             "#fdca26"
            ],
            [
             1,
             "#f0f921"
            ]
           ]
          },
          "colorway": [
           "#636efa",
           "#EF553B",
           "#00cc96",
           "#ab63fa",
           "#FFA15A",
           "#19d3f3",
           "#FF6692",
           "#B6E880",
           "#FF97FF",
           "#FECB52"
          ],
          "font": {
           "color": "#2a3f5f"
          },
          "geo": {
           "bgcolor": "white",
           "lakecolor": "white",
           "landcolor": "#E5ECF6",
           "showlakes": true,
           "showland": true,
           "subunitcolor": "white"
          },
          "hoverlabel": {
           "align": "left"
          },
          "hovermode": "closest",
          "mapbox": {
           "style": "light"
          },
          "paper_bgcolor": "white",
          "plot_bgcolor": "#E5ECF6",
          "polar": {
           "angularaxis": {
            "gridcolor": "white",
            "linecolor": "white",
            "ticks": ""
           },
           "bgcolor": "#E5ECF6",
           "radialaxis": {
            "gridcolor": "white",
            "linecolor": "white",
            "ticks": ""
           }
          },
          "scene": {
           "xaxis": {
            "backgroundcolor": "#E5ECF6",
            "gridcolor": "white",
            "gridwidth": 2,
            "linecolor": "white",
            "showbackground": true,
            "ticks": "",
            "zerolinecolor": "white"
           },
           "yaxis": {
            "backgroundcolor": "#E5ECF6",
            "gridcolor": "white",
            "gridwidth": 2,
            "linecolor": "white",
            "showbackground": true,
            "ticks": "",
            "zerolinecolor": "white"
           },
           "zaxis": {
            "backgroundcolor": "#E5ECF6",
            "gridcolor": "white",
            "gridwidth": 2,
            "linecolor": "white",
            "showbackground": true,
            "ticks": "",
            "zerolinecolor": "white"
           }
          },
          "shapedefaults": {
           "line": {
            "color": "#2a3f5f"
           }
          },
          "ternary": {
           "aaxis": {
            "gridcolor": "white",
            "linecolor": "white",
            "ticks": ""
           },
           "baxis": {
            "gridcolor": "white",
            "linecolor": "white",
            "ticks": ""
           },
           "bgcolor": "#E5ECF6",
           "caxis": {
            "gridcolor": "white",
            "linecolor": "white",
            "ticks": ""
           }
          },
          "title": {
           "x": 0.05
          },
          "xaxis": {
           "automargin": true,
           "gridcolor": "white",
           "linecolor": "white",
           "ticks": "",
           "title": {
            "standoff": 15
           },
           "zerolinecolor": "white",
           "zerolinewidth": 2
          },
          "yaxis": {
           "automargin": true,
           "gridcolor": "white",
           "linecolor": "white",
           "ticks": "",
           "title": {
            "standoff": 15
           },
           "zerolinecolor": "white",
           "zerolinewidth": 2
          }
         }
        },
        "xaxis": {
         "anchor": "y",
         "domain": [
          0,
          1
         ],
         "title": {
          "text": "Cabin"
         }
        },
        "yaxis": {
         "anchor": "x",
         "domain": [
          0,
          1
         ],
         "title": {
          "text": "count"
         }
        }
       }
      }
     },
     "metadata": {},
     "output_type": "display_data"
    }
   ],
   "source": [
    "dfplt = df.copy(deep=True)\n",
    "dfplt[\"Survived\"] = dfplt[\"Survived\"].astype(str)\n",
    "fig = px.histogram(dfplt, x=\"Cabin\",color=\"Survived\", height=300,\n",
    "                   color_discrete_sequence=cm)\n",
    "fig.show()"
   ]
  },
  {
   "cell_type": "code",
   "execution_count": 128,
   "id": "1e0b2bcf",
   "metadata": {},
   "outputs": [
    {
     "name": "stdout",
     "output_type": "stream",
     "text": [
      "Survived for side 1\t 0.5076923076923077\n",
      "Survived for side -1\t 0.4276729559748428\n"
     ]
    }
   ],
   "source": [
    "df[\"Side\"] = df[\"Cabin\"]\n",
    "df.loc[df[\"Side\"]!=0,\"Side\"] = (df[\"Cabin\"][df[\"Cabin\"]!=0]%2-0.5)*2\n",
    "\n",
    "s = df[df[\"Side\"]==1]\n",
    "print(f'Survived for side 1\\t {len(s[s[\"Survived\"]==1])/len(s)}')\n",
    "s = df[df[\"Side\"]==-1]\n",
    "print(f'Survived for side -1\\t {len(s[s[\"Survived\"]==1])/len(s)}')"
   ]
  },
  {
   "cell_type": "markdown",
   "id": "368dbf02",
   "metadata": {},
   "source": [
    "### Data prep"
   ]
  },
  {
   "cell_type": "code",
   "execution_count": 129,
   "id": "a0676aad",
   "metadata": {},
   "outputs": [
    {
     "data": {
      "text/plain": [
       "<Axes: >"
      ]
     },
     "execution_count": 129,
     "metadata": {},
     "output_type": "execute_result"
    },
    {
     "data": {
      "image/png": "[encoded data removed]",
      "text/plain": [
       "<Figure size 3000x200 with 3 Axes>"
      ]
     },
     "metadata": {},
     "output_type": "display_data"
    }
   ],
   "source": [
    "msno.bar(df, figsize=(30,2), color=gradient)\n"
   ]
  },
  {
   "cell_type": "code",
   "execution_count": 130,
   "id": "271935bb",
   "metadata": {},
   "outputs": [
    {
     "name": "stdout",
     "output_type": "stream",
     "text": [
      "36.0\n",
      "42.0\n",
      "28.0\n",
      "29.5\n",
      "22.0\n",
      "25.0\n"
     ]
    }
   ],
   "source": [
    "print(df[(df[\"Pclass\"]==1) & (df[\"Sex\"]==\"female\")][\"Age\"].median())\n",
    "print(df[(df[\"Pclass\"]==1) & (df[\"Sex\"]==\"male\")][\"Age\"].median())\n",
    "print(df[(df[\"Pclass\"]==2) & (df[\"Sex\"]==\"female\")][\"Age\"].median())\n",
    "print(df[(df[\"Pclass\"]==2) & (df[\"Sex\"]==\"male\")][\"Age\"].median())\n",
    "print(df[(df[\"Pclass\"]==3) & (df[\"Sex\"]==\"female\")][\"Age\"].median())\n",
    "print(df[(df[\"Pclass\"]==3) & (df[\"Sex\"]==\"male\")][\"Age\"].median())"
   ]
  },
  {
   "cell_type": "code",
   "execution_count": 131,
   "id": "9379a364",
   "metadata": {},
   "outputs": [],
   "source": [
    "from itertools import *\n",
    "l1, l2 = [1,2,3], [\"female\",\"male\"]\n",
    "for c,s in product(l1,l2):\n",
    "    msk = (df[\"Pclass\"]==c) & (df[\"Sex\"]==s)\n",
    "    df.loc[msk,\"Age\"] = df[msk][\"Age\"].fillna(df[msk][\"Age\"].median())"
   ]
  },
  {
   "cell_type": "code",
   "execution_count": 132,
   "id": "cd349fc7",
   "metadata": {},
   "outputs": [
    {
     "data": {
      "application/vnd.plotly.v1+json": {
       "config": {
        "plotlyServerURL": "https://plot.ly"
       },
       "data": [
        {
         "hovertemplate": "Survived=0.0<br>Age=%{x}<br>Name=%{y}<extra></extra>",
         "legendgroup": "0.0",
         "marker": {
          "color": "#273176",
          "symbol": "circle"
         },
         "mode": "markers",
         "name": "0.0",
         "showlegend": true,
         "type": "scattergl",
         "x": {
          "bdata": "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",
          "dtype": "f8"
         },
         "xaxis": "x",
         "y": [
          "Braund, Mr. Owen Harris",
          "Allen, Mr. William Henry",
          "Moran, Mr. James",
          "McCarthy, Mr. Timothy J",
          "Palsson, Master. Gosta Leonard",
          "Saundercock, Mr. William Henry",
          "Andersson, Mr. Anders Johan",
          "Vestrom, Miss. Hulda Amanda Adolfina",
          "Rice, Master. Eugene",
          "Vander Planke, Mrs. Julius (Emelia Maria Vandemoortele)",
          "Fynney, Mr. Joseph J",
          "Palsson, Miss. Torborg Danira",
          "Emir, Mr. Farred Chehab",
          "Fortune, Mr. Charles Alexander",
          "Todoroff, Mr. Lalio",
          "Uruchurtu, Don. Manuel E",
          "Wheadon, Mr. Edward H",
          "Meyer, Mr. Edgar Joseph",
          "Holverson, Mr. Alexander Oskar",
          "Cann, Mr. Ernest Charles",
          "Vander Planke, Miss. Augusta Maria",
          "Ahlin, Mrs. Johan (Johanna Persdotter Larsson)",
          "Turpin, Mrs. William John Robert (Dorothy Ann Wonnacott)",
          "Kraeff, Mr. Theodor",
          "Rogers, Mr. William John",
          "Lennon, Mr. Denis",
          "Samaan, Mr. Youssef",
          "Arnold-Franchi, Mrs. Josef (Josefine Franchi)",
          "Panula, Master. Juha Niilo",
          "Nosworthy, Mr. Richard Cater",
          "Ostby, Mr. Engelhart Cornelius",
          "Novel, Mr. Mansouer",
          "Goodwin, Master. William Frederick",
          "Sirayanian, Mr. Orsen",
          "Harris, Mr. Henry Birkhardt",
          "Skoog, Master. Harald",
          "Stewart, Mr. Albert A",
          "Crease, Mr. Ernest James",
          "Kink, Mr. Vincenz",
          "Jenkin, Mr. Stephen Curnow",
          "Goodwin, Miss. Lillian Amy",
          "Hood, Mr. Ambrose Jr",
          "Chronopoulos, Mr. Apostolos",
          "Moen, Mr. Sigurd Hansen",
          "Staneff, Mr. Ivan",
          "Moutal, Mr. Rahamin Haim",
          "Waelens, Mr. Achille",
          "Carrau, Mr. Francisco M",
          "Ford, Mr. William Neal",
          "Slocovski, Mr. Selman Francis",
          "Celotti, Mr. Francesco",
          "Christmann, Mr. Emil",
          "Andreasson, Mr. Paul Edvin",
          "Chaffee, Mr. Herbert Fuller",
          "Dean, Mr. Bertram Frank",
          "Coxon, Mr. Daniel",
          "Shorney, Mr. Charles Joseph",
          "Goldschmidt, Mr. George B",
          "Kantor, Mr. Sinai",
          "Petranec, Miss. Matilda",
          "Petroff, Mr. Pastcho (\"Pentcho\")",
          "White, Mr. Richard Frasar",
          "Johansson, Mr. Gustaf Joel",
          "Gustafsson, Mr. Anders Vilhelm",
          "Mionoff, Mr. Stoytcho",
          "Rekic, Mr. Tido",
          "Porter, Mr. Walter Chamberlain",
          "Zabour, Miss. Hileni",
          "Barton, Mr. David John",
          "Jussila, Miss. Katriina",
          "Attalah, Miss. Malake",
          "Pekoniemi, Mr. Edvard",
          "Connors, Mr. Patrick",
          "Turpin, Mr. William John Robert",
          "Baxter, Mr. Quigg Edmond",
          "Andersson, Miss. Ellis Anna Maria",
          "Hickman, Mr. Stanley George",
          "Moore, Mr. Leonard Charles",
          "Nasser, Mr. Nicholas",
          "White, Mr. Percival Wayland",
          "McMahon, Mr. Martin",
          "Ekstrom, Mr. Johan",
          "Drazenoic, Mr. Jozef",
          "Coelho, Mr. Domingos Fernandeo",
          "Robins, Mrs. Alexander A (Grace Charity Laury)",
          "Sobey, Mr. Samuel James Hayden",
          "Richard, Mr. Emile",
          "Futrelle, Mr. Jacques Heath",
          "Osen, Mr. Olaf Elon",
          "Giglio, Mr. Victor",
          "Boulos, Mrs. Joseph (Sultana)",
          "Burke, Mr. Jeremiah",
          "Andrew, Mr. Edgardo Samuel",
          "Nicholls, Mr. Joseph Charles",
          "Ford, Miss. Robina Maggie \"Ruby\"",
          "Navratil, Mr. Michel (\"Louis M Hoffman\")",
          "Byles, Rev. Thomas Roussel Davids",
          "Bateman, Rev. Robert James",
          "Meo, Mr. Alfonzo",
          "van Billiard, Mr. Austin Blyler",
          "Olsen, Mr. Ole Martin",
          "Williams, Mr. Charles Duane",
          "Corn, Mr. Harry",
          "Smiljanic, Mr. Mile",
          "Sage, Master. Thomas Henry",
          "Cribb, Mr. John Hatfield",
          "Bengtsson, Mr. John Viktor",
          "Calic, Mr. Jovo",
          "Panula, Master. Eino Viljami",
          "Skoog, Mrs. William (Anna Bernhardina Karlsson)",
          "Baumann, Mr. John D",
          "Ling, Mr. Lee",
          "Van der hoef, Mr. Wyckoff",
          "Rice, Master. Arthur",
          "Sivola, Mr. Antti Wilhelm",
          "Smith, Mr. James Clinch",
          "Klasen, Mr. Klas Albin",
          "Lefebre, Master. Henry Forbes",
          "Isham, Miss. Ann Elizabeth",
          "Hale, Mr. Reginald",
          "Leonard, Mr. Lionel",
          "Sage, Miss. Constance Gladys",
          "Pernot, Mr. Rene",
          "Asplund, Master. Clarence Gustaf Hugo",
          "Rood, Mr. Hugh Roscoe",
          "Bourke, Mr. John",
          "Turcin, Mr. Stjepan",
          "Carbines, Mr. William",
          "Mernagh, Mr. Robert",
          "Olsen, Mr. Karl Siegwart Andreas",
          "Yrois, Miss. Henriette (\"Mrs Harbeck\")",
          "Vande Walle, Mr. Nestor Cyriel",
          "Sage, Mr. Frederick",
          "Johanson, Mr. Jakob Alfred",
          "Youseff, Mr. Gerious",
          "Strom, Miss. Telma Matilda",
          "Backstrom, Mr. Karl Alfred",
          "Ali, Mr. Ahmed",
          "Perkin, Mr. John Henry",
          "Givard, Mr. Hans Kristensen",
          "Kiernan, Mr. Philip",
          "Jacobsohn, Mr. Sidney Samuel",
          "Harris, Mr. Walter",
          "Bracken, Mr. James H",
          "Green, Mr. George Henry",
          "Nenkoff, Mr. Christo",
          "Berglund, Mr. Karl Ivar Sven",
          "Lovell, Mr. John Hall (\"Henry\")",
          "Fahlstrom, Mr. Arne Jonas",
          "Lefebre, Miss. Mathilde",
          "Larsson, Mr. Bengt Edvin",
          "Sjostedt, Mr. Ernst Adolf",
          "Leyson, Mr. Robert William Norman",
          "Harknett, Miss. Alice Phoebe",
          "Hold, Mr. Stephen",
          "Pengelly, Mr. Frederick William",
          "Hunt, Mr. George Henry",
          "Zabour, Miss. Thamine",
          "Coleridge, Mr. Reginald Charles",
          "Maenpaa, Mr. Matti Alexanteri",
          "Attalah, Mr. Sleiman",
          "Minahan, Dr. William Edward",
          "Lindahl, Miss. Agda Thorilda Viktoria",
          "Carter, Rev. Ernest Courtenay",
          "Reed, Mr. James George",
          "Strom, Mrs. Wilhelm (Elna Matilda Persson)",
          "Stead, Mr. William Thomas",
          "Lobb, Mr. William Arthur",
          "Rosblom, Mrs. Viktor (Helena Wilhelmina)",
          "Smith, Mr. Thomas",
          "Taussig, Mr. Emil",
          "Harrison, Mr. William",
          "Henry, Miss. Delia",
          "Reeves, Mr. David",
          "Panula, Mr. Ernesti Arvid",
          "Cairns, Mr. Alexander",
          "Natsch, Mr. Charles H",
          "Lindblom, Miss. Augusta Charlotta",
          "Parkes, Mr. Francis \"Frank\"",
          "Rice, Master. Eric",
          "Duane, Mr. Frank",
          "Olsson, Mr. Nils Johan Goransson",
          "de Pelsmaeker, Mr. Alfons",
          "Smith, Mr. Richard William",
          "Stankovic, Mr. Ivan",
          "Naidenoff, Mr. Penko",
          "Levy, Mr. Rene Jacques",
          "Haas, Miss. Aloisia",
          "Mineff, Mr. Ivan",
          "Lewy, Mr. Ervin G",
          "Hanna, Mr. Mansour",
          "Allison, Miss. Helen Loraine",
          "Johnson, Mr. William Cahoone Jr",
          "Williams, Mr. Howard Hugh \"Harry\"",
          "Abelson, Mr. Samuel",
          "Lahtinen, Mrs. William (Anna Sylfven)",
          "Hendekovic, Mr. Ignjac",
          "Hart, Mr. Benjamin",
          "Moraweck, Dr. Ernest",
          "Dennis, Mr. Samuel",
          "Danoff, Mr. Yoto",
          "Sage, Mr. George John Jr",
          "Nysveen, Mr. Johan Hansen",
          "Partner, Mr. Austen",
          "Graham, Mr. George Edward",
          "Vander Planke, Mr. Leo Edmondus",
          "Denkoff, Mr. Mitto",
          "Pears, Mr. Thomas Clinton",
          "Blackwell, Mr. Stephen Weart",
          "Collander, Mr. Erik Gustaf",
          "Sedgwick, Mr. Charles Frederick Waddington",
          "Fox, Mr. Stanley Hubert",
          "Dimic, Mr. Jovan",
          "Odahl, Mr. Nils Martin",
          "Williams-Lambert, Mr. Fletcher Fellows",
          "Elias, Mr. Tannous",
          "Arnold-Franchi, Mr. Josef",
          "Yousif, Mr. Wazli",
          "Vanden Steen, Mr. Leo Peter",
          "Funk, Miss. Annie Clemmer",
          "Skoog, Mr. Wilhelm",
          "del Carlo, Mr. Sebastiano",
          "Barbara, Mrs. (Catherine David)",
          "Asim, Mr. Adola",
          "O'Brien, Mr. Thomas",
          "Adahl, Mr. Mauritz Nils Martin",
          "Wiklund, Mr. Jakob Alfred",
          "Beavan, Mr. William Thomas",
          "Ringhini, Mr. Sante",
          "Palsson, Miss. Stina Viola",
          "Widener, Mr. Harry Elkins",
          "Betros, Mr. Tannous",
          "Gustafsson, Mr. Karl Gideon",
          "Tikkanen, Mr. Juho",
          "Plotcharsky, Mr. Vasil",
          "Davies, Mr. Charles Henry",
          "Goodwin, Master. Sidney Leonard",
          "Sadlier, Mr. Matthew",
          "Gustafsson, Mr. Johan Birger",
          "Johansson, Mr. Erik",
          "Olsson, Miss. Elina",
          "McKane, Mr. Peter David",
          "Pain, Dr. Alfred",
          "Adams, Mr. John",
          "Jussila, Miss. Mari Aina",
          "Hakkarainen, Mr. Pekka Pietari",
          "Oreskovic, Miss. Marija",
          "Gale, Mr. Shadrach",
          "Widegren, Mr. Carl/Charles Peter",
          "Birkeland, Mr. Hans Martin Monsen",
          "Lefebre, Miss. Ida",
          "Sdycoff, Mr. Todor",
          "Hart, Mr. Henry",
          "Cunningham, Mr. Alfred Fleming",
          "Meek, Mrs. Thomas (Annie Louise Rowley)",
          "Matthews, Mr. William John",
          "Van Impe, Miss. Catharina",
          "Gheorgheff, Mr. Stanio",
          "Charters, Mr. David",
          "Zimmerman, Mr. Leo",
          "Danbom, Mrs. Ernst Gilbert (Anna Sigrid Maria Brogren)",
          "Rosblom, Mr. Viktor Richard",
          "Wiseman, Mr. Phillippe",
          "Flynn, Mr. James",
          "Kallio, Mr. Nikolai Erland",
          "Silvey, Mr. William Baird",
          "Ford, Miss. Doolina Margaret \"Daisy\"",
          "Fortune, Mr. Mark",
          "Kvillner, Mr. Johan Henrik Johannesson",
          "Hampe, Mr. Leon",
          "Petterson, Mr. Johan Emil",
          "West, Mr. Edwy Arthur",
          "Hagland, Mr. Ingvald Olai Olsen",
          "Foreman, Mr. Benjamin Laventall",
          "Peduzzi, Mr. Joseph",
          "Millet, Mr. Francis Davis",
          "O'Connor, Mr. Maurice",
          "Morley, Mr. William",
          "Gee, Mr. Arthur H",
          "Milling, Mr. Jacob Christian",
          "Maisner, Mr. Simon",
          "Goncalves, Mr. Manuel Estanslas",
          "Campbell, Mr. William",
          "Smart, Mr. John Montgomery",
          "Scanlan, Mr. James",
          "Keefe, Mr. Arthur",
          "Cacic, Mr. Luka",
          "Strandberg, Miss. Ida Sofia",
          "Clifford, Mr. George Quincy",
          "Renouf, Mr. Peter Henry",
          "Braund, Mr. Lewis Richard",
          "Karlsson, Mr. Nils August",
          "Goodwin, Master. Harold Victor",
          "Frost, Mr. Anthony Wood \"Archie\"",
          "Rouse, Mr. Richard Henry",
          "Lefebre, Miss. Jeannie",
          "Kent, Mr. Edward Austin",
          "Somerton, Mr. Francis William",
          "Hagland, Mr. Konrad Mathias Reiersen",
          "Windelov, Mr. Einar",
          "Molson, Mr. Harry Markland",
          "Artagaveytia, Mr. Ramon",
          "Stanley, Mr. Edward Roland",
          "Yousseff, Mr. Gerious",
          "Shellard, Mr. Frederick William",
          "Allison, Mrs. Hudson J C (Bessie Waldo Daniels)",
          "Svensson, Mr. Olof",
          "Calic, Mr. Petar",
          "Canavan, Miss. Mary",
          "O'Sullivan, Miss. Bridget Mary",
          "Laitinen, Miss. Kristina Sofia",
          "Penasco y Castellana, Mr. Victor de Satode",
          "Olsen, Mr. Henry Margido",
          "Webber, Mr. James",
          "Coleff, Mr. Satio",
          "Walker, Mr. William Anderson",
          "Ryan, Mr. Patrick",
          "Pavlovic, Mr. Stefo",
          "Vovk, Mr. Janko",
          "Lahoud, Mr. Sarkis",
          "Kassem, Mr. Fared",
          "Farrell, Mr. James",
          "Farthing, Mr. John",
          "Salonen, Mr. Johan Werner",
          "Hocking, Mr. Richard George",
          "Toufik, Mr. Nakli",
          "Elias, Mr. Joseph Jr",
          "Cacic, Miss. Marija",
          "Butt, Major. Archibald Willingham",
          "Risien, Mr. Samuel Beard",
          "Andersson, Miss. Ingeborg Constanzia",
          "Andersson, Miss. Sigrid Elisabeth",
          "Douglas, Mr. Walter Donald",
          "Nicholson, Mr. Arthur Ernest",
          "Goldsmith, Mr. Frank John",
          "Sharp, Mr. Percival James R",
          "O'Brien, Mr. Timothy",
          "Wright, Mr. George",
          "Robbins, Mr. Victor",
          "Morrow, Mr. Thomas Rowan",
          "Sivic, Mr. Husein",
          "Norman, Mr. Robert Douglas",
          "Simmons, Mr. John",
          "Meanwell, Miss. (Marion Ogden)",
          "Davies, Mr. Alfred J",
          "Stoytcheff, Mr. Ilia",
          "Palsson, Mrs. Nils (Alma Cornelia Berglund)",
          "Doharr, Mr. Tannous",
          "Rush, Mr. Alfred George John",
          "Patchett, Mr. George",
          "Caram, Mrs. Joseph (Maria Elias)",
          "Downton, Mr. William James",
          "Ross, Mr. John Hugo",
          "Paulner, Mr. Uscher",
          "Jarvis, Mr. John Denzil",
          "Gilinski, Mr. Eliezer",
          "Murdlin, Mr. Joseph",
          "Rintamaki, Mr. Matti",
          "Elsbury, Mr. William James",
          "Bourke, Miss. Mary",
          "Chapman, Mr. John Henry",
          "Van Impe, Mr. Jean Baptiste",
          "Johnson, Mr. Alfred",
          "Boulos, Mr. Hanna",
          "Slabenoff, Mr. Petco",
          "Harrington, Mr. Charles H",
          "Torber, Mr. Ernst William",
          "Lindell, Mr. Edvard Bengtsson",
          "Karaic, Mr. Milan",
          "Andersson, Mrs. Anders Johan (Alfrida Konstantia Brogren)",
          "Jardin, Mr. Jose Neto",
          "Horgan, Mr. John",
          "Brocklebank, Mr. William Alfred",
          "Danbom, Mr. Ernst Gilbert",
          "Lobb, Mrs. William Arthur (Cordelia K Stanlick)",
          "Gavey, Mr. Lawrence",
          "Yasbeck, Mr. Antoni",
          "Hansen, Mr. Henry Damsgaard",
          "Bowen, Mr. David John \"Dai\"",
          "Sutton, Mr. Frederick",
          "Kirkland, Rev. Charles Leonard",
          "Bostandyeff, Mr. Guentcho",
          "O'Connell, Mr. Patrick D",
          "Lundahl, Mr. Johan Svensson",
          "Parr, Mr. William Henry Marsh",
          "Skoog, Miss. Mabel",
          "Leinonen, Mr. Antti Gustaf",
          "Collyer, Mr. Harvey",
          "Panula, Mrs. Juha (Maria Emilia Ojala)",
          "Thorneycroft, Mr. Percival",
          "Jensen, Mr. Hans Peder",
          "Skoog, Miss. Margit Elizabeth",
          "Cor, Mr. Liudevit",
          "Willey, Mr. Edward",
          "Mitkoff, Mr. Mito",
          "Kalvik, Mr. Johannes Halvorsen",
          "Hegarty, Miss. Hanora \"Nora\"",
          "Hickman, Mr. Leonard Mark",
          "Radeff, Mr. Alexander",
          "Bourke, Mrs. John (Catherine)",
          "Eitemiller, Mr. George Floyd",
          "Newell, Mr. Arthur Webster",
          "Badt, Mr. Mohamed",
          "Colley, Mr. Edward Pomeroy",
          "Coleff, Mr. Peju",
          "Hickman, Mr. Lewis",
          "Butler, Mr. Reginald Fenton",
          "Rommetvedt, Mr. Knud Paust",
          "Cook, Mr. Jacob",
          "Davidson, Mr. Thornton",
          "Mitchell, Mr. Henry Michael",
          "Watson, Mr. Ennis Hastings",
          "Edvardsson, Mr. Gustaf Hjalmar",
          "Sawyer, Mr. Frederick Charles",
          "Goodwin, Mrs. Frederick (Augusta Tyler)",
          "Peters, Miss. Katie",
          "Olsvigen, Mr. Thor Anderson",
          "Goodwin, Mr. Charles Edward",
          "Brown, Mr. Thomas William Solomon",
          "Laroche, Mr. Joseph Philippe Lemercier",
          "Panula, Mr. Jaako Arnold",
          "Dakic, Mr. Branko",
          "Fischer, Mr. Eberhard Thelander",
          "Saad, Mr. Khalil",
          "Weir, Col. John",
          "Chapman, Mr. Charles Henry",
          "Kelly, Mr. James",
          "Thayer, Mr. John Borland",
          "Humblen, Mr. Adolf Mathias Nicolai Olsen",
          "Barbara, Miss. Saiide",
          "Gallagher, Mr. Martin",
          "Hansen, Mr. Henrik Juul",
          "Morley, Mr. Henry Samuel (\"Mr Henry Marshall\")",
          "Klaber, Mr. Herman",
          "Larsson, Mr. August Viktor",
          "Greenberg, Mr. Samuel",
          "Soholt, Mr. Peter Andreas Lauritz Andersen",
          "McEvoy, Mr. Michael",
          "Johnson, Mr. Malkolm Joackim",
          "Jensen, Mr. Svend Lauritz",
          "Gillespie, Mr. William Henry",
          "Hodges, Mr. Henry Price",
          "Oreskovic, Mr. Luka",
          "Bryhl, Mr. Kurt Arnold Gottfrid",
          "Ilmakangas, Miss. Pieta Sofia",
          "Hassan, Mr. Houssein G N",
          "Knight, Mr. Robert J",
          "Berriman, Mr. William John",
          "Troupiansky, Mr. Moses Aaron",
          "Williams, Mr. Leslie",
          "Ford, Mrs. Edward (Margaret Ann Watson)",
          "Ivanoff, Mr. Kanio",
          "Nankoff, Mr. Minko",
          "Cavendish, Mr. Tyrell William",
          "McNamee, Mr. Neal",
          "Crosby, Capt. Edward Gifford",
          "Abbott, Mr. Rossmore Edward",
          "Marvin, Mr. Daniel Warner",
          "Connaghton, Mr. Michael",
          "Vande Velde, Mr. Johannes Joseph",
          "Jonkoff, Mr. Lalio",
          "Carlsson, Mr. August Sigfrid",
          "Bailey, Mr. Percy Andrew",
          "Theobald, Mr. Thomas Leonard",
          "Garfirth, Mr. John",
          "Nirva, Mr. Iisakki Antino Aijo",
          "Eklund, Mr. Hans Linus",
          "Brewe, Dr. Arthur Jackson",
          "Mangan, Miss. Mary",
          "Moran, Mr. Daniel J",
          "Gronnestad, Mr. Daniel Danielsen",
          "Lievens, Mr. Rene Aime",
          "Jensen, Mr. Niels Peder",
          "Mack, Mrs. (Mary)",
          "Elias, Mr. Dibo",
          "Myhrman, Mr. Pehr Fabian Oliver Malkolm",
          "Tobin, Mr. Roger",
          "Kilgannon, Mr. Thomas J",
          "Long, Mr. Milton Clyde",
          "Johnston, Mr. Andrew G",
          "Ali, Mr. William",
          "Harmer, Mr. Abraham (David Lishin)",
          "Rice, Master. George Hugh",
          "Guggenheim, Mr. Benjamin",
          "Keane, Mr. Andrew \"Andy\"",
          "Gaskell, Mr. Alfred",
          "Sage, Miss. Stella Anna",
          "Hoyt, Mr. William Fisher",
          "Dantcheff, Mr. Ristiu",
          "Otter, Mr. Richard",
          "Ibrahim Shawah, Mr. Yousseff",
          "Van Impe, Mrs. Jean Baptiste (Rosalie Paula Govaert)",
          "Ponesell, Mr. Martin",
          "Johansson, Mr. Karl Johan",
          "Andrews, Mr. Thomas Jr",
          "Pettersson, Miss. Ellen Natalia",
          "Meyer, Mr. August",
          "Alexander, Mr. William",
          "Lester, Mr. James",
          "Slemen, Mr. Richard James",
          "Andersson, Miss. Ebba Iris Alfrida",
          "Tomlin, Mr. Ernest Portage",
          "Fry, Mr. Richard",
          "Heininen, Miss. Wendla Maria",
          "Mallet, Mr. Albert",
          "Holm, Mr. John Fredrik Alexander",
          "Skoog, Master. Karl Thorsten",
          "Reuchlin, Jonkheer. John George",
          "Panula, Master. Urho Abraham",
          "Flynn, Mr. John",
          "Lam, Mr. Len",
          "Saad, Mr. Amin",
          "Augustsson, Mr. Albert",
          "Allum, Mr. Owen George",
          "Pasic, Mr. Jakob",
          "Sirota, Mr. Maurice",
          "Alhomaki, Mr. Ilmari Rudolf",
          "Mudd, Mr. Thomas Charles",
          "Lemberopolous, Mr. Peter L",
          "Culumovic, Mr. Jeso",
          "Abbing, Mr. Anthony",
          "Sage, Mr. Douglas Bullen",
          "Markoff, Mr. Marin",
          "Harper, Rev. John",
          "Andersson, Master. Sigvard Harald Elias",
          "Svensson, Mr. Johan",
          "Boulos, Miss. Nourelain",
          "Carter, Mrs. Ernest Courtenay (Lilian Hughes)",
          "Razi, Mr. Raihed",
          "Hansen, Mr. Claus Peter",
          "Giles, Mr. Frederick Edward",
          "Sage, Miss. Dorothy Edith \"Dolly\"",
          "Gill, Mr. John William",
          "Roebling, Mr. Washington Augustus II",
          "van Melkebeke, Mr. Philemon",
          "Balkic, Mr. Cerin",
          "Carlsson, Mr. Frans Olof",
          "Vander Cruyssen, Mr. Victor",
          "Gustafsson, Mr. Alfred Ossian",
          "Petroff, Mr. Nedelio",
          "Laleff, Mr. Kristo",
          "Markun, Mr. Johann",
          "Dahlberg, Miss. Gerda Ulrika",
          "Banfield, Mr. Frederick James",
          "Sutehall, Mr. Henry Jr",
          "Rice, Mrs. William (Margaret Norton)",
          "Montvila, Rev. Juozas",
          "Johnston, Miss. Catherine Helen \"Carrie\"",
          "Dooley, Mr. Patrick"
         ],
         "yaxis": "y"
        },
        {
         "hovertemplate": "Survived=1.0<br>Age=%{x}<br>Name=%{y}<extra></extra>",
         "legendgroup": "1.0",
         "marker": {
          "color": "#3B61A3",
          "symbol": "circle"
         },
         "mode": "markers",
         "name": "1.0",
         "showlegend": true,
         "type": "scattergl",
         "x": {
          "bdata": "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",
          "dtype": "f8"
         },
         "xaxis": "x",
         "y": [
          "Cumings, Mrs. John Bradley (Florence Briggs Thayer)",
          "Heikkinen, Miss. Laina",
          "Futrelle, Mrs. Jacques Heath (Lily May Peel)",
          "Johnson, Mrs. Oscar W (Elisabeth Vilhelmina Berg)",
          "Nasser, Mrs. Nicholas (Adele Achem)",
          "Sandstrom, Miss. Marguerite Rut",
          "Bonnell, Miss. Elizabeth",
          "Hewlett, Mrs. (Mary D Kingcome) ",
          "Williams, Mr. Charles Eugene",
          "Masselmani, Mrs. Fatima",
          "Beesley, Mr. Lawrence",
          "McGowan, Miss. Anna \"Annie\"",
          "Sloper, Mr. William Thompson",
          "Asplund, Mrs. Carl Oscar (Selma Augusta Emilia Johansson)",
          "O'Dwyer, Miss. Ellen \"Nellie\"",
          "Spencer, Mrs. William Augustus (Marie Eugenie)",
          "Glynn, Miss. Mary Agatha",
          "Mamee, Mr. Hanna",
          "Nicola-Yarred, Miss. Jamila",
          "Laroche, Miss. Simonne Marie Anne Andree",
          "Devaney, Miss. Margaret Delia",
          "O'Driscoll, Miss. Bridget",
          "Harper, Mrs. Henry Sleeper (Myna Haxtun)",
          "Faunthorpe, Mrs. Lizzie (Elizabeth Anne Wilkinson)",
          "Woolner, Mr. Hugh",
          "Rugg, Miss. Emily",
          "West, Miss. Constance Mirium",
          "Icard, Miss. Amelie",
          "Moubarek, Master. Gerios",
          "Nye, Mrs. (Elizabeth Ramell)",
          "Andersson, Miss. Erna Alexandra",
          "Bing, Mr. Lee",
          "Caldwell, Master. Alden Gates",
          "Dowdell, Miss. Elizabeth",
          "Sheerlinck, Mr. Jan Baptist",
          "McDermott, Miss. Brigdet Delia",
          "Ilett, Miss. Bertha",
          "Backstrom, Mrs. Karl Alfred (Maria Mathilda Gustafsson)",
          "Fortune, Miss. Mabel Helen",
          "Greenfield, Mr. William Bertram",
          "Doling, Mrs. John T (Ada Julia Bone)",
          "Salkjelsvik, Miss. Anna Kristine",
          "Moss, Mr. Albert Johan",
          "Moran, Miss. Bertha",
          "Webber, Miss. Susan",
          "Nicola-Yarred, Master. Elias",
          "Madsen, Mr. Fridtjof Arne",
          "Peter, Miss. Anna",
          "Weisz, Mrs. Leopold (Mathilde Francoise Pede)",
          "Newsom, Miss. Helen Monypeny",
          "Nysten, Miss. Anna Sofia",
          "Hakkarainen, Mrs. Pekka Pietari (Elin Matilda Dolck)",
          "Andersson, Mr. August Edvard (\"Wennerstrom\")",
          "Pears, Mrs. Thomas (Edith Wearne)",
          "Gilnagh, Miss. Katherine \"Katie\"",
          "Watt, Mrs. James (Elizabeth \"Bessie\" Inglis Milne)",
          "Goldsmith, Master. Frank John William \"Frankie\"",
          "Chibnall, Mrs. (Edith Martha Bowerman)",
          "Johnson, Miss. Eleanor Ileen",
          "Becker, Master. Richard F",
          "Kink-Heilmann, Miss. Luise Gretchen",
          "O'Brien, Mrs. Thomas (Johanna \"Hannah\" Godfrey)",
          "Romaine, Mr. Charles Hallace (\"Mr C Rolmane\")",
          "Pinsky, Mrs. (Rosa)",
          "Andersen-Jensen, Miss. Carla Christine Nielsine",
          "Navratil, Master. Michel M",
          "Brown, Mrs. James Joseph (Margaret Tobin)",
          "Lurette, Miss. Elise",
          "Madigan, Miss. Margaret \"Maggie\"",
          "Cohen, Mr. Gurshon \"Gus\"",
          "Albimona, Mr. Nassef Cassem",
          "Carr, Miss. Helen \"Ellen\"",
          "Blank, Mr. Henry",
          "Cameron, Miss. Clear Annie",
          "Newell, Miss. Madeleine",
          "Honkanen, Miss. Eliina",
          "Bazzani, Miss. Albina",
          "Sunderland, Mr. Victor Francis",
          "Hoyt, Mr. Frederick Maxfield",
          "Mellors, Mr. William John",
          "Harris, Mrs. Henry Birkhardt (Irene Wallach)",
          "Asplund, Miss. Lillian Gertrud",
          "Collyer, Miss. Marjorie \"Lottie\"",
          "Murphy, Miss. Katherine \"Kate\"",
          "Hamalainen, Mrs. William (Anna)",
          "Beckwith, Mr. Richard Leonard",
          "Touma, Mrs. Darwis (Hanne Youssef Razi)",
          "Thorne, Mrs. Gertrude Maybelle",
          "Cherry, Miss. Gladys",
          "Ward, Miss. Anna",
          "Parrish, Mrs. (Lutie Davis)",
          "Asplund, Master. Edvin Rojj Felix",
          "Persson, Mr. Ernst Ulrik",
          "Graham, Mrs. William Thompson (Edith Junkins)",
          "Bissette, Miss. Amelia",
          "Tornquist, Mr. William Henry",
          "Mellinger, Mrs. (Elizabeth Anne Maidment)",
          "Healy, Miss. Hanora \"Nora\"",
          "Andrews, Miss. Kornelia Theodosia",
          "Abbott, Mrs. Stanton (Rosa Hunt)",
          "Dorking, Mr. Edward Arthur",
          "de Mulder, Mr. Theodore",
          "Hosono, Mr. Masabumi",
          "Connolly, Miss. Kate",
          "Barber, Miss. Ellen \"Nellie\"",
          "Bishop, Mrs. Dickinson H (Helen Walton)",
          "Saalfeld, Mr. Adolphe",
          "Baxter, Mrs. James (Helene DeLaudeniere Chaput)",
          "Kelly, Miss. Anna Katherine \"Annie Kate\"",
          "McCoy, Mr. Bernard",
          "Keane, Miss. Nora A",
          "Allison, Master. Hudson Trevor",
          "Fleming, Miss. Margaret",
          "Penasco y Castellana, Mrs. Victor de Satode (Maria Josefa Perez de Soto y Vallejo)",
          "Francatelli, Miss. Laura Mabel",
          "Hays, Miss. Margaret Bechstein",
          "Ryerson, Miss. Emily Borie",
          "Nilsson, Miss. Helmina Josefina",
          "Kantor, Mrs. Sinai (Miriam Sternin)",
          "Wick, Miss. Mary Natalie",
          "Spedden, Mrs. Frederic Oakley (Margaretta Corning Stone)",
          "Slayter, Miss. Hilda Mary",
          "Caldwell, Mrs. Albert Francis (Sylvia Mae Harbaugh)",
          "Young, Miss. Marie Grice",
          "Ball, Mrs. (Ada E Hall)",
          "Goldsmith, Mrs. Frank John (Emily Alice Brown)",
          "Hippach, Miss. Jean Gertrude",
          "McCoy, Miss. Agnes",
          "Frauenthal, Mrs. Henry William (Clara Heinsheimer)",
          "Burns, Miss. Elizabeth Margaret",
          "Dahl, Mr. Karl Edwart",
          "Navratil, Master. Edmond Roger",
          "Fortune, Miss. Alice Elizabeth",
          "Brown, Miss. Amelia \"Mildred\"",
          "Smith, Miss. Marion Elsie",
          "Davison, Mrs. Thomas Henry (Mary E Finck)",
          "Coutts, Master. William Loch \"William\"",
          "Bowerman, Miss. Elsie Edith",
          "McGovern, Miss. Mary",
          "Mockler, Miss. Helen Mary \"Ellie\"",
          "Warren, Mrs. Frank Manley (Anna Sophia Atkinson)",
          "Moussa, Mrs. (Mantoura Boulos)",
          "Jermyn, Miss. Annie",
          "Aubart, Mme. Leontine Pauline",
          "Harder, Mr. George Achilles",
          "Meyer, Mrs. Edgar Joseph (Leila Saks)",
          "Landergren, Miss. Aurora Adelia",
          "Bidois, Miss. Rosalie",
          "Nakid, Miss. Maria (\"Mary\")",
          "Holverson, Mrs. Alexander Oskar (Mary Aline Towner)",
          "Buss, Miss. Kate",
          "Lehmann, Miss. Bertha",
          "Carter, Mr. William Ernest",
          "Jansson, Mr. Carl Olof",
          "Newell, Miss. Marjorie",
          "Sandstrom, Mrs. Hjalmar (Agnes Charlotta Bengtsson)",
          "Trout, Mrs. William H (Jessie L)",
          "Niskanen, Mr. Juha",
          "Richards, Master. William Rowe",
          "Minahan, Miss. Daisy E",
          "Sundman, Mr. Johan Julian",
          "Drew, Mrs. James Vivian (Lulu Thorne Christian)",
          "Silven, Miss. Lyyli Karoliina",
          "Clarke, Mrs. Charles V (Ada Maria Winfield)",
          "Phillips, Miss. Kate Florence (\"Mrs Kate Louise Phillips Marshall\")",
          "Pickard, Mr. Berk (Berk Trembisky)",
          "Bjornstrom-Steffansson, Mr. Mauritz Hakan",
          "Thorneycroft, Mrs. Percival (Florence Kate White)",
          "Louch, Mrs. Charles Alexander (Alice Adelaide Slow)",
          "Carter, Miss. Lucile Polk",
          "Richards, Mrs. Sidney (Emily Hocking)",
          "Hart, Mrs. Benjamin (Esther Ada Bloomfield)",
          "Reynaldo, Ms. Encarnacion",
          "Johannesen-Bratthammer, Mr. Bernt",
          "Dodge, Master. Washington",
          "Mellinger, Miss. Madeleine Violet",
          "Seward, Mr. Frederic Kimber",
          "Baclini, Miss. Marie Catherine",
          "Peuchen, Major. Arthur Godfrey",
          "Goldenberg, Mr. Samuel L",
          "Jalsevac, Mr. Ivan",
          "Kenyon, Mrs. Frederick R (Marion)",
          "Toomey, Miss. Ellen",
          "Anderson, Mr. Harry",
          "Baclini, Miss. Helene Barbara",
          "West, Mrs. Edwy Arthur (Ada Mary Worth)",
          "Jerwan, Mrs. Amin S (Marie Marthe Thuillard)",
          "Hirvonen, Miss. Hildur E",
          "Turkula, Mrs. (Hedwig)",
          "Bishop, Mr. Dickinson H",
          "Hoyt, Mrs. Frederick Maxfield (Jane Anne Forby)",
          "Coutts, Master. Eden Leslie \"Neville\"",
          "Eustis, Miss. Elizabeth Mussey",
          "Maioni, Miss. Roberta",
          "Quick, Mrs. Frederick Charles (Jane Richards)",
          "Bradley, Mr. George (\"George Arthur Brayton\")",
          "Lang, Mr. Fang",
          "Daly, Mr. Eugene Patrick",
          "McGough, Mr. James Robert",
          "Rothschild, Mrs. Martin (Elizabeth L. Barrett)",
          "Lemore, Mrs. (Amelia Milley)",
          "Angle, Mrs. William A (Florence \"Mary\" Agnes Hughes)",
          "Perreault, Miss. Anne",
          "Hippach, Mrs. Louis Albert (Ida Sophia Fischer)",
          "Ridsdale, Miss. Lucy",
          "Quick, Miss. Phyllis May",
          "Peter, Mrs. Catherine (Catherine Rizk)",
          "Hart, Miss. Eva Miriam",
          "LeRoy, Miss. Bertha",
          "Frolicher, Miss. Hedwig Margaritha",
          "Crosby, Miss. Harriet R",
          "Beane, Mr. Edward",
          "Beane, Mrs. Edward (Ethel Clarke)",
          "Padro y Manent, Mr. Julian",
          "Davies, Master. John Morgan Jr",
          "Thayer, Mr. John Borland Jr",
          "Leeni, Mr. Fahim (\"Philip Zenni\")",
          "Ohman, Miss. Velin",
          "Duff Gordon, Lady. (Lucille Christiana Sutherland) (\"Mrs Morgan\")",
          "Taussig, Mrs. Emil (Tillie Mandelbaum)",
          "de Messemaeker, Mrs. Guillaume Joseph (Emma)",
          "Jonsson, Mr. Carl",
          "Harris, Mr. George",
          "Appleton, Mrs. Edward Dale (Charlotte Lamson)",
          "Flynn, Mr. John Irwin (\"Irving\")",
          "Kelly, Miss. Mary",
          "Garside, Miss. Ethel",
          "Silvey, Mrs. William Baird (Alice Munger)",
          "Jussila, Mr. Eiriik",
          "Christy, Miss. Julie Rachel",
          "Thayer, Mrs. John Borland (Marian Longstreth Morris)",
          "Taussig, Miss. Ruth",
          "Frolicher-Stehli, Mr. Maxmillian",
          "Stephenson, Mrs. Walter Bertram (Martha Eustis)",
          "Leitch, Miss. Jessie Wills",
          "Duff Gordon, Sir. Cosmo Edmund (\"Mr Morgan\")",
          "Jacobsohn, Mrs. Sidney Samuel (Amy Frances Christy)",
          "Homer, Mr. Harry (\"Mr E Haven\")",
          "Daniel, Mr. Robert Williams",
          "Laroche, Mrs. Joseph (Juliette Marie Louise Lafargue)",
          "Shutes, Miss. Elizabeth W",
          "Murphy, Miss. Margaret Jane",
          "Herman, Miss. Alice",
          "Becker, Miss. Marion Louise",
          "Kimball, Mr. Edwin Nelson Jr",
          "Nakid, Mr. Sahid",
          "Longley, Miss. Gretchen Fiske",
          "Barkworth, Mr. Algernon Henry Wilson",
          "Stahelin-Maeglin, Dr. Max",
          "Davis, Miss. Mary",
          "Sagesser, Mlle. Emma",
          "Foo, Mr. Choong",
          "Baclini, Miss. Eugenie",
          "Harper, Mr. Henry Sleeper",
          "Simonius-Blumer, Col. Oberst Alfons",
          "Stanley, Miss. Amy Zillah Elsie",
          "Doling, Miss. Elsie",
          "O'Leary, Miss. Hanora \"Norah\"",
          "Frauenthal, Dr. Henry William",
          "Lindqvist, Mr. Eino William",
          "Taylor, Mrs. Elmer Zebley (Juliet Cummins Wright)",
          "Brown, Mrs. Thomas William Solomon (Elizabeth Catherine Ford)",
          "Wilhelms, Mr. Charles",
          "Turja, Miss. Anna Sofia",
          "Cardeza, Mr. Thomas Drake Martinez",
          "Hassab, Mr. Hammad",
          "Madill, Miss. Georgette Alexandra",
          "Dick, Mr. Albert Adrian",
          "Karun, Miss. Manca",
          "Lam, Mr. Ali",
          "Mullens, Miss. Katherine \"Katie\"",
          "Astor, Mrs. John Jacob (Madeleine Talmadge Force)",
          "Silverthorne, Mr. Spencer Victor",
          "Kelly, Mrs. Florence \"Fannie\"",
          "Calderhead, Mr. Edward Pennington",
          "Cleaver, Miss. Alice",
          "Moubarek, Master. Halim Gonios (\"William George\")",
          "Mayne, Mlle. Berthe Antonine (\"Mrs de Villiers\")",
          "Taylor, Mr. Elmer Zebley",
          "Endres, Miss. Caroline Louise",
          "Troutt, Miss. Edwina Celia \"Winnie\"",
          "Harper, Miss. Annie Jessie \"Nina\"",
          "Chambers, Mr. Norman Campbell",
          "Renouf, Mrs. Peter Henry (Lillian Jefferys)",
          "Mannion, Miss. Margareth",
          "Allen, Miss. Elisabeth Walton",
          "Lesurer, Mr. Gustave J",
          "Hawksford, Mr. Walter James",
          "Ryerson, Miss. Susan Parker \"Suzette\"",
          "Stranden, Mr. Juho",
          "Sinkkonen, Miss. Anna",
          "Wells, Miss. Joan",
          "Moor, Master. Meier",
          "Herman, Mrs. Samuel (Jane Laver)",
          "Hamalainen, Master. Viljo",
          "Rothes, the Countess. of (Lucy Noel Martha Dyer-Edwards)",
          "Barah, Mr. Hanna Assi",
          "Carter, Mrs. William Ernest (Lucile Polk)",
          "Hogeboom, Mrs. John C (Anna Andrews)",
          "Hocking, Mrs. Elizabeth (Eliza Needs)",
          "Emanuel, Miss. Virginia Ethel",
          "Robert, Mrs. Edward Scott (Elisabeth Walton McMillan)",
          "Ayoub, Miss. Banoura",
          "Dick, Mrs. Albert Adrian (Vera Gillespie)",
          "Sjoblom, Miss. Anna Sofia",
          "Dean, Master. Bertram Vere",
          "Leader, Dr. Alice (Farnham)",
          "Osman, Mrs. Mara",
          "Collyer, Mrs. Harvey (Charlotte Annie Tate)",
          "Carter, Master. William Thornton II",
          "Thomas, Master. Assad Alexander",
          "Hedman, Mr. Oskar Arvid",
          "Chambers, Mrs. Norman Campbell (Bertha Griggs)",
          "Hays, Mrs. Charles Melville (Clara Jennings Gregg)",
          "Lulic, Mr. Nikola",
          "Moor, Mrs. (Beila)",
          "Mallet, Master. Andre",
          "McCormack, Mr. Thomas Joseph",
          "Stone, Mrs. George Nelson (Martha Evelyn)",
          "Yasbeck, Mrs. Antoni (Selini Alexander)",
          "Richards, Master. George Sibley",
          "Compton, Miss. Sara Rebecca",
          "Chip, Mr. Chang",
          "Marechal, Mr. Pierre",
          "Serepeca, Miss. Augusta",
          "Goldenberg, Mrs. Samuel L (Edwiga Grabowska)",
          "Lines, Miss. Mary Conover",
          "Aks, Mrs. Sam (Leah Rosen)",
          "Wick, Mrs. George Dennick (Mary Hitchcock)",
          "Daly, Mr. Peter Denis ",
          "Baclini, Mrs. Solomon (Latifa Qurban)",
          "Swift, Mrs. Frederick Joel (Margaret Welles Barron)",
          "Bystrom, Mrs. (Karolina)",
          "Duran y More, Miss. Asuncion",
          "Johnson, Master. Harold Theodor",
          "Beckwith, Mrs. Richard Leonard (Sallie Monypeny)",
          "Abelson, Mrs. Samuel (Hannah Wizosky)",
          "Najib, Miss. Adele Kiamie \"Jane\"",
          "Potter, Mrs. Thomas Jr (Lily Alexenia Wilson)",
          "Shelley, Mrs. William (Imanita Parrish Hall)",
          "Graham, Miss. Margaret Edith",
          "Behr, Mr. Karl Howell"
         ],
         "yaxis": "y"
        },
        {
         "hovertemplate": "Survived=nan<br>Age=%{x}<br>Name=%{y}<extra></extra>",
         "legendgroup": "nan",
         "marker": {
          "color": "#76A4AC",
          "symbol": "circle"
         },
         "mode": "markers",
         "name": "nan",
         "showlegend": true,
         "type": "scattergl",
         "x": {
          "bdata": "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",
          "dtype": "f8"
         },
         "xaxis": "x",
         "y": [
          "Kelly, Mr. James",
          "Wilkes, Mrs. James (Ellen Needs)",
          "Myles, Mr. Thomas Francis",
          "Wirz, Mr. Albert",
          "Hirvonen, Mrs. Alexander (Helga E Lindqvist)",
          "Svensson, Mr. Johan Cervin",
          "Connolly, Miss. Kate",
          "Caldwell, Mr. Albert Francis",
          "Abrahim, Mrs. Joseph (Sophie Halaut Easu)",
          "Davies, Mr. John Samuel",
          "Ilieff, Mr. Ylio",
          "Jones, Mr. Charles Cresson",
          "Snyder, Mrs. John Pillsbury (Nelle Stevenson)",
          "Howard, Mr. Benjamin",
          "Chaffee, Mrs. Herbert Fuller (Carrie Constance Toogood)",
          "del Carlo, Mrs. Sebastiano (Argenia Genovesi)",
          "Keane, Mr. Daniel",
          "Assaf, Mr. Gerios",
          "Ilmakangas, Miss. Ida Livija",
          "Assaf Khalil, Mrs. Mariana (Miriam\")\"",
          "Rothschild, Mr. Martin",
          "Olsen, Master. Artur Karl",
          "Flegenheim, Mrs. Alfred (Antoinette)",
          "Williams, Mr. Richard Norris II",
          "Ryerson, Mrs. Arthur Larned (Emily Maria Borie)",
          "Robins, Mr. Alexander A",
          "Ostby, Miss. Helene Ragnhild",
          "Daher, Mr. Shedid",
          "Brady, Mr. John Bertram",
          "Samaan, Mr. Elias",
          "Louch, Mr. Charles Alexander",
          "Jefferys, Mr. Clifford Thomas",
          "Dean, Mrs. Bertram (Eva Georgetta Light)",
          "Johnston, Mrs. Andrew G (Elizabeth Lily\" Watson)\"",
          "Mock, Mr. Philipp Edmund",
          "Katavelas, Mr. Vassilios (Catavelas Vassilios\")\"",
          "Roth, Miss. Sarah A",
          "Cacic, Miss. Manda",
          "Sap, Mr. Julius",
          "Hee, Mr. Ling",
          "Karun, Mr. Franz",
          "Franklin, Mr. Thomas Parham",
          "Goldsmith, Mr. Nathan",
          "Corbett, Mrs. Walter H (Irene Colvin)",
          "Kimball, Mrs. Edwin Nelson Jr (Gertrude Parsons)",
          "Peltomaki, Mr. Nikolai Johannes",
          "Chevre, Mr. Paul Romaine",
          "Shaughnessy, Mr. Patrick",
          "Bucknell, Mrs. William Robert (Emma Eliza Ward)",
          "Coutts, Mrs. William (Winnie Minnie\" Treanor)\"",
          "Smith, Mr. Lucien Philip",
          "Pulbaum, Mr. Franz",
          "Hocking, Miss. Ellen Nellie\"\"",
          "Fortune, Miss. Ethel Flora",
          "Mangiavacchi, Mr. Serafino Emilio",
          "Rice, Master. Albert",
          "Cor, Mr. Bartol",
          "Abelseth, Mr. Olaus Jorgensen",
          "Davison, Mr. Thomas Henry",
          "Chaudanson, Miss. Victorine",
          "Dika, Mr. Mirko",
          "McCrae, Mr. Arthur Gordon",
          "Bjorklund, Mr. Ernst Herbert",
          "Bradley, Miss. Bridget Delia",
          "Ryerson, Master. John Borie",
          "Corey, Mrs. Percy C (Mary Phyllis Elizabeth Miller)",
          "Burns, Miss. Mary Delia",
          "Moore, Mr. Clarence Bloomfield",
          "Tucker, Mr. Gilbert Milligan Jr",
          "Fortune, Mrs. Mark (Mary McDougald)",
          "Mulvihill, Miss. Bertha E",
          "Minkoff, Mr. Lazar",
          "Nieminen, Miss. Manta Josefina",
          "Ovies y Rodriguez, Mr. Servando",
          "Geiger, Miss. Amalie",
          "Keeping, Mr. Edwin",
          "Miles, Mr. Frank",
          "Cornell, Mrs. Robert Clifford (Malvina Helen Lamson)",
          "Aldworth, Mr. Charles Augustus",
          "Doyle, Miss. Elizabeth",
          "Boulos, Master. Akar",
          "Straus, Mr. Isidor",
          "Case, Mr. Howard Brown",
          "Demetri, Mr. Marinko",
          "Lamb, Mr. John Joseph",
          "Khalil, Mr. Betros",
          "Barry, Miss. Julia",
          "Badman, Miss. Emily Louisa",
          "O'Donoghue, Ms. Bridget",
          "Wells, Master. Ralph Lester",
          "Dyker, Mrs. Adolf Fredrik (Anna Elisabeth Judith Andersson)",
          "Pedersen, Mr. Olaf",
          "Davidson, Mrs. Thornton (Orian Hays)",
          "Guest, Mr. Robert",
          "Birnbaum, Mr. Jakob",
          "Tenglin, Mr. Gunnar Isidor",
          "Cavendish, Mrs. Tyrell William (Julia Florence Siegel)",
          "Makinen, Mr. Kalle Edvard",
          "Braf, Miss. Elin Ester Maria",
          "Nancarrow, Mr. William Henry",
          "Stengel, Mrs. Charles Emil Henry (Annie May Morris)",
          "Weisz, Mr. Leopold",
          "Foley, Mr. William",
          "Johansson Palmquist, Mr. Oskar Leander",
          "Thomas, Mrs. Alexander (Thamine Thelma\")\"",
          "Holthen, Mr. Johan Martin",
          "Buckley, Mr. Daniel",
          "Ryan, Mr. Edward",
          "Willer, Mr. Aaron (Abi Weller\")\"",
          "Swane, Mr. George",
          "Stanton, Mr. Samuel Ward",
          "Shine, Miss. Ellen Natalia",
          "Evans, Miss. Edith Corse",
          "Buckley, Miss. Katherine",
          "Straus, Mrs. Isidor (Rosalie Ida Blun)",
          "Chronopoulos, Mr. Demetrios",
          "Thomas, Mr. John",
          "Sandstrom, Miss. Beatrice Irene",
          "Beattie, Mr. Thomson",
          "Chapman, Mrs. John Henry (Sara Elizabeth Lawry)",
          "Watt, Miss. Bertha J",
          "Kiernan, Mr. John",
          "Schabert, Mrs. Paul (Emma Mock)",
          "Carver, Mr. Alfred John",
          "Kennedy, Mr. John",
          "Cribb, Miss. Laura Alice",
          "Brobeck, Mr. Karl Rudolf",
          "McCoy, Miss. Alicia",
          "Bowenur, Mr. Solomon",
          "Petersen, Mr. Marius",
          "Spinner, Mr. Henry John",
          "Gracie, Col. Archibald IV",
          "Lefebre, Mrs. Frank (Frances)",
          "Thomas, Mr. Charles P",
          "Dintcheff, Mr. Valtcho",
          "Carlsson, Mr. Carl Robert",
          "Zakarian, Mr. Mapriededer",
          "Schmidt, Mr. August",
          "Drapkin, Miss. Jennie",
          "Goodwin, Mr. Charles Frederick",
          "Goodwin, Miss. Jessie Allis",
          "Daniels, Miss. Sarah",
          "Ryerson, Mr. Arthur Larned",
          "Beauchamp, Mr. Henry James",
          "Lindeberg-Lind, Mr. Erik Gustaf (Mr Edward Lingrey\")\"",
          "Vander Planke, Mr. Julius",
          "Hilliard, Mr. Herbert Henry",
          "Davies, Mr. Evan",
          "Crafton, Mr. John Bertram",
          "Lahtinen, Rev. William",
          "Earnshaw, Mrs. Boulton (Olive Potter)",
          "Matinoff, Mr. Nicola",
          "Storey, Mr. Thomas",
          "Klasen, Mrs. (Hulda Kristina Eugenia Lofqvist)",
          "Asplund, Master. Filip Oscar",
          "Duquemin, Mr. Joseph",
          "Bird, Miss. Ellen",
          "Lundin, Miss. Olga Elida",
          "Borebank, Mr. John James",
          "Peacock, Mrs. Benjamin (Edith Nile)",
          "Smyth, Miss. Julia",
          "Touma, Master. Georges Youssef",
          "Wright, Miss. Marion",
          "Pearce, Mr. Ernest",
          "Peruschitz, Rev. Joseph Maria",
          "Kink-Heilmann, Mrs. Anton (Luise Heilmann)",
          "Brandeis, Mr. Emil",
          "Ford, Mr. Edward Watson",
          "Cassebeer, Mrs. Henry Arthur Jr (Eleanor Genevieve Fosdick)",
          "Hellstrom, Miss. Hilda Maria",
          "Lithman, Mr. Simon",
          "Zakarian, Mr. Ortin",
          "Dyker, Mr. Adolf Fredrik",
          "Torfa, Mr. Assad",
          "Asplund, Mr. Carl Oscar Vilhelm Gustafsson",
          "Brown, Miss. Edith Eileen",
          "Sincock, Miss. Maude",
          "Stengel, Mr. Charles Emil Henry",
          "Becker, Mrs. Allen Oliver (Nellie E Baumgardner)",
          "Compton, Mrs. Alexander Taylor (Mary Eliza Ingersoll)",
          "McCrie, Mr. James Matthew",
          "Compton, Mr. Alexander Taylor Jr",
          "Marvin, Mrs. Daniel Warner (Mary Graham Carmichael Farquarson)",
          "Lane, Mr. Patrick",
          "Douglas, Mrs. Frederick Charles (Mary Helene Baxter)",
          "Maybery, Mr. Frank Hubert",
          "Phillips, Miss. Alice Frances Louisa",
          "Davies, Mr. Joseph",
          "Sage, Miss. Ada",
          "Veal, Mr. James",
          "Angle, Mr. William A",
          "Salomon, Mr. Abraham L",
          "van Billiard, Master. Walter John",
          "Lingane, Mr. John",
          "Drew, Master. Marshall Brines",
          "Karlsson, Mr. Julius Konrad Eugen",
          "Spedden, Master. Robert Douglas",
          "Nilsson, Miss. Berta Olivia",
          "Baimbrigge, Mr. Charles Robert",
          "Rasmussen, Mrs. (Lena Jacobsen Solvang)",
          "Murphy, Miss. Nora",
          "Danbom, Master. Gilbert Sigvard Emanuel",
          "Astor, Col. John Jacob",
          "Quick, Miss. Winifred Vera",
          "Andrew, Mr. Frank Thomas",
          "Omont, Mr. Alfred Fernand",
          "McGowan, Miss. Katherine",
          "Collett, Mr. Sidney C Stuart",
          "Rosenbaum, Miss. Edith Louise",
          "Delalic, Mr. Redjo",
          "Andersen, Mr. Albert Karvin",
          "Finoli, Mr. Luigi",
          "Deacon, Mr. Percy William",
          "Howard, Mrs. Benjamin (Ellen Truelove Arman)",
          "Andersson, Miss. Ida Augusta Margareta",
          "Head, Mr. Christopher",
          "Mahon, Miss. Bridget Delia",
          "Wick, Mr. George Dennick",
          "Widener, Mrs. George Dunton (Eleanor Elkins)",
          "Thomson, Mr. Alexander Morrison",
          "Duran y More, Miss. Florentina",
          "Reynolds, Mr. Harold J",
          "Cook, Mrs. (Selena Rogers)",
          "Karlsson, Mr. Einar Gervasius",
          "Candee, Mrs. Edward (Helen Churchill Hungerford)",
          "Moubarek, Mrs. George (Omine Amenia\" Alexander)\"",
          "Asplund, Mr. Johan Charles",
          "McNeill, Miss. Bridget",
          "Everett, Mr. Thomas James",
          "Hocking, Mr. Samuel James Metcalfe",
          "Sweet, Mr. George Frederick",
          "Willard, Miss. Constance",
          "Wiklund, Mr. Karl Johan",
          "Linehan, Mr. Michael",
          "Cumings, Mr. John Bradley",
          "Vendel, Mr. Olof Edvin",
          "Warren, Mr. Frank Manley",
          "Baccos, Mr. Raffull",
          "Hiltunen, Miss. Marta",
          "Douglas, Mrs. Walter Donald (Mahala Dutton)",
          "Lindstrom, Mrs. Carl Johan (Sigrid Posse)",
          "Christy, Mrs. (Alice Frances)",
          "Spedden, Mr. Frederic Oakley",
          "Hyman, Mr. Abraham",
          "Johnston, Master. William Arthur Willie\"\"",
          "Kenyon, Mr. Frederick R",
          "Karnes, Mrs. J Frank (Claire Bennett)",
          "Drew, Mr. James Vivian",
          "Hold, Mrs. Stephen (Annie Margaret Hill)",
          "Khalil, Mrs. Betros (Zahie Maria\" Elias)\"",
          "West, Miss. Barbara J",
          "Abrahamsson, Mr. Abraham August Johannes",
          "Clark, Mr. Walter Miller",
          "Salander, Mr. Karl Johan",
          "Wenzel, Mr. Linhart",
          "MacKay, Mr. George William",
          "Mahon, Mr. John",
          "Niklasson, Mr. Samuel",
          "Bentham, Miss. Lilian W",
          "Midtsjo, Mr. Karl Albert",
          "de Messemaeker, Mr. Guillaume Joseph",
          "Nilsson, Mr. August Ferdinand",
          "Wells, Mrs. Arthur Henry (Addie\" Dart Trevaskis)\"",
          "Klasen, Miss. Gertrud Emilia",
          "Portaluppi, Mr. Emilio Ilario Giuseppe",
          "Lyntakoff, Mr. Stanko",
          "Chisholm, Mr. Roderick Robert Crispin",
          "Warren, Mr. Charles William",
          "Howard, Miss. May Elizabeth",
          "Pokrnic, Mr. Mate",
          "McCaffry, Mr. Thomas Francis",
          "Fox, Mr. Patrick",
          "Clark, Mrs. Walter Miller (Virginia McDowell)",
          "Lennon, Miss. Mary",
          "Saade, Mr. Jean Nassr",
          "Bryhl, Miss. Dagmar Jenny Ingeborg ",
          "Parker, Mr. Clifford Richard",
          "Faunthorpe, Mr. Harry",
          "Ware, Mr. John James",
          "Oxenham, Mr. Percy Thomas",
          "Oreskovic, Miss. Jelka",
          "Peacock, Master. Alfred Edward",
          "Fleming, Miss. Honora",
          "Touma, Miss. Maria Youssef",
          "Rosblom, Miss. Salli Helena",
          "Dennis, Mr. William",
          "Franklin, Mr. Charles (Charles Fardon)",
          "Snyder, Mr. John Pillsbury",
          "Mardirosian, Mr. Sarkis",
          "Ford, Mr. Arthur",
          "Rheims, Mr. George Alexander Lucien",
          "Daly, Miss. Margaret Marcella Maggie\"\"",
          "Nasr, Mr. Mustafa",
          "Dodge, Dr. Washington",
          "Wittevrongel, Mr. Camille",
          "Angheloff, Mr. Minko",
          "Laroche, Miss. Louise",
          "Samaan, Mr. Hanna",
          "Loring, Mr. Joseph Holland",
          "Johansson, Mr. Nils",
          "Olsson, Mr. Oscar Wilhelm",
          "Malachard, Mr. Noel",
          "Phillips, Mr. Escott Robert",
          "Pokrnic, Mr. Tome",
          "McCarthy, Miss. Catherine Katie\"\"",
          "Crosby, Mrs. Edward Gifford (Catherine Elizabeth Halstead)",
          "Allison, Mr. Hudson Joshua Creighton",
          "Aks, Master. Philip Frank",
          "Hays, Mr. Charles Melville",
          "Hansen, Mrs. Claus Peter (Jennie L Howard)",
          "Cacic, Mr. Jego Grga",
          "Vartanian, Mr. David",
          "Sadowitz, Mr. Harry",
          "Carr, Miss. Jeannie",
          "White, Mrs. John Stuart (Ella Holmes)",
          "Hagardon, Miss. Kate",
          "Spencer, Mr. William Augustus",
          "Rogers, Mr. Reginald Harry",
          "Jonsson, Mr. Nils Hilding",
          "Jefferys, Mr. Ernest Wilfred",
          "Andersson, Mr. Johan Samuel",
          "Krekorian, Mr. Neshan",
          "Nesson, Mr. Israel",
          "Rowe, Mr. Alfred G",
          "Kreuchen, Miss. Emilie",
          "Assam, Mr. Ali",
          "Becker, Miss. Ruth Elizabeth",
          "Rosenshine, Mr. George (Mr George Thorne\")\"",
          "Clarke, Mr. Charles Valentine",
          "Enander, Mr. Ingvar",
          "Davies, Mrs. John Morgan (Elizabeth Agnes Mary White) ",
          "Dulles, Mr. William Crothers",
          "Thomas, Mr. Tannous",
          "Nakid, Mrs. Said (Waika Mary\" Mowad)\"",
          "Cor, Mr. Ivan",
          "Maguire, Mr. John Edward",
          "de Brito, Mr. Jose Joaquim",
          "Elias, Mr. Joseph",
          "Denbury, Mr. Herbert",
          "Betros, Master. Seman",
          "Fillbrook, Mr. Joseph Charles",
          "Lundstrom, Mr. Thure Edvin",
          "Sage, Mr. John George",
          "Cardeza, Mrs. James Warburton Martinez (Charlotte Wardle Drake)",
          "van Billiard, Master. James William",
          "Abelseth, Miss. Karen Marie",
          "Botsford, Mr. William Hull",
          "Whabee, Mrs. George Joseph (Shawneene Abi-Saab)",
          "Giles, Mr. Ralph",
          "Walcroft, Miss. Nellie",
          "Greenfield, Mrs. Leo David (Blanche Strouse)",
          "Stokes, Mr. Philip Joseph",
          "Dibden, Mr. William",
          "Herman, Mr. Samuel",
          "Dean, Miss. Elizabeth Gladys Millvina\"\"",
          "Julian, Mr. Henry Forbes",
          "Brown, Mrs. John Murray (Caroline Lane Lamson)",
          "Lockyer, Mr. Edward",
          "O'Keefe, Mr. Patrick",
          "Lindell, Mrs. Edvard Bengtsson (Elin Gerda Persson)",
          "Sage, Master. William Henry",
          "Mallet, Mrs. Albert (Antoinette Magnin)",
          "Ware, Mrs. John James (Florence Louise Long)",
          "Strilic, Mr. Ivan",
          "Harder, Mrs. George Achilles (Dorothy Annan)",
          "Sage, Mrs. John (Annie Bullen)",
          "Caram, Mr. Joseph",
          "Riihivouri, Miss. Susanna Juhantytar Sanni\"\"",
          "Gibson, Mrs. Leonard (Pauline C Boeson)",
          "Pallas y Castello, Mr. Emilio",
          "Giles, Mr. Edgar",
          "Wilson, Miss. Helen Alice",
          "Ismay, Mr. Joseph Bruce",
          "Harbeck, Mr. William H",
          "Dodge, Mrs. Washington (Ruth Vidaver)",
          "Bowen, Miss. Grace Scott",
          "Kink, Miss. Maria",
          "Cotterill, Mr. Henry Harry\"\"",
          "Hipkins, Mr. William Edward",
          "Asplund, Master. Carl Edgar",
          "O'Connor, Mr. Patrick",
          "Foley, Mr. Joseph",
          "Risien, Mrs. Samuel (Emma)",
          "McNamee, Mrs. Neal (Eileen O'Leary)",
          "Wheeler, Mr. Edwin Frederick\"\"",
          "Herman, Miss. Kate",
          "Aronsson, Mr. Ernst Axel Algot",
          "Ashby, Mr. John",
          "Canavan, Mr. Patrick",
          "Palsson, Master. Paul Folke",
          "Payne, Mr. Vivian Ponsonby",
          "Lines, Mrs. Ernest H (Elizabeth Lindsey James)",
          "Abbott, Master. Eugene Joseph",
          "Gilbert, Mr. William",
          "Kink-Heilmann, Mr. Anton",
          "Smith, Mrs. Lucien Philip (Mary Eloise Hughes)",
          "Colbert, Mr. Patrick",
          "Frolicher-Stehli, Mrs. Maxmillian (Margaretha Emerentia Stehli)",
          "Larsson-Rondberg, Mr. Edvard A",
          "Conlon, Mr. Thomas Henry",
          "Bonnell, Miss. Caroline",
          "Gale, Mr. Harry",
          "Gibson, Miss. Dorothy Winifred",
          "Carrau, Mr. Jose Pedro",
          "Frauenthal, Mr. Isaac Gerald",
          "Nourney, Mr. Alfred (Baron von Drachstedt\")\"",
          "Ware, Mr. William Jeffery",
          "Widener, Mr. George Dunton",
          "Riordan, Miss. Johanna Hannah\"\"",
          "Peacock, Miss. Treasteall",
          "Naughton, Miss. Hannah",
          "Minahan, Mrs. William Edward (Lillian E Thorpe)",
          "Henriksson, Miss. Jenny Lovisa",
          "Spector, Mr. Woolf",
          "Oliva y Ocana, Dona. Fermina",
          "Saether, Mr. Simon Sivertsen",
          "Ware, Mr. Frederick",
          "Peter, Master. Michael J"
         ],
         "yaxis": "y"
        }
       ],
       "layout": {
        "height": 500,
        "legend": {
         "title": {
          "text": "Survived"
         },
         "tracegroupgap": 0
        },
        "margin": {
         "t": 60
        },
        "template": {
         "data": {
          "bar": [
           {
            "error_x": {
             "color": "#2a3f5f"
            },
            "error_y": {
             "color": "#2a3f5f"
            },
            "marker": {
             "line": {
              "color": "#E5ECF6",
              "width": 0.5
             },
             "pattern": {
              "fillmode": "overlay",
              "size": 10,
              "solidity": 0.2
             }
            },
            "type": "bar"
           }
          ],
          "barpolar": [
           {
            "marker": {
             "line": {
              "color": "#E5ECF6",
              "width": 0.5
             },
             "pattern": {
              "fillmode": "overlay",
              "size": 10,
              "solidity": 0.2
             }
            },
            "type": "barpolar"
           }
          ],
          "carpet": [
           {
            "aaxis": {
             "endlinecolor": "#2a3f5f",
             "gridcolor": "white",
             "linecolor": "white",
             "minorgridcolor": "white",
             "startlinecolor": "#2a3f5f"
            },
            "baxis": {
             "endlinecolor": "#2a3f5f",
             "gridcolor": "white",
             "linecolor": "white",
             "minorgridcolor": "white",
             "startlinecolor": "#2a3f5f"
            },
            "type": "carpet"
           }
          ],
          "choropleth": [
           {
            "colorbar": {
             "outlinewidth": 0,
             "ticks": ""
            },
            "type": "choropleth"
           }
          ],
          "contour": [
           {
            "colorbar": {
             "outlinewidth": 0,
             "ticks": ""
            },
            "colorscale": [
             [
              0,
              "#0d0887"
             ],
             [
              0.1111111111111111,
              "#46039f"
             ],
             [
              0.2222222222222222,
              "#7201a8"
             ],
             [
              0.3333333333333333,
              "#9c179e"
             ],
             [
              0.4444444444444444,
              "#bd3786"
             ],
             [
              0.5555555555555556,
              "#d8576b"
             ],
             [
              0.6666666666666666,
              "#ed7953"
             ],
             [
              0.7777777777777778,
              "#fb9f3a"
             ],
             [
              0.8888888888888888,
              "#fdca26"
             ],
             [
              1,
              "#f0f921"
             ]
            ],
            "type": "contour"
           }
          ],
          "contourcarpet": [
           {
            "colorbar": {
             "outlinewidth": 0,
             "ticks": ""
            },
            "type": "contourcarpet"
           }
          ],
          "heatmap": [
           {
            "colorbar": {
             "outlinewidth": 0,
             "ticks": ""
            },
            "colorscale": [
             [
              0,
              "#0d0887"
             ],
             [
              0.1111111111111111,
              "#46039f"
             ],
             [
              0.2222222222222222,
              "#7201a8"
             ],
             [
              0.3333333333333333,
              "#9c179e"
             ],
             [
              0.4444444444444444,
              "#bd3786"
             ],
             [
              0.5555555555555556,
              "#d8576b"
             ],
             [
              0.6666666666666666,
              "#ed7953"
             ],
             [
              0.7777777777777778,
              "#fb9f3a"
             ],
             [
              0.8888888888888888,
              "#fdca26"
             ],
             [
              1,
              "#f0f921"
             ]
            ],
            "type": "heatmap"
           }
          ],
          "histogram": [
           {
            "marker": {
             "pattern": {
              "fillmode": "overlay",
              "size": 10,
              "solidity": 0.2
             }
            },
            "type": "histogram"
           }
          ],
          "histogram2d": [
           {
            "colorbar": {
             "outlinewidth": 0,
             "ticks": ""
            },
            "colorscale": [
             [
              0,
              "#0d0887"
             ],
             [
              0.1111111111111111,
              "#46039f"
             ],
             [
              0.2222222222222222,
              "#7201a8"
             ],
             [
              0.3333333333333333,
              "#9c179e"
             ],
             [
              0.4444444444444444,
              "#bd3786"
             ],
             [
              0.5555555555555556,
              "#d8576b"
             ],
             [
              0.6666666666666666,
              "#ed7953"
             ],
             [
              0.7777777777777778,
              "#fb9f3a"
             ],
             [
              0.8888888888888888,
              "#fdca26"
             ],
             [
              1,
              "#f0f921"
             ]
            ],
            "type": "histogram2d"
           }
          ],
          "histogram2dcontour": [
           {
            "colorbar": {
             "outlinewidth": 0,
             "ticks": ""
            },
            "colorscale": [
             [
              0,
              "#0d0887"
             ],
             [
              0.1111111111111111,
              "#46039f"
             ],
             [
              0.2222222222222222,
              "#7201a8"
             ],
             [
              0.3333333333333333,
              "#9c179e"
             ],
             [
              0.4444444444444444,
              "#bd3786"
             ],
             [
              0.5555555555555556,
              "#d8576b"
             ],
             [
              0.6666666666666666,
              "#ed7953"
             ],
             [
              0.7777777777777778,
              "#fb9f3a"
             ],
             [
              0.8888888888888888,
              "#fdca26"
             ],
             [
              1,
              "#f0f921"
             ]
            ],
            "type": "histogram2dcontour"
           }
          ],
          "mesh3d": [
           {
            "colorbar": {
             "outlinewidth": 0,
             "ticks": ""
            },
            "type": "mesh3d"
           }
          ],
          "parcoords": [
           {
            "line": {
             "colorbar": {
              "outlinewidth": 0,
              "ticks": ""
             }
            },
            "type": "parcoords"
           }
          ],
          "pie": [
           {
            "automargin": true,
            "type": "pie"
           }
          ],
          "scatter": [
           {
            "fillpattern": {
             "fillmode": "overlay",
             "size": 10,
             "solidity": 0.2
            },
            "type": "scatter"
           }
          ],
          "scatter3d": [
           {
            "line": {
             "colorbar": {
              "outlinewidth": 0,
              "ticks": ""
             }
            },
            "marker": {
             "colorbar": {
              "outlinewidth": 0,
              "ticks": ""
             }
            },
            "type": "scatter3d"
           }
          ],
          "scattercarpet": [
           {
            "marker": {
             "colorbar": {
              "outlinewidth": 0,
              "ticks": ""
             }
            },
            "type": "scattercarpet"
           }
          ],
          "scattergeo": [
           {
            "marker": {
             "colorbar": {
              "outlinewidth": 0,
              "ticks": ""
             }
            },
            "type": "scattergeo"
           }
          ],
          "scattergl": [
           {
            "marker": {
             "colorbar": {
              "outlinewidth": 0,
              "ticks": ""
             }
            },
            "type": "scattergl"
           }
          ],
          "scattermap": [
           {
            "marker": {
             "colorbar": {
              "outlinewidth": 0,
              "ticks": ""
             }
            },
            "type": "scattermap"
           }
          ],
          "scattermapbox": [
           {
            "marker": {
             "colorbar": {
              "outlinewidth": 0,
              "ticks": ""
             }
            },
            "type": "scattermapbox"
           }
          ],
          "scatterpolar": [
           {
            "marker": {
             "colorbar": {
              "outlinewidth": 0,
              "ticks": ""
             }
            },
            "type": "scatterpolar"
           }
          ],
          "scatterpolargl": [
           {
            "marker": {
             "colorbar": {
              "outlinewidth": 0,
              "ticks": ""
             }
            },
            "type": "scatterpolargl"
           }
          ],
          "scatterternary": [
           {
            "marker": {
             "colorbar": {
              "outlinewidth": 0,
              "ticks": ""
             }
            },
            "type": "scatterternary"
           }
          ],
          "surface": [
           {
            "colorbar": {
             "outlinewidth": 0,
             "ticks": ""
            },
            "colorscale": [
             [
              0,
              "#0d0887"
             ],
             [
              0.1111111111111111,
              "#46039f"
             ],
             [
              0.2222222222222222,
              "#7201a8"
             ],
             [
              0.3333333333333333,
              "#9c179e"
             ],
             [
              0.4444444444444444,
              "#bd3786"
             ],
             [
              0.5555555555555556,
              "#d8576b"
             ],
             [
              0.6666666666666666,
              "#ed7953"
             ],
             [
              0.7777777777777778,
              "#fb9f3a"
             ],
             [
              0.8888888888888888,
              "#fdca26"
             ],
             [
              1,
              "#f0f921"
             ]
            ],
            "type": "surface"
           }
          ],
          "table": [
           {
            "cells": {
             "fill": {
              "color": "#EBF0F8"
             },
             "line": {
              "color": "white"
             }
            },
            "header": {
             "fill": {
              "color": "#C8D4E3"
             },
             "line": {
              "color": "white"
             }
            },
            "type": "table"
           }
          ]
         },
         "layout": {
          "annotationdefaults": {
           "arrowcolor": "#2a3f5f",
           "arrowhead": 0,
           "arrowwidth": 1
          },
          "autotypenumbers": "strict",
          "coloraxis": {
           "colorbar": {
            "outlinewidth": 0,
            "ticks": ""
           }
          },
          "colorscale": {
           "diverging": [
            [
             0,
             "#8e0152"
            ],
            [
             0.1,
             "#c51b7d"
            ],
            [
             0.2,
             "#de77ae"
            ],
            [
             0.3,
             "#f1b6da"
            ],
            [
             0.4,
             "#fde0ef"
            ],
            [
             0.5,
             "#f7f7f7"
            ],
            [
             0.6,
             "#e6f5d0"
            ],
            [
             0.7,
             "#b8e186"
            ],
            [
             0.8,
             "#7fbc41"
            ],
            [
             0.9,
             "#4d9221"
            ],
            [
             1,
             "#276419"
            ]
           ],
           "sequential": [
            [
             0,
             "#0d0887"
            ],
            [
             0.1111111111111111,
             "#46039f"
            ],
            [
             0.2222222222222222,
             "#7201a8"
            ],
            [
             0.3333333333333333,
             "#9c179e"
            ],
            [
             0.4444444444444444,
             "#bd3786"
            ],
            [
             0.5555555555555556,
             "#d8576b"
            ],
            [
             0.6666666666666666,
             "#ed7953"
            ],
            [
             0.7777777777777778,
             "#fb9f3a"
            ],
            [
             0.8888888888888888,
             "#fdca26"
            ],
            [
             1,
             "#f0f921"
            ]
           ],
           "sequentialminus": [
            [
             0,
             "#0d0887"
            ],
            [
             0.1111111111111111,
             "#46039f"
            ],
            [
             0.2222222222222222,
             "#7201a8"
            ],
            [
             0.3333333333333333,
             "#9c179e"
            ],
            [
             0.4444444444444444,
             "#bd3786"
            ],
            [
             0.5555555555555556,
             "#d8576b"
            ],
            [
             0.6666666666666666,
             "#ed7953"
            ],
            [
             0.7777777777777778,
             "#fb9f3a"
            ],
            [
             0.8888888888888888,
             "#fdca26"
            ],
            [
             1,
             "#f0f921"
            ]
           ]
          },
          "colorway": [
           "#636efa",
           "#EF553B",
           "#00cc96",
           "#ab63fa",
           "#FFA15A",
           "#19d3f3",
           "#FF6692",
           "#B6E880",
           "#FF97FF",
           "#FECB52"
          ],
          "font": {
           "color": "#2a3f5f"
          },
          "geo": {
           "bgcolor": "white",
           "lakecolor": "white",
           "landcolor": "#E5ECF6",
           "showlakes": true,
           "showland": true,
           "subunitcolor": "white"
          },
          "hoverlabel": {
           "align": "left"
          },
          "hovermode": "closest",
          "mapbox": {
           "style": "light"
          },
          "paper_bgcolor": "white",
          "plot_bgcolor": "#E5ECF6",
          "polar": {
           "angularaxis": {
            "gridcolor": "white",
            "linecolor": "white",
            "ticks": ""
           },
           "bgcolor": "#E5ECF6",
           "radialaxis": {
            "gridcolor": "white",
            "linecolor": "white",
            "ticks": ""
           }
          },
          "scene": {
           "xaxis": {
            "backgroundcolor": "#E5ECF6",
            "gridcolor": "white",
            "gridwidth": 2,
            "linecolor": "white",
            "showbackground": true,
            "ticks": "",
            "zerolinecolor": "white"
           },
           "yaxis": {
            "backgroundcolor": "#E5ECF6",
            "gridcolor": "white",
            "gridwidth": 2,
            "linecolor": "white",
            "showbackground": true,
            "ticks": "",
            "zerolinecolor": "white"
           },
           "zaxis": {
            "backgroundcolor": "#E5ECF6",
            "gridcolor": "white",
            "gridwidth": 2,
            "linecolor": "white",
            "showbackground": true,
            "ticks": "",
            "zerolinecolor": "white"
           }
          },
          "shapedefaults": {
           "line": {
            "color": "#2a3f5f"
           }
          },
          "ternary": {
           "aaxis": {
            "gridcolor": "white",
            "linecolor": "white",
            "ticks": ""
           },
           "baxis": {
            "gridcolor": "white",
            "linecolor": "white",
            "ticks": ""
           },
           "bgcolor": "#E5ECF6",
           "caxis": {
            "gridcolor": "white",
            "linecolor": "white",
            "ticks": ""
           }
          },
          "title": {
           "x": 0.05
          },
          "xaxis": {
           "automargin": true,
           "gridcolor": "white",
           "linecolor": "white",
           "ticks": "",
           "title": {
            "standoff": 15
           },
           "zerolinecolor": "white",
           "zerolinewidth": 2
          },
          "yaxis": {
           "automargin": true,
           "gridcolor": "white",
           "linecolor": "white",
           "ticks": "",
           "title": {
            "standoff": 15
           },
           "zerolinecolor": "white",
           "zerolinewidth": 2
          }
         }
        },
        "width": 1200,
        "xaxis": {
         "anchor": "y",
         "domain": [
          0,
          1
         ],
         "title": {
          "text": "Age"
         }
        },
        "yaxis": {
         "anchor": "x",
         "domain": [
          0,
          1
         ],
         "title": {
          "text": "Name"
         }
        }
       }
      }
     },
     "metadata": {},
     "output_type": "display_data"
    }
   ],
   "source": [
    "dfplt = df.copy(deep=True)\n",
    "dfplt[\"Survived\"] = dfplt[\"Survived\"].astype(str)\n",
    "fig = px.scatter(dfplt, x=\"Age\", y=\"Name\", color = \"Survived\", size_max=6,\n",
    "                 width=1200, height=500,color_discrete_sequence=cm)\n",
    "fig.show()"
   ]
  },
  {
   "cell_type": "code",
   "execution_count": 133,
   "id": "c9bad842",
   "metadata": {},
   "outputs": [
    {
     "name": "stdout",
     "output_type": "stream",
     "text": [
      "Survived                   NaN\n",
      "Pclass                       3\n",
      "Name        Storey, Mr. Thomas\n",
      "Sex                       male\n",
      "Age                       60.5\n",
      "SibSp                        0\n",
      "Parch                        0\n",
      "Ticket                    3701\n",
      "Fare                       NaN\n",
      "Cabin                      NaN\n",
      "Embarked                     S\n",
      "Deck                       N/A\n",
      "Side                       NaN\n",
      "Name: 1044, dtype: object\n"
     ]
    }
   ],
   "source": [
    "print(df.loc[1044])\n",
    "df.loc[1044,\"Fare\"] = df[df[\"Pclass\"]==3][\"Fare\"].mean()"
   ]
  },
  {
   "cell_type": "code",
   "execution_count": 134,
   "id": "63dbd2f4",
   "metadata": {},
   "outputs": [],
   "source": [
    "df[\"Fare\"] = df[\"Fare\"].rank(method='max')"
   ]
  },
  {
   "cell_type": "code",
   "execution_count": 135,
   "id": "45e9eb08",
   "metadata": {},
   "outputs": [
    {
     "data": {
      "application/vnd.plotly.v1+json": {
       "config": {
        "plotlyServerURL": "https://plot.ly"
       },
       "data": [
        {
         "hovertemplate": "Survived=0.0<br>Fare=%{x}<br>Name=%{y}<extra></extra>",
         "legendgroup": "0.0",
         "marker": {
          "color": "#273176",
          "symbol": "circle"
         },
         "mode": "markers",
         "name": "0.0",
         "showlegend": true,
         "type": "scattergl",
         "x": {
          "bdata": "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",
          "dtype": "f8"
         },
         "xaxis": "x",
         "y": [
          "Braund, Mr. Owen Harris",
          "Allen, Mr. William Henry",
          "Moran, Mr. James",
          "McCarthy, Mr. Timothy J",
          "Palsson, Master. Gosta Leonard",
          "Saundercock, Mr. William Henry",
          "Andersson, Mr. Anders Johan",
          "Vestrom, Miss. Hulda Amanda Adolfina",
          "Rice, Master. Eugene",
          "Vander Planke, Mrs. Julius (Emelia Maria Vandemoortele)",
          "Fynney, Mr. Joseph J",
          "Palsson, Miss. Torborg Danira",
          "Emir, Mr. Farred Chehab",
          "Fortune, Mr. Charles Alexander",
          "Todoroff, Mr. Lalio",
          "Uruchurtu, Don. Manuel E",
          "Wheadon, Mr. Edward H",
          "Meyer, Mr. Edgar Joseph",
          "Holverson, Mr. Alexander Oskar",
          "Cann, Mr. Ernest Charles",
          "Vander Planke, Miss. Augusta Maria",
          "Ahlin, Mrs. Johan (Johanna Persdotter Larsson)",
          "Turpin, Mrs. William John Robert (Dorothy Ann Wonnacott)",
          "Kraeff, Mr. Theodor",
          "Rogers, Mr. William John",
          "Lennon, Mr. Denis",
          "Samaan, Mr. Youssef",
          "Arnold-Franchi, Mrs. Josef (Josefine Franchi)",
          "Panula, Master. Juha Niilo",
          "Nosworthy, Mr. Richard Cater",
          "Ostby, Mr. Engelhart Cornelius",
          "Novel, Mr. Mansouer",
          "Goodwin, Master. William Frederick",
          "Sirayanian, Mr. Orsen",
          "Harris, Mr. Henry Birkhardt",
          "Skoog, Master. Harald",
          "Stewart, Mr. Albert A",
          "Crease, Mr. Ernest James",
          "Kink, Mr. Vincenz",
          "Jenkin, Mr. Stephen Curnow",
          "Goodwin, Miss. Lillian Amy",
          "Hood, Mr. Ambrose Jr",
          "Chronopoulos, Mr. Apostolos",
          "Moen, Mr. Sigurd Hansen",
          "Staneff, Mr. Ivan",
          "Moutal, Mr. Rahamin Haim",
          "Waelens, Mr. Achille",
          "Carrau, Mr. Francisco M",
          "Ford, Mr. William Neal",
          "Slocovski, Mr. Selman Francis",
          "Celotti, Mr. Francesco",
          "Christmann, Mr. Emil",
          "Andreasson, Mr. Paul Edvin",
          "Chaffee, Mr. Herbert Fuller",
          "Dean, Mr. Bertram Frank",
          "Coxon, Mr. Daniel",
          "Shorney, Mr. Charles Joseph",
          "Goldschmidt, Mr. George B",
          "Kantor, Mr. Sinai",
          "Petranec, Miss. Matilda",
          "Petroff, Mr. Pastcho (\"Pentcho\")",
          "White, Mr. Richard Frasar",
          "Johansson, Mr. Gustaf Joel",
          "Gustafsson, Mr. Anders Vilhelm",
          "Mionoff, Mr. Stoytcho",
          "Rekic, Mr. Tido",
          "Porter, Mr. Walter Chamberlain",
          "Zabour, Miss. Hileni",
          "Barton, Mr. David John",
          "Jussila, Miss. Katriina",
          "Attalah, Miss. Malake",
          "Pekoniemi, Mr. Edvard",
          "Connors, Mr. Patrick",
          "Turpin, Mr. William John Robert",
          "Baxter, Mr. Quigg Edmond",
          "Andersson, Miss. Ellis Anna Maria",
          "Hickman, Mr. Stanley George",
          "Moore, Mr. Leonard Charles",
          "Nasser, Mr. Nicholas",
          "White, Mr. Percival Wayland",
          "McMahon, Mr. Martin",
          "Ekstrom, Mr. Johan",
          "Drazenoic, Mr. Jozef",
          "Coelho, Mr. Domingos Fernandeo",
          "Robins, Mrs. Alexander A (Grace Charity Laury)",
          "Sobey, Mr. Samuel James Hayden",
          "Richard, Mr. Emile",
          "Futrelle, Mr. Jacques Heath",
          "Osen, Mr. Olaf Elon",
          "Giglio, Mr. Victor",
          "Boulos, Mrs. Joseph (Sultana)",
          "Burke, Mr. Jeremiah",
          "Andrew, Mr. Edgardo Samuel",
          "Nicholls, Mr. Joseph Charles",
          "Ford, Miss. Robina Maggie \"Ruby\"",
          "Navratil, Mr. Michel (\"Louis M Hoffman\")",
          "Byles, Rev. Thomas Roussel Davids",
          "Bateman, Rev. Robert James",
          "Meo, Mr. Alfonzo",
          "van Billiard, Mr. Austin Blyler",
          "Olsen, Mr. Ole Martin",
          "Williams, Mr. Charles Duane",
          "Corn, Mr. Harry",
          "Smiljanic, Mr. Mile",
          "Sage, Master. Thomas Henry",
          "Cribb, Mr. John Hatfield",
          "Bengtsson, Mr. John Viktor",
          "Calic, Mr. Jovo",
          "Panula, Master. Eino Viljami",
          "Skoog, Mrs. William (Anna Bernhardina Karlsson)",
          "Baumann, Mr. John D",
          "Ling, Mr. Lee",
          "Van der hoef, Mr. Wyckoff",
          "Rice, Master. Arthur",
          "Sivola, Mr. Antti Wilhelm",
          "Smith, Mr. James Clinch",
          "Klasen, Mr. Klas Albin",
          "Lefebre, Master. Henry Forbes",
          "Isham, Miss. Ann Elizabeth",
          "Hale, Mr. Reginald",
          "Leonard, Mr. Lionel",
          "Sage, Miss. Constance Gladys",
          "Pernot, Mr. Rene",
          "Asplund, Master. Clarence Gustaf Hugo",
          "Rood, Mr. Hugh Roscoe",
          "Bourke, Mr. John",
          "Turcin, Mr. Stjepan",
          "Carbines, Mr. William",
          "Mernagh, Mr. Robert",
          "Olsen, Mr. Karl Siegwart Andreas",
          "Yrois, Miss. Henriette (\"Mrs Harbeck\")",
          "Vande Walle, Mr. Nestor Cyriel",
          "Sage, Mr. Frederick",
          "Johanson, Mr. Jakob Alfred",
          "Youseff, Mr. Gerious",
          "Strom, Miss. Telma Matilda",
          "Backstrom, Mr. Karl Alfred",
          "Ali, Mr. Ahmed",
          "Perkin, Mr. John Henry",
          "Givard, Mr. Hans Kristensen",
          "Kiernan, Mr. Philip",
          "Jacobsohn, Mr. Sidney Samuel",
          "Harris, Mr. Walter",
          "Bracken, Mr. James H",
          "Green, Mr. George Henry",
          "Nenkoff, Mr. Christo",
          "Berglund, Mr. Karl Ivar Sven",
          "Lovell, Mr. John Hall (\"Henry\")",
          "Fahlstrom, Mr. Arne Jonas",
          "Lefebre, Miss. Mathilde",
          "Larsson, Mr. Bengt Edvin",
          "Sjostedt, Mr. Ernst Adolf",
          "Leyson, Mr. Robert William Norman",
          "Harknett, Miss. Alice Phoebe",
          "Hold, Mr. Stephen",
          "Pengelly, Mr. Frederick William",
          "Hunt, Mr. George Henry",
          "Zabour, Miss. Thamine",
          "Coleridge, Mr. Reginald Charles",
          "Maenpaa, Mr. Matti Alexanteri",
          "Attalah, Mr. Sleiman",
          "Minahan, Dr. William Edward",
          "Lindahl, Miss. Agda Thorilda Viktoria",
          "Carter, Rev. Ernest Courtenay",
          "Reed, Mr. James George",
          "Strom, Mrs. Wilhelm (Elna Matilda Persson)",
          "Stead, Mr. William Thomas",
          "Lobb, Mr. William Arthur",
          "Rosblom, Mrs. Viktor (Helena Wilhelmina)",
          "Smith, Mr. Thomas",
          "Taussig, Mr. Emil",
          "Harrison, Mr. William",
          "Henry, Miss. Delia",
          "Reeves, Mr. David",
          "Panula, Mr. Ernesti Arvid",
          "Cairns, Mr. Alexander",
          "Natsch, Mr. Charles H",
          "Lindblom, Miss. Augusta Charlotta",
          "Parkes, Mr. Francis \"Frank\"",
          "Rice, Master. Eric",
          "Duane, Mr. Frank",
          "Olsson, Mr. Nils Johan Goransson",
          "de Pelsmaeker, Mr. Alfons",
          "Smith, Mr. Richard William",
          "Stankovic, Mr. Ivan",
          "Naidenoff, Mr. Penko",
          "Levy, Mr. Rene Jacques",
          "Haas, Miss. Aloisia",
          "Mineff, Mr. Ivan",
          "Lewy, Mr. Ervin G",
          "Hanna, Mr. Mansour",
          "Allison, Miss. Helen Loraine",
          "Johnson, Mr. William Cahoone Jr",
          "Williams, Mr. Howard Hugh \"Harry\"",
          "Abelson, Mr. Samuel",
          "Lahtinen, Mrs. William (Anna Sylfven)",
          "Hendekovic, Mr. Ignjac",
          "Hart, Mr. Benjamin",
          "Moraweck, Dr. Ernest",
          "Dennis, Mr. Samuel",
          "Danoff, Mr. Yoto",
          "Sage, Mr. George John Jr",
          "Nysveen, Mr. Johan Hansen",
          "Partner, Mr. Austen",
          "Graham, Mr. George Edward",
          "Vander Planke, Mr. Leo Edmondus",
          "Denkoff, Mr. Mitto",
          "Pears, Mr. Thomas Clinton",
          "Blackwell, Mr. Stephen Weart",
          "Collander, Mr. Erik Gustaf",
          "Sedgwick, Mr. Charles Frederick Waddington",
          "Fox, Mr. Stanley Hubert",
          "Dimic, Mr. Jovan",
          "Odahl, Mr. Nils Martin",
          "Williams-Lambert, Mr. Fletcher Fellows",
          "Elias, Mr. Tannous",
          "Arnold-Franchi, Mr. Josef",
          "Yousif, Mr. Wazli",
          "Vanden Steen, Mr. Leo Peter",
          "Funk, Miss. Annie Clemmer",
          "Skoog, Mr. Wilhelm",
          "del Carlo, Mr. Sebastiano",
          "Barbara, Mrs. (Catherine David)",
          "Asim, Mr. Adola",
          "O'Brien, Mr. Thomas",
          "Adahl, Mr. Mauritz Nils Martin",
          "Wiklund, Mr. Jakob Alfred",
          "Beavan, Mr. William Thomas",
          "Ringhini, Mr. Sante",
          "Palsson, Miss. Stina Viola",
          "Widener, Mr. Harry Elkins",
          "Betros, Mr. Tannous",
          "Gustafsson, Mr. Karl Gideon",
          "Tikkanen, Mr. Juho",
          "Plotcharsky, Mr. Vasil",
          "Davies, Mr. Charles Henry",
          "Goodwin, Master. Sidney Leonard",
          "Sadlier, Mr. Matthew",
          "Gustafsson, Mr. Johan Birger",
          "Johansson, Mr. Erik",
          "Olsson, Miss. Elina",
          "McKane, Mr. Peter David",
          "Pain, Dr. Alfred",
          "Adams, Mr. John",
          "Jussila, Miss. Mari Aina",
          "Hakkarainen, Mr. Pekka Pietari",
          "Oreskovic, Miss. Marija",
          "Gale, Mr. Shadrach",
          "Widegren, Mr. Carl/Charles Peter",
          "Birkeland, Mr. Hans Martin Monsen",
          "Lefebre, Miss. Ida",
          "Sdycoff, Mr. Todor",
          "Hart, Mr. Henry",
          "Cunningham, Mr. Alfred Fleming",
          "Meek, Mrs. Thomas (Annie Louise Rowley)",
          "Matthews, Mr. William John",
          "Van Impe, Miss. Catharina",
          "Gheorgheff, Mr. Stanio",
          "Charters, Mr. David",
          "Zimmerman, Mr. Leo",
          "Danbom, Mrs. Ernst Gilbert (Anna Sigrid Maria Brogren)",
          "Rosblom, Mr. Viktor Richard",
          "Wiseman, Mr. Phillippe",
          "Flynn, Mr. James",
          "Kallio, Mr. Nikolai Erland",
          "Silvey, Mr. William Baird",
          "Ford, Miss. Doolina Margaret \"Daisy\"",
          "Fortune, Mr. Mark",
          "Kvillner, Mr. Johan Henrik Johannesson",
          "Hampe, Mr. Leon",
          "Petterson, Mr. Johan Emil",
          "West, Mr. Edwy Arthur",
          "Hagland, Mr. Ingvald Olai Olsen",
          "Foreman, Mr. Benjamin Laventall",
          "Peduzzi, Mr. Joseph",
          "Millet, Mr. Francis Davis",
          "O'Connor, Mr. Maurice",
          "Morley, Mr. William",
          "Gee, Mr. Arthur H",
          "Milling, Mr. Jacob Christian",
          "Maisner, Mr. Simon",
          "Goncalves, Mr. Manuel Estanslas",
          "Campbell, Mr. William",
          "Smart, Mr. John Montgomery",
          "Scanlan, Mr. James",
          "Keefe, Mr. Arthur",
          "Cacic, Mr. Luka",
          "Strandberg, Miss. Ida Sofia",
          "Clifford, Mr. George Quincy",
          "Renouf, Mr. Peter Henry",
          "Braund, Mr. Lewis Richard",
          "Karlsson, Mr. Nils August",
          "Goodwin, Master. Harold Victor",
          "Frost, Mr. Anthony Wood \"Archie\"",
          "Rouse, Mr. Richard Henry",
          "Lefebre, Miss. Jeannie",
          "Kent, Mr. Edward Austin",
          "Somerton, Mr. Francis William",
          "Hagland, Mr. Konrad Mathias Reiersen",
          "Windelov, Mr. Einar",
          "Molson, Mr. Harry Markland",
          "Artagaveytia, Mr. Ramon",
          "Stanley, Mr. Edward Roland",
          "Yousseff, Mr. Gerious",
          "Shellard, Mr. Frederick William",
          "Allison, Mrs. Hudson J C (Bessie Waldo Daniels)",
          "Svensson, Mr. Olof",
          "Calic, Mr. Petar",
          "Canavan, Miss. Mary",
          "O'Sullivan, Miss. Bridget Mary",
          "Laitinen, Miss. Kristina Sofia",
          "Penasco y Castellana, Mr. Victor de Satode",
          "Olsen, Mr. Henry Margido",
          "Webber, Mr. James",
          "Coleff, Mr. Satio",
          "Walker, Mr. William Anderson",
          "Ryan, Mr. Patrick",
          "Pavlovic, Mr. Stefo",
          "Vovk, Mr. Janko",
          "Lahoud, Mr. Sarkis",
          "Kassem, Mr. Fared",
          "Farrell, Mr. James",
          "Farthing, Mr. John",
          "Salonen, Mr. Johan Werner",
          "Hocking, Mr. Richard George",
          "Toufik, Mr. Nakli",
          "Elias, Mr. Joseph Jr",
          "Cacic, Miss. Marija",
          "Butt, Major. Archibald Willingham",
          "Risien, Mr. Samuel Beard",
          "Andersson, Miss. Ingeborg Constanzia",
          "Andersson, Miss. Sigrid Elisabeth",
          "Douglas, Mr. Walter Donald",
          "Nicholson, Mr. Arthur Ernest",
          "Goldsmith, Mr. Frank John",
          "Sharp, Mr. Percival James R",
          "O'Brien, Mr. Timothy",
          "Wright, Mr. George",
          "Robbins, Mr. Victor",
          "Morrow, Mr. Thomas Rowan",
          "Sivic, Mr. Husein",
          "Norman, Mr. Robert Douglas",
          "Simmons, Mr. John",
          "Meanwell, Miss. (Marion Ogden)",
          "Davies, Mr. Alfred J",
          "Stoytcheff, Mr. Ilia",
          "Palsson, Mrs. Nils (Alma Cornelia Berglund)",
          "Doharr, Mr. Tannous",
          "Rush, Mr. Alfred George John",
          "Patchett, Mr. George",
          "Caram, Mrs. Joseph (Maria Elias)",
          "Downton, Mr. William James",
          "Ross, Mr. John Hugo",
          "Paulner, Mr. Uscher",
          "Jarvis, Mr. John Denzil",
          "Gilinski, Mr. Eliezer",
          "Murdlin, Mr. Joseph",
          "Rintamaki, Mr. Matti",
          "Elsbury, Mr. William James",
          "Bourke, Miss. Mary",
          "Chapman, Mr. John Henry",
          "Van Impe, Mr. Jean Baptiste",
          "Johnson, Mr. Alfred",
          "Boulos, Mr. Hanna",
          "Slabenoff, Mr. Petco",
          "Harrington, Mr. Charles H",
          "Torber, Mr. Ernst William",
          "Lindell, Mr. Edvard Bengtsson",
          "Karaic, Mr. Milan",
          "Andersson, Mrs. Anders Johan (Alfrida Konstantia Brogren)",
          "Jardin, Mr. Jose Neto",
          "Horgan, Mr. John",
          "Brocklebank, Mr. William Alfred",
          "Danbom, Mr. Ernst Gilbert",
          "Lobb, Mrs. William Arthur (Cordelia K Stanlick)",
          "Gavey, Mr. Lawrence",
          "Yasbeck, Mr. Antoni",
          "Hansen, Mr. Henry Damsgaard",
          "Bowen, Mr. David John \"Dai\"",
          "Sutton, Mr. Frederick",
          "Kirkland, Rev. Charles Leonard",
          "Bostandyeff, Mr. Guentcho",
          "O'Connell, Mr. Patrick D",
          "Lundahl, Mr. Johan Svensson",
          "Parr, Mr. William Henry Marsh",
          "Skoog, Miss. Mabel",
          "Leinonen, Mr. Antti Gustaf",
          "Collyer, Mr. Harvey",
          "Panula, Mrs. Juha (Maria Emilia Ojala)",
          "Thorneycroft, Mr. Percival",
          "Jensen, Mr. Hans Peder",
          "Skoog, Miss. Margit Elizabeth",
          "Cor, Mr. Liudevit",
          "Willey, Mr. Edward",
          "Mitkoff, Mr. Mito",
          "Kalvik, Mr. Johannes Halvorsen",
          "Hegarty, Miss. Hanora \"Nora\"",
          "Hickman, Mr. Leonard Mark",
          "Radeff, Mr. Alexander",
          "Bourke, Mrs. John (Catherine)",
          "Eitemiller, Mr. George Floyd",
          "Newell, Mr. Arthur Webster",
          "Badt, Mr. Mohamed",
          "Colley, Mr. Edward Pomeroy",
          "Coleff, Mr. Peju",
          "Hickman, Mr. Lewis",
          "Butler, Mr. Reginald Fenton",
          "Rommetvedt, Mr. Knud Paust",
          "Cook, Mr. Jacob",
          "Davidson, Mr. Thornton",
          "Mitchell, Mr. Henry Michael",
          "Watson, Mr. Ennis Hastings",
          "Edvardsson, Mr. Gustaf Hjalmar",
          "Sawyer, Mr. Frederick Charles",
          "Goodwin, Mrs. Frederick (Augusta Tyler)",
          "Peters, Miss. Katie",
          "Olsvigen, Mr. Thor Anderson",
          "Goodwin, Mr. Charles Edward",
          "Brown, Mr. Thomas William Solomon",
          "Laroche, Mr. Joseph Philippe Lemercier",
          "Panula, Mr. Jaako Arnold",
          "Dakic, Mr. Branko",
          "Fischer, Mr. Eberhard Thelander",
          "Saad, Mr. Khalil",
          "Weir, Col. John",
          "Chapman, Mr. Charles Henry",
          "Kelly, Mr. James",
          "Thayer, Mr. John Borland",
          "Humblen, Mr. Adolf Mathias Nicolai Olsen",
          "Barbara, Miss. Saiide",
          "Gallagher, Mr. Martin",
          "Hansen, Mr. Henrik Juul",
          "Morley, Mr. Henry Samuel (\"Mr Henry Marshall\")",
          "Klaber, Mr. Herman",
          "Larsson, Mr. August Viktor",
          "Greenberg, Mr. Samuel",
          "Soholt, Mr. Peter Andreas Lauritz Andersen",
          "McEvoy, Mr. Michael",
          "Johnson, Mr. Malkolm Joackim",
          "Jensen, Mr. Svend Lauritz",
          "Gillespie, Mr. William Henry",
          "Hodges, Mr. Henry Price",
          "Oreskovic, Mr. Luka",
          "Bryhl, Mr. Kurt Arnold Gottfrid",
          "Ilmakangas, Miss. Pieta Sofia",
          "Hassan, Mr. Houssein G N",
          "Knight, Mr. Robert J",
          "Berriman, Mr. William John",
          "Troupiansky, Mr. Moses Aaron",
          "Williams, Mr. Leslie",
          "Ford, Mrs. Edward (Margaret Ann Watson)",
          "Ivanoff, Mr. Kanio",
          "Nankoff, Mr. Minko",
          "Cavendish, Mr. Tyrell William",
          "McNamee, Mr. Neal",
          "Crosby, Capt. Edward Gifford",
          "Abbott, Mr. Rossmore Edward",
          "Marvin, Mr. Daniel Warner",
          "Connaghton, Mr. Michael",
          "Vande Velde, Mr. Johannes Joseph",
          "Jonkoff, Mr. Lalio",
          "Carlsson, Mr. August Sigfrid",
          "Bailey, Mr. Percy Andrew",
          "Theobald, Mr. Thomas Leonard",
          "Garfirth, Mr. John",
          "Nirva, Mr. Iisakki Antino Aijo",
          "Eklund, Mr. Hans Linus",
          "Brewe, Dr. Arthur Jackson",
          "Mangan, Miss. Mary",
          "Moran, Mr. Daniel J",
          "Gronnestad, Mr. Daniel Danielsen",
          "Lievens, Mr. Rene Aime",
          "Jensen, Mr. Niels Peder",
          "Mack, Mrs. (Mary)",
          "Elias, Mr. Dibo",
          "Myhrman, Mr. Pehr Fabian Oliver Malkolm",
          "Tobin, Mr. Roger",
          "Kilgannon, Mr. Thomas J",
          "Long, Mr. Milton Clyde",
          "Johnston, Mr. Andrew G",
          "Ali, Mr. William",
          "Harmer, Mr. Abraham (David Lishin)",
          "Rice, Master. George Hugh",
          "Guggenheim, Mr. Benjamin",
          "Keane, Mr. Andrew \"Andy\"",
          "Gaskell, Mr. Alfred",
          "Sage, Miss. Stella Anna",
          "Hoyt, Mr. William Fisher",
          "Dantcheff, Mr. Ristiu",
          "Otter, Mr. Richard",
          "Ibrahim Shawah, Mr. Yousseff",
          "Van Impe, Mrs. Jean Baptiste (Rosalie Paula Govaert)",
          "Ponesell, Mr. Martin",
          "Johansson, Mr. Karl Johan",
          "Andrews, Mr. Thomas Jr",
          "Pettersson, Miss. Ellen Natalia",
          "Meyer, Mr. August",
          "Alexander, Mr. William",
          "Lester, Mr. James",
          "Slemen, Mr. Richard James",
          "Andersson, Miss. Ebba Iris Alfrida",
          "Tomlin, Mr. Ernest Portage",
          "Fry, Mr. Richard",
          "Heininen, Miss. Wendla Maria",
          "Mallet, Mr. Albert",
          "Holm, Mr. John Fredrik Alexander",
          "Skoog, Master. Karl Thorsten",
          "Reuchlin, Jonkheer. John George",
          "Panula, Master. Urho Abraham",
          "Flynn, Mr. John",
          "Lam, Mr. Len",
          "Saad, Mr. Amin",
          "Augustsson, Mr. Albert",
          "Allum, Mr. Owen George",
          "Pasic, Mr. Jakob",
          "Sirota, Mr. Maurice",
          "Alhomaki, Mr. Ilmari Rudolf",
          "Mudd, Mr. Thomas Charles",
          "Lemberopolous, Mr. Peter L",
          "Culumovic, Mr. Jeso",
          "Abbing, Mr. Anthony",
          "Sage, Mr. Douglas Bullen",
          "Markoff, Mr. Marin",
          "Harper, Rev. John",
          "Andersson, Master. Sigvard Harald Elias",
          "Svensson, Mr. Johan",
          "Boulos, Miss. Nourelain",
          "Carter, Mrs. Ernest Courtenay (Lilian Hughes)",
          "Razi, Mr. Raihed",
          "Hansen, Mr. Claus Peter",
          "Giles, Mr. Frederick Edward",
          "Sage, Miss. Dorothy Edith \"Dolly\"",
          "Gill, Mr. John William",
          "Roebling, Mr. Washington Augustus II",
          "van Melkebeke, Mr. Philemon",
          "Balkic, Mr. Cerin",
          "Carlsson, Mr. Frans Olof",
          "Vander Cruyssen, Mr. Victor",
          "Gustafsson, Mr. Alfred Ossian",
          "Petroff, Mr. Nedelio",
          "Laleff, Mr. Kristo",
          "Markun, Mr. Johann",
          "Dahlberg, Miss. Gerda Ulrika",
          "Banfield, Mr. Frederick James",
          "Sutehall, Mr. Henry Jr",
          "Rice, Mrs. William (Margaret Norton)",
          "Montvila, Rev. Juozas",
          "Johnston, Miss. Catherine Helen \"Carrie\"",
          "Dooley, Mr. Patrick"
         ],
         "yaxis": "y"
        },
        {
         "hovertemplate": "Survived=1.0<br>Fare=%{x}<br>Name=%{y}<extra></extra>",
         "legendgroup": "1.0",
         "marker": {
          "color": "#3B61A3",
          "symbol": "circle"
         },
         "mode": "markers",
         "name": "1.0",
         "showlegend": true,
         "type": "scattergl",
         "x": {
          "bdata": "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",
          "dtype": "f8"
         },
         "xaxis": "x",
         "y": [
          "Cumings, Mrs. John Bradley (Florence Briggs Thayer)",
          "Heikkinen, Miss. Laina",
          "Futrelle, Mrs. Jacques Heath (Lily May Peel)",
          "Johnson, Mrs. Oscar W (Elisabeth Vilhelmina Berg)",
          "Nasser, Mrs. Nicholas (Adele Achem)",
          "Sandstrom, Miss. Marguerite Rut",
          "Bonnell, Miss. Elizabeth",
          "Hewlett, Mrs. (Mary D Kingcome) ",
          "Williams, Mr. Charles Eugene",
          "Masselmani, Mrs. Fatima",
          "Beesley, Mr. Lawrence",
          "McGowan, Miss. Anna \"Annie\"",
          "Sloper, Mr. William Thompson",
          "Asplund, Mrs. Carl Oscar (Selma Augusta Emilia Johansson)",
          "O'Dwyer, Miss. Ellen \"Nellie\"",
          "Spencer, Mrs. William Augustus (Marie Eugenie)",
          "Glynn, Miss. Mary Agatha",
          "Mamee, Mr. Hanna",
          "Nicola-Yarred, Miss. Jamila",
          "Laroche, Miss. Simonne Marie Anne Andree",
          "Devaney, Miss. Margaret Delia",
          "O'Driscoll, Miss. Bridget",
          "Harper, Mrs. Henry Sleeper (Myna Haxtun)",
          "Faunthorpe, Mrs. Lizzie (Elizabeth Anne Wilkinson)",
          "Woolner, Mr. Hugh",
          "Rugg, Miss. Emily",
          "West, Miss. Constance Mirium",
          "Icard, Miss. Amelie",
          "Moubarek, Master. Gerios",
          "Nye, Mrs. (Elizabeth Ramell)",
          "Andersson, Miss. Erna Alexandra",
          "Bing, Mr. Lee",
          "Caldwell, Master. Alden Gates",
          "Dowdell, Miss. Elizabeth",
          "Sheerlinck, Mr. Jan Baptist",
          "McDermott, Miss. Brigdet Delia",
          "Ilett, Miss. Bertha",
          "Backstrom, Mrs. Karl Alfred (Maria Mathilda Gustafsson)",
          "Fortune, Miss. Mabel Helen",
          "Greenfield, Mr. William Bertram",
          "Doling, Mrs. John T (Ada Julia Bone)",
          "Salkjelsvik, Miss. Anna Kristine",
          "Moss, Mr. Albert Johan",
          "Moran, Miss. Bertha",
          "Webber, Miss. Susan",
          "Nicola-Yarred, Master. Elias",
          "Madsen, Mr. Fridtjof Arne",
          "Peter, Miss. Anna",
          "Weisz, Mrs. Leopold (Mathilde Francoise Pede)",
          "Newsom, Miss. Helen Monypeny",
          "Nysten, Miss. Anna Sofia",
          "Hakkarainen, Mrs. Pekka Pietari (Elin Matilda Dolck)",
          "Andersson, Mr. August Edvard (\"Wennerstrom\")",
          "Pears, Mrs. Thomas (Edith Wearne)",
          "Gilnagh, Miss. Katherine \"Katie\"",
          "Watt, Mrs. James (Elizabeth \"Bessie\" Inglis Milne)",
          "Goldsmith, Master. Frank John William \"Frankie\"",
          "Chibnall, Mrs. (Edith Martha Bowerman)",
          "Johnson, Miss. Eleanor Ileen",
          "Becker, Master. Richard F",
          "Kink-Heilmann, Miss. Luise Gretchen",
          "O'Brien, Mrs. Thomas (Johanna \"Hannah\" Godfrey)",
          "Romaine, Mr. Charles Hallace (\"Mr C Rolmane\")",
          "Pinsky, Mrs. (Rosa)",
          "Andersen-Jensen, Miss. Carla Christine Nielsine",
          "Navratil, Master. Michel M",
          "Brown, Mrs. James Joseph (Margaret Tobin)",
          "Lurette, Miss. Elise",
          "Madigan, Miss. Margaret \"Maggie\"",
          "Cohen, Mr. Gurshon \"Gus\"",
          "Albimona, Mr. Nassef Cassem",
          "Carr, Miss. Helen \"Ellen\"",
          "Blank, Mr. Henry",
          "Cameron, Miss. Clear Annie",
          "Newell, Miss. Madeleine",
          "Honkanen, Miss. Eliina",
          "Bazzani, Miss. Albina",
          "Sunderland, Mr. Victor Francis",
          "Hoyt, Mr. Frederick Maxfield",
          "Mellors, Mr. William John",
          "Harris, Mrs. Henry Birkhardt (Irene Wallach)",
          "Asplund, Miss. Lillian Gertrud",
          "Collyer, Miss. Marjorie \"Lottie\"",
          "Murphy, Miss. Katherine \"Kate\"",
          "Hamalainen, Mrs. William (Anna)",
          "Beckwith, Mr. Richard Leonard",
          "Touma, Mrs. Darwis (Hanne Youssef Razi)",
          "Thorne, Mrs. Gertrude Maybelle",
          "Cherry, Miss. Gladys",
          "Ward, Miss. Anna",
          "Parrish, Mrs. (Lutie Davis)",
          "Asplund, Master. Edvin Rojj Felix",
          "Persson, Mr. Ernst Ulrik",
          "Graham, Mrs. William Thompson (Edith Junkins)",
          "Bissette, Miss. Amelia",
          "Tornquist, Mr. William Henry",
          "Mellinger, Mrs. (Elizabeth Anne Maidment)",
          "Healy, Miss. Hanora \"Nora\"",
          "Andrews, Miss. Kornelia Theodosia",
          "Abbott, Mrs. Stanton (Rosa Hunt)",
          "Dorking, Mr. Edward Arthur",
          "de Mulder, Mr. Theodore",
          "Hosono, Mr. Masabumi",
          "Connolly, Miss. Kate",
          "Barber, Miss. Ellen \"Nellie\"",
          "Bishop, Mrs. Dickinson H (Helen Walton)",
          "Saalfeld, Mr. Adolphe",
          "Baxter, Mrs. James (Helene DeLaudeniere Chaput)",
          "Kelly, Miss. Anna Katherine \"Annie Kate\"",
          "McCoy, Mr. Bernard",
          "Keane, Miss. Nora A",
          "Allison, Master. Hudson Trevor",
          "Fleming, Miss. Margaret",
          "Penasco y Castellana, Mrs. Victor de Satode (Maria Josefa Perez de Soto y Vallejo)",
          "Francatelli, Miss. Laura Mabel",
          "Hays, Miss. Margaret Bechstein",
          "Ryerson, Miss. Emily Borie",
          "Nilsson, Miss. Helmina Josefina",
          "Kantor, Mrs. Sinai (Miriam Sternin)",
          "Wick, Miss. Mary Natalie",
          "Spedden, Mrs. Frederic Oakley (Margaretta Corning Stone)",
          "Slayter, Miss. Hilda Mary",
          "Caldwell, Mrs. Albert Francis (Sylvia Mae Harbaugh)",
          "Young, Miss. Marie Grice",
          "Ball, Mrs. (Ada E Hall)",
          "Goldsmith, Mrs. Frank John (Emily Alice Brown)",
          "Hippach, Miss. Jean Gertrude",
          "McCoy, Miss. Agnes",
          "Frauenthal, Mrs. Henry William (Clara Heinsheimer)",
          "Burns, Miss. Elizabeth Margaret",
          "Dahl, Mr. Karl Edwart",
          "Navratil, Master. Edmond Roger",
          "Fortune, Miss. Alice Elizabeth",
          "Brown, Miss. Amelia \"Mildred\"",
          "Smith, Miss. Marion Elsie",
          "Davison, Mrs. Thomas Henry (Mary E Finck)",
          "Coutts, Master. William Loch \"William\"",
          "Bowerman, Miss. Elsie Edith",
          "McGovern, Miss. Mary",
          "Mockler, Miss. Helen Mary \"Ellie\"",
          "Warren, Mrs. Frank Manley (Anna Sophia Atkinson)",
          "Moussa, Mrs. (Mantoura Boulos)",
          "Jermyn, Miss. Annie",
          "Aubart, Mme. Leontine Pauline",
          "Harder, Mr. George Achilles",
          "Meyer, Mrs. Edgar Joseph (Leila Saks)",
          "Landergren, Miss. Aurora Adelia",
          "Bidois, Miss. Rosalie",
          "Nakid, Miss. Maria (\"Mary\")",
          "Holverson, Mrs. Alexander Oskar (Mary Aline Towner)",
          "Buss, Miss. Kate",
          "Lehmann, Miss. Bertha",
          "Carter, Mr. William Ernest",
          "Jansson, Mr. Carl Olof",
          "Newell, Miss. Marjorie",
          "Sandstrom, Mrs. Hjalmar (Agnes Charlotta Bengtsson)",
          "Trout, Mrs. William H (Jessie L)",
          "Niskanen, Mr. Juha",
          "Richards, Master. William Rowe",
          "Minahan, Miss. Daisy E",
          "Sundman, Mr. Johan Julian",
          "Drew, Mrs. James Vivian (Lulu Thorne Christian)",
          "Silven, Miss. Lyyli Karoliina",
          "Clarke, Mrs. Charles V (Ada Maria Winfield)",
          "Phillips, Miss. Kate Florence (\"Mrs Kate Louise Phillips Marshall\")",
          "Pickard, Mr. Berk (Berk Trembisky)",
          "Bjornstrom-Steffansson, Mr. Mauritz Hakan",
          "Thorneycroft, Mrs. Percival (Florence Kate White)",
          "Louch, Mrs. Charles Alexander (Alice Adelaide Slow)",
          "Carter, Miss. Lucile Polk",
          "Richards, Mrs. Sidney (Emily Hocking)",
          "Hart, Mrs. Benjamin (Esther Ada Bloomfield)",
          "Reynaldo, Ms. Encarnacion",
          "Johannesen-Bratthammer, Mr. Bernt",
          "Dodge, Master. Washington",
          "Mellinger, Miss. Madeleine Violet",
          "Seward, Mr. Frederic Kimber",
          "Baclini, Miss. Marie Catherine",
          "Peuchen, Major. Arthur Godfrey",
          "Goldenberg, Mr. Samuel L",
          "Jalsevac, Mr. Ivan",
          "Kenyon, Mrs. Frederick R (Marion)",
          "Toomey, Miss. Ellen",
          "Anderson, Mr. Harry",
          "Baclini, Miss. Helene Barbara",
          "West, Mrs. Edwy Arthur (Ada Mary Worth)",
          "Jerwan, Mrs. Amin S (Marie Marthe Thuillard)",
          "Hirvonen, Miss. Hildur E",
          "Turkula, Mrs. (Hedwig)",
          "Bishop, Mr. Dickinson H",
          "Hoyt, Mrs. Frederick Maxfield (Jane Anne Forby)",
          "Coutts, Master. Eden Leslie \"Neville\"",
          "Eustis, Miss. Elizabeth Mussey",
          "Maioni, Miss. Roberta",
          "Quick, Mrs. Frederick Charles (Jane Richards)",
          "Bradley, Mr. George (\"George Arthur Brayton\")",
          "Lang, Mr. Fang",
          "Daly, Mr. Eugene Patrick",
          "McGough, Mr. James Robert",
          "Rothschild, Mrs. Martin (Elizabeth L. Barrett)",
          "Lemore, Mrs. (Amelia Milley)",
          "Angle, Mrs. William A (Florence \"Mary\" Agnes Hughes)",
          "Perreault, Miss. Anne",
          "Hippach, Mrs. Louis Albert (Ida Sophia Fischer)",
          "Ridsdale, Miss. Lucy",
          "Quick, Miss. Phyllis May",
          "Peter, Mrs. Catherine (Catherine Rizk)",
          "Hart, Miss. Eva Miriam",
          "LeRoy, Miss. Bertha",
          "Frolicher, Miss. Hedwig Margaritha",
          "Crosby, Miss. Harriet R",
          "Beane, Mr. Edward",
          "Beane, Mrs. Edward (Ethel Clarke)",
          "Padro y Manent, Mr. Julian",
          "Davies, Master. John Morgan Jr",
          "Thayer, Mr. John Borland Jr",
          "Leeni, Mr. Fahim (\"Philip Zenni\")",
          "Ohman, Miss. Velin",
          "Duff Gordon, Lady. (Lucille Christiana Sutherland) (\"Mrs Morgan\")",
          "Taussig, Mrs. Emil (Tillie Mandelbaum)",
          "de Messemaeker, Mrs. Guillaume Joseph (Emma)",
          "Jonsson, Mr. Carl",
          "Harris, Mr. George",
          "Appleton, Mrs. Edward Dale (Charlotte Lamson)",
          "Flynn, Mr. John Irwin (\"Irving\")",
          "Kelly, Miss. Mary",
          "Garside, Miss. Ethel",
          "Silvey, Mrs. William Baird (Alice Munger)",
          "Jussila, Mr. Eiriik",
          "Christy, Miss. Julie Rachel",
          "Thayer, Mrs. John Borland (Marian Longstreth Morris)",
          "Taussig, Miss. Ruth",
          "Frolicher-Stehli, Mr. Maxmillian",
          "Stephenson, Mrs. Walter Bertram (Martha Eustis)",
          "Leitch, Miss. Jessie Wills",
          "Duff Gordon, Sir. Cosmo Edmund (\"Mr Morgan\")",
          "Jacobsohn, Mrs. Sidney Samuel (Amy Frances Christy)",
          "Homer, Mr. Harry (\"Mr E Haven\")",
          "Daniel, Mr. Robert Williams",
          "Laroche, Mrs. Joseph (Juliette Marie Louise Lafargue)",
          "Shutes, Miss. Elizabeth W",
          "Murphy, Miss. Margaret Jane",
          "Herman, Miss. Alice",
          "Becker, Miss. Marion Louise",
          "Kimball, Mr. Edwin Nelson Jr",
          "Nakid, Mr. Sahid",
          "Longley, Miss. Gretchen Fiske",
          "Barkworth, Mr. Algernon Henry Wilson",
          "Stahelin-Maeglin, Dr. Max",
          "Davis, Miss. Mary",
          "Sagesser, Mlle. Emma",
          "Foo, Mr. Choong",
          "Baclini, Miss. Eugenie",
          "Harper, Mr. Henry Sleeper",
          "Simonius-Blumer, Col. Oberst Alfons",
          "Stanley, Miss. Amy Zillah Elsie",
          "Doling, Miss. Elsie",
          "O'Leary, Miss. Hanora \"Norah\"",
          "Frauenthal, Dr. Henry William",
          "Lindqvist, Mr. Eino William",
          "Taylor, Mrs. Elmer Zebley (Juliet Cummins Wright)",
          "Brown, Mrs. Thomas William Solomon (Elizabeth Catherine Ford)",
          "Wilhelms, Mr. Charles",
          "Turja, Miss. Anna Sofia",
          "Cardeza, Mr. Thomas Drake Martinez",
          "Hassab, Mr. Hammad",
          "Madill, Miss. Georgette Alexandra",
          "Dick, Mr. Albert Adrian",
          "Karun, Miss. Manca",
          "Lam, Mr. Ali",
          "Mullens, Miss. Katherine \"Katie\"",
          "Astor, Mrs. John Jacob (Madeleine Talmadge Force)",
          "Silverthorne, Mr. Spencer Victor",
          "Kelly, Mrs. Florence \"Fannie\"",
          "Calderhead, Mr. Edward Pennington",
          "Cleaver, Miss. Alice",
          "Moubarek, Master. Halim Gonios (\"William George\")",
          "Mayne, Mlle. Berthe Antonine (\"Mrs de Villiers\")",
          "Taylor, Mr. Elmer Zebley",
          "Endres, Miss. Caroline Louise",
          "Troutt, Miss. Edwina Celia \"Winnie\"",
          "Harper, Miss. Annie Jessie \"Nina\"",
          "Chambers, Mr. Norman Campbell",
          "Renouf, Mrs. Peter Henry (Lillian Jefferys)",
          "Mannion, Miss. Margareth",
          "Allen, Miss. Elisabeth Walton",
          "Lesurer, Mr. Gustave J",
          "Hawksford, Mr. Walter James",
          "Ryerson, Miss. Susan Parker \"Suzette\"",
          "Stranden, Mr. Juho",
          "Sinkkonen, Miss. Anna",
          "Wells, Miss. Joan",
          "Moor, Master. Meier",
          "Herman, Mrs. Samuel (Jane Laver)",
          "Hamalainen, Master. Viljo",
          "Rothes, the Countess. of (Lucy Noel Martha Dyer-Edwards)",
          "Barah, Mr. Hanna Assi",
          "Carter, Mrs. William Ernest (Lucile Polk)",
          "Hogeboom, Mrs. John C (Anna Andrews)",
          "Hocking, Mrs. Elizabeth (Eliza Needs)",
          "Emanuel, Miss. Virginia Ethel",
          "Robert, Mrs. Edward Scott (Elisabeth Walton McMillan)",
          "Ayoub, Miss. Banoura",
          "Dick, Mrs. Albert Adrian (Vera Gillespie)",
          "Sjoblom, Miss. Anna Sofia",
          "Dean, Master. Bertram Vere",
          "Leader, Dr. Alice (Farnham)",
          "Osman, Mrs. Mara",
          "Collyer, Mrs. Harvey (Charlotte Annie Tate)",
          "Carter, Master. William Thornton II",
          "Thomas, Master. Assad Alexander",
          "Hedman, Mr. Oskar Arvid",
          "Chambers, Mrs. Norman Campbell (Bertha Griggs)",
          "Hays, Mrs. Charles Melville (Clara Jennings Gregg)",
          "Lulic, Mr. Nikola",
          "Moor, Mrs. (Beila)",
          "Mallet, Master. Andre",
          "McCormack, Mr. Thomas Joseph",
          "Stone, Mrs. George Nelson (Martha Evelyn)",
          "Yasbeck, Mrs. Antoni (Selini Alexander)",
          "Richards, Master. George Sibley",
          "Compton, Miss. Sara Rebecca",
          "Chip, Mr. Chang",
          "Marechal, Mr. Pierre",
          "Serepeca, Miss. Augusta",
          "Goldenberg, Mrs. Samuel L (Edwiga Grabowska)",
          "Lines, Miss. Mary Conover",
          "Aks, Mrs. Sam (Leah Rosen)",
          "Wick, Mrs. George Dennick (Mary Hitchcock)",
          "Daly, Mr. Peter Denis ",
          "Baclini, Mrs. Solomon (Latifa Qurban)",
          "Swift, Mrs. Frederick Joel (Margaret Welles Barron)",
          "Bystrom, Mrs. (Karolina)",
          "Duran y More, Miss. Asuncion",
          "Johnson, Master. Harold Theodor",
          "Beckwith, Mrs. Richard Leonard (Sallie Monypeny)",
          "Abelson, Mrs. Samuel (Hannah Wizosky)",
          "Najib, Miss. Adele Kiamie \"Jane\"",
          "Potter, Mrs. Thomas Jr (Lily Alexenia Wilson)",
          "Shelley, Mrs. William (Imanita Parrish Hall)",
          "Graham, Miss. Margaret Edith",
          "Behr, Mr. Karl Howell"
         ],
         "yaxis": "y"
        },
        {
         "hovertemplate": "Survived=nan<br>Fare=%{x}<br>Name=%{y}<extra></extra>",
         "legendgroup": "nan",
         "marker": {
          "color": "#76A4AC",
          "symbol": "circle"
         },
         "mode": "markers",
         "name": "nan",
         "showlegend": true,
         "type": "scattergl",
         "x": {
          "bdata": "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",
          "dtype": "f8"
         },
         "xaxis": "x",
         "y": [
          "Kelly, Mr. James",
          "Wilkes, Mrs. James (Ellen Needs)",
          "Myles, Mr. Thomas Francis",
          "Wirz, Mr. Albert",
          "Hirvonen, Mrs. Alexander (Helga E Lindqvist)",
          "Svensson, Mr. Johan Cervin",
          "Connolly, Miss. Kate",
          "Caldwell, Mr. Albert Francis",
          "Abrahim, Mrs. Joseph (Sophie Halaut Easu)",
          "Davies, Mr. John Samuel",
          "Ilieff, Mr. Ylio",
          "Jones, Mr. Charles Cresson",
          "Snyder, Mrs. John Pillsbury (Nelle Stevenson)",
          "Howard, Mr. Benjamin",
          "Chaffee, Mrs. Herbert Fuller (Carrie Constance Toogood)",
          "del Carlo, Mrs. Sebastiano (Argenia Genovesi)",
          "Keane, Mr. Daniel",
          "Assaf, Mr. Gerios",
          "Ilmakangas, Miss. Ida Livija",
          "Assaf Khalil, Mrs. Mariana (Miriam\")\"",
          "Rothschild, Mr. Martin",
          "Olsen, Master. Artur Karl",
          "Flegenheim, Mrs. Alfred (Antoinette)",
          "Williams, Mr. Richard Norris II",
          "Ryerson, Mrs. Arthur Larned (Emily Maria Borie)",
          "Robins, Mr. Alexander A",
          "Ostby, Miss. Helene Ragnhild",
          "Daher, Mr. Shedid",
          "Brady, Mr. John Bertram",
          "Samaan, Mr. Elias",
          "Louch, Mr. Charles Alexander",
          "Jefferys, Mr. Clifford Thomas",
          "Dean, Mrs. Bertram (Eva Georgetta Light)",
          "Johnston, Mrs. Andrew G (Elizabeth Lily\" Watson)\"",
          "Mock, Mr. Philipp Edmund",
          "Katavelas, Mr. Vassilios (Catavelas Vassilios\")\"",
          "Roth, Miss. Sarah A",
          "Cacic, Miss. Manda",
          "Sap, Mr. Julius",
          "Hee, Mr. Ling",
          "Karun, Mr. Franz",
          "Franklin, Mr. Thomas Parham",
          "Goldsmith, Mr. Nathan",
          "Corbett, Mrs. Walter H (Irene Colvin)",
          "Kimball, Mrs. Edwin Nelson Jr (Gertrude Parsons)",
          "Peltomaki, Mr. Nikolai Johannes",
          "Chevre, Mr. Paul Romaine",
          "Shaughnessy, Mr. Patrick",
          "Bucknell, Mrs. William Robert (Emma Eliza Ward)",
          "Coutts, Mrs. William (Winnie Minnie\" Treanor)\"",
          "Smith, Mr. Lucien Philip",
          "Pulbaum, Mr. Franz",
          "Hocking, Miss. Ellen Nellie\"\"",
          "Fortune, Miss. Ethel Flora",
          "Mangiavacchi, Mr. Serafino Emilio",
          "Rice, Master. Albert",
          "Cor, Mr. Bartol",
          "Abelseth, Mr. Olaus Jorgensen",
          "Davison, Mr. Thomas Henry",
          "Chaudanson, Miss. Victorine",
          "Dika, Mr. Mirko",
          "McCrae, Mr. Arthur Gordon",
          "Bjorklund, Mr. Ernst Herbert",
          "Bradley, Miss. Bridget Delia",
          "Ryerson, Master. John Borie",
          "Corey, Mrs. Percy C (Mary Phyllis Elizabeth Miller)",
          "Burns, Miss. Mary Delia",
          "Moore, Mr. Clarence Bloomfield",
          "Tucker, Mr. Gilbert Milligan Jr",
          "Fortune, Mrs. Mark (Mary McDougald)",
          "Mulvihill, Miss. Bertha E",
          "Minkoff, Mr. Lazar",
          "Nieminen, Miss. Manta Josefina",
          "Ovies y Rodriguez, Mr. Servando",
          "Geiger, Miss. Amalie",
          "Keeping, Mr. Edwin",
          "Miles, Mr. Frank",
          "Cornell, Mrs. Robert Clifford (Malvina Helen Lamson)",
          "Aldworth, Mr. Charles Augustus",
          "Doyle, Miss. Elizabeth",
          "Boulos, Master. Akar",
          "Straus, Mr. Isidor",
          "Case, Mr. Howard Brown",
          "Demetri, Mr. Marinko",
          "Lamb, Mr. John Joseph",
          "Khalil, Mr. Betros",
          "Barry, Miss. Julia",
          "Badman, Miss. Emily Louisa",
          "O'Donoghue, Ms. Bridget",
          "Wells, Master. Ralph Lester",
          "Dyker, Mrs. Adolf Fredrik (Anna Elisabeth Judith Andersson)",
          "Pedersen, Mr. Olaf",
          "Davidson, Mrs. Thornton (Orian Hays)",
          "Guest, Mr. Robert",
          "Birnbaum, Mr. Jakob",
          "Tenglin, Mr. Gunnar Isidor",
          "Cavendish, Mrs. Tyrell William (Julia Florence Siegel)",
          "Makinen, Mr. Kalle Edvard",
          "Braf, Miss. Elin Ester Maria",
          "Nancarrow, Mr. William Henry",
          "Stengel, Mrs. Charles Emil Henry (Annie May Morris)",
          "Weisz, Mr. Leopold",
          "Foley, Mr. William",
          "Johansson Palmquist, Mr. Oskar Leander",
          "Thomas, Mrs. Alexander (Thamine Thelma\")\"",
          "Holthen, Mr. Johan Martin",
          "Buckley, Mr. Daniel",
          "Ryan, Mr. Edward",
          "Willer, Mr. Aaron (Abi Weller\")\"",
          "Swane, Mr. George",
          "Stanton, Mr. Samuel Ward",
          "Shine, Miss. Ellen Natalia",
          "Evans, Miss. Edith Corse",
          "Buckley, Miss. Katherine",
          "Straus, Mrs. Isidor (Rosalie Ida Blun)",
          "Chronopoulos, Mr. Demetrios",
          "Thomas, Mr. John",
          "Sandstrom, Miss. Beatrice Irene",
          "Beattie, Mr. Thomson",
          "Chapman, Mrs. John Henry (Sara Elizabeth Lawry)",
          "Watt, Miss. Bertha J",
          "Kiernan, Mr. John",
          "Schabert, Mrs. Paul (Emma Mock)",
          "Carver, Mr. Alfred John",
          "Kennedy, Mr. John",
          "Cribb, Miss. Laura Alice",
          "Brobeck, Mr. Karl Rudolf",
          "McCoy, Miss. Alicia",
          "Bowenur, Mr. Solomon",
          "Petersen, Mr. Marius",
          "Spinner, Mr. Henry John",
          "Gracie, Col. Archibald IV",
          "Lefebre, Mrs. Frank (Frances)",
          "Thomas, Mr. Charles P",
          "Dintcheff, Mr. Valtcho",
          "Carlsson, Mr. Carl Robert",
          "Zakarian, Mr. Mapriededer",
          "Schmidt, Mr. August",
          "Drapkin, Miss. Jennie",
          "Goodwin, Mr. Charles Frederick",
          "Goodwin, Miss. Jessie Allis",
          "Daniels, Miss. Sarah",
          "Ryerson, Mr. Arthur Larned",
          "Beauchamp, Mr. Henry James",
          "Lindeberg-Lind, Mr. Erik Gustaf (Mr Edward Lingrey\")\"",
          "Vander Planke, Mr. Julius",
          "Hilliard, Mr. Herbert Henry",
          "Davies, Mr. Evan",
          "Crafton, Mr. John Bertram",
          "Lahtinen, Rev. William",
          "Earnshaw, Mrs. Boulton (Olive Potter)",
          "Matinoff, Mr. Nicola",
          "Storey, Mr. Thomas",
          "Klasen, Mrs. (Hulda Kristina Eugenia Lofqvist)",
          "Asplund, Master. Filip Oscar",
          "Duquemin, Mr. Joseph",
          "Bird, Miss. Ellen",
          "Lundin, Miss. Olga Elida",
          "Borebank, Mr. John James",
          "Peacock, Mrs. Benjamin (Edith Nile)",
          "Smyth, Miss. Julia",
          "Touma, Master. Georges Youssef",
          "Wright, Miss. Marion",
          "Pearce, Mr. Ernest",
          "Peruschitz, Rev. Joseph Maria",
          "Kink-Heilmann, Mrs. Anton (Luise Heilmann)",
          "Brandeis, Mr. Emil",
          "Ford, Mr. Edward Watson",
          "Cassebeer, Mrs. Henry Arthur Jr (Eleanor Genevieve Fosdick)",
          "Hellstrom, Miss. Hilda Maria",
          "Lithman, Mr. Simon",
          "Zakarian, Mr. Ortin",
          "Dyker, Mr. Adolf Fredrik",
          "Torfa, Mr. Assad",
          "Asplund, Mr. Carl Oscar Vilhelm Gustafsson",
          "Brown, Miss. Edith Eileen",
          "Sincock, Miss. Maude",
          "Stengel, Mr. Charles Emil Henry",
          "Becker, Mrs. Allen Oliver (Nellie E Baumgardner)",
          "Compton, Mrs. Alexander Taylor (Mary Eliza Ingersoll)",
          "McCrie, Mr. James Matthew",
          "Compton, Mr. Alexander Taylor Jr",
          "Marvin, Mrs. Daniel Warner (Mary Graham Carmichael Farquarson)",
          "Lane, Mr. Patrick",
          "Douglas, Mrs. Frederick Charles (Mary Helene Baxter)",
          "Maybery, Mr. Frank Hubert",
          "Phillips, Miss. Alice Frances Louisa",
          "Davies, Mr. Joseph",
          "Sage, Miss. Ada",
          "Veal, Mr. James",
          "Angle, Mr. William A",
          "Salomon, Mr. Abraham L",
          "van Billiard, Master. Walter John",
          "Lingane, Mr. John",
          "Drew, Master. Marshall Brines",
          "Karlsson, Mr. Julius Konrad Eugen",
          "Spedden, Master. Robert Douglas",
          "Nilsson, Miss. Berta Olivia",
          "Baimbrigge, Mr. Charles Robert",
          "Rasmussen, Mrs. (Lena Jacobsen Solvang)",
          "Murphy, Miss. Nora",
          "Danbom, Master. Gilbert Sigvard Emanuel",
          "Astor, Col. John Jacob",
          "Quick, Miss. Winifred Vera",
          "Andrew, Mr. Frank Thomas",
          "Omont, Mr. Alfred Fernand",
          "McGowan, Miss. Katherine",
          "Collett, Mr. Sidney C Stuart",
          "Rosenbaum, Miss. Edith Louise",
          "Delalic, Mr. Redjo",
          "Andersen, Mr. Albert Karvin",
          "Finoli, Mr. Luigi",
          "Deacon, Mr. Percy William",
          "Howard, Mrs. Benjamin (Ellen Truelove Arman)",
          "Andersson, Miss. Ida Augusta Margareta",
          "Head, Mr. Christopher",
          "Mahon, Miss. Bridget Delia",
          "Wick, Mr. George Dennick",
          "Widener, Mrs. George Dunton (Eleanor Elkins)",
          "Thomson, Mr. Alexander Morrison",
          "Duran y More, Miss. Florentina",
          "Reynolds, Mr. Harold J",
          "Cook, Mrs. (Selena Rogers)",
          "Karlsson, Mr. Einar Gervasius",
          "Candee, Mrs. Edward (Helen Churchill Hungerford)",
          "Moubarek, Mrs. George (Omine Amenia\" Alexander)\"",
          "Asplund, Mr. Johan Charles",
          "McNeill, Miss. Bridget",
          "Everett, Mr. Thomas James",
          "Hocking, Mr. Samuel James Metcalfe",
          "Sweet, Mr. George Frederick",
          "Willard, Miss. Constance",
          "Wiklund, Mr. Karl Johan",
          "Linehan, Mr. Michael",
          "Cumings, Mr. John Bradley",
          "Vendel, Mr. Olof Edvin",
          "Warren, Mr. Frank Manley",
          "Baccos, Mr. Raffull",
          "Hiltunen, Miss. Marta",
          "Douglas, Mrs. Walter Donald (Mahala Dutton)",
          "Lindstrom, Mrs. Carl Johan (Sigrid Posse)",
          "Christy, Mrs. (Alice Frances)",
          "Spedden, Mr. Frederic Oakley",
          "Hyman, Mr. Abraham",
          "Johnston, Master. William Arthur Willie\"\"",
          "Kenyon, Mr. Frederick R",
          "Karnes, Mrs. J Frank (Claire Bennett)",
          "Drew, Mr. James Vivian",
          "Hold, Mrs. Stephen (Annie Margaret Hill)",
          "Khalil, Mrs. Betros (Zahie Maria\" Elias)\"",
          "West, Miss. Barbara J",
          "Abrahamsson, Mr. Abraham August Johannes",
          "Clark, Mr. Walter Miller",
          "Salander, Mr. Karl Johan",
          "Wenzel, Mr. Linhart",
          "MacKay, Mr. George William",
          "Mahon, Mr. John",
          "Niklasson, Mr. Samuel",
          "Bentham, Miss. Lilian W",
          "Midtsjo, Mr. Karl Albert",
          "de Messemaeker, Mr. Guillaume Joseph",
          "Nilsson, Mr. August Ferdinand",
          "Wells, Mrs. Arthur Henry (Addie\" Dart Trevaskis)\"",
          "Klasen, Miss. Gertrud Emilia",
          "Portaluppi, Mr. Emilio Ilario Giuseppe",
          "Lyntakoff, Mr. Stanko",
          "Chisholm, Mr. Roderick Robert Crispin",
          "Warren, Mr. Charles William",
          "Howard, Miss. May Elizabeth",
          "Pokrnic, Mr. Mate",
          "McCaffry, Mr. Thomas Francis",
          "Fox, Mr. Patrick",
          "Clark, Mrs. Walter Miller (Virginia McDowell)",
          "Lennon, Miss. Mary",
          "Saade, Mr. Jean Nassr",
          "Bryhl, Miss. Dagmar Jenny Ingeborg ",
          "Parker, Mr. Clifford Richard",
          "Faunthorpe, Mr. Harry",
          "Ware, Mr. John James",
          "Oxenham, Mr. Percy Thomas",
          "Oreskovic, Miss. Jelka",
          "Peacock, Master. Alfred Edward",
          "Fleming, Miss. Honora",
          "Touma, Miss. Maria Youssef",
          "Rosblom, Miss. Salli Helena",
          "Dennis, Mr. William",
          "Franklin, Mr. Charles (Charles Fardon)",
          "Snyder, Mr. John Pillsbury",
          "Mardirosian, Mr. Sarkis",
          "Ford, Mr. Arthur",
          "Rheims, Mr. George Alexander Lucien",
          "Daly, Miss. Margaret Marcella Maggie\"\"",
          "Nasr, Mr. Mustafa",
          "Dodge, Dr. Washington",
          "Wittevrongel, Mr. Camille",
          "Angheloff, Mr. Minko",
          "Laroche, Miss. Louise",
          "Samaan, Mr. Hanna",
          "Loring, Mr. Joseph Holland",
          "Johansson, Mr. Nils",
          "Olsson, Mr. Oscar Wilhelm",
          "Malachard, Mr. Noel",
          "Phillips, Mr. Escott Robert",
          "Pokrnic, Mr. Tome",
          "McCarthy, Miss. Catherine Katie\"\"",
          "Crosby, Mrs. Edward Gifford (Catherine Elizabeth Halstead)",
          "Allison, Mr. Hudson Joshua Creighton",
          "Aks, Master. Philip Frank",
          "Hays, Mr. Charles Melville",
          "Hansen, Mrs. Claus Peter (Jennie L Howard)",
          "Cacic, Mr. Jego Grga",
          "Vartanian, Mr. David",
          "Sadowitz, Mr. Harry",
          "Carr, Miss. Jeannie",
          "White, Mrs. John Stuart (Ella Holmes)",
          "Hagardon, Miss. Kate",
          "Spencer, Mr. William Augustus",
          "Rogers, Mr. Reginald Harry",
          "Jonsson, Mr. Nils Hilding",
          "Jefferys, Mr. Ernest Wilfred",
          "Andersson, Mr. Johan Samuel",
          "Krekorian, Mr. Neshan",
          "Nesson, Mr. Israel",
          "Rowe, Mr. Alfred G",
          "Kreuchen, Miss. Emilie",
          "Assam, Mr. Ali",
          "Becker, Miss. Ruth Elizabeth",
          "Rosenshine, Mr. George (Mr George Thorne\")\"",
          "Clarke, Mr. Charles Valentine",
          "Enander, Mr. Ingvar",
          "Davies, Mrs. John Morgan (Elizabeth Agnes Mary White) ",
          "Dulles, Mr. William Crothers",
          "Thomas, Mr. Tannous",
          "Nakid, Mrs. Said (Waika Mary\" Mowad)\"",
          "Cor, Mr. Ivan",
          "Maguire, Mr. John Edward",
          "de Brito, Mr. Jose Joaquim",
          "Elias, Mr. Joseph",
          "Denbury, Mr. Herbert",
          "Betros, Master. Seman",
          "Fillbrook, Mr. Joseph Charles",
          "Lundstrom, Mr. Thure Edvin",
          "Sage, Mr. John George",
          "Cardeza, Mrs. James Warburton Martinez (Charlotte Wardle Drake)",
          "van Billiard, Master. James William",
          "Abelseth, Miss. Karen Marie",
          "Botsford, Mr. William Hull",
          "Whabee, Mrs. George Joseph (Shawneene Abi-Saab)",
          "Giles, Mr. Ralph",
          "Walcroft, Miss. Nellie",
          "Greenfield, Mrs. Leo David (Blanche Strouse)",
          "Stokes, Mr. Philip Joseph",
          "Dibden, Mr. William",
          "Herman, Mr. Samuel",
          "Dean, Miss. Elizabeth Gladys Millvina\"\"",
          "Julian, Mr. Henry Forbes",
          "Brown, Mrs. John Murray (Caroline Lane Lamson)",
          "Lockyer, Mr. Edward",
          "O'Keefe, Mr. Patrick",
          "Lindell, Mrs. Edvard Bengtsson (Elin Gerda Persson)",
          "Sage, Master. William Henry",
          "Mallet, Mrs. Albert (Antoinette Magnin)",
          "Ware, Mrs. John James (Florence Louise Long)",
          "Strilic, Mr. Ivan",
          "Harder, Mrs. George Achilles (Dorothy Annan)",
          "Sage, Mrs. John (Annie Bullen)",
          "Caram, Mr. Joseph",
          "Riihivouri, Miss. Susanna Juhantytar Sanni\"\"",
          "Gibson, Mrs. Leonard (Pauline C Boeson)",
          "Pallas y Castello, Mr. Emilio",
          "Giles, Mr. Edgar",
          "Wilson, Miss. Helen Alice",
          "Ismay, Mr. Joseph Bruce",
          "Harbeck, Mr. William H",
          "Dodge, Mrs. Washington (Ruth Vidaver)",
          "Bowen, Miss. Grace Scott",
          "Kink, Miss. Maria",
          "Cotterill, Mr. Henry Harry\"\"",
          "Hipkins, Mr. William Edward",
          "Asplund, Master. Carl Edgar",
          "O'Connor, Mr. Patrick",
          "Foley, Mr. Joseph",
          "Risien, Mrs. Samuel (Emma)",
          "McNamee, Mrs. Neal (Eileen O'Leary)",
          "Wheeler, Mr. Edwin Frederick\"\"",
          "Herman, Miss. Kate",
          "Aronsson, Mr. Ernst Axel Algot",
          "Ashby, Mr. John",
          "Canavan, Mr. Patrick",
          "Palsson, Master. Paul Folke",
          "Payne, Mr. Vivian Ponsonby",
          "Lines, Mrs. Ernest H (Elizabeth Lindsey James)",
          "Abbott, Master. Eugene Joseph",
          "Gilbert, Mr. William",
          "Kink-Heilmann, Mr. Anton",
          "Smith, Mrs. Lucien Philip (Mary Eloise Hughes)",
          "Colbert, Mr. Patrick",
          "Frolicher-Stehli, Mrs. Maxmillian (Margaretha Emerentia Stehli)",
          "Larsson-Rondberg, Mr. Edvard A",
          "Conlon, Mr. Thomas Henry",
          "Bonnell, Miss. Caroline",
          "Gale, Mr. Harry",
          "Gibson, Miss. Dorothy Winifred",
          "Carrau, Mr. Jose Pedro",
          "Frauenthal, Mr. Isaac Gerald",
          "Nourney, Mr. Alfred (Baron von Drachstedt\")\"",
          "Ware, Mr. William Jeffery",
          "Widener, Mr. George Dunton",
          "Riordan, Miss. Johanna Hannah\"\"",
          "Peacock, Miss. Treasteall",
          "Naughton, Miss. Hannah",
          "Minahan, Mrs. William Edward (Lillian E Thorpe)",
          "Henriksson, Miss. Jenny Lovisa",
          "Spector, Mr. Woolf",
          "Oliva y Ocana, Dona. Fermina",
          "Saether, Mr. Simon Sivertsen",
          "Ware, Mr. Frederick",
          "Peter, Master. Michael J"
         ],
         "yaxis": "y"
        }
       ],
       "layout": {
        "height": 500,
        "legend": {
         "title": {
          "text": "Survived"
         },
         "tracegroupgap": 0
        },
        "margin": {
         "t": 60
        },
        "template": {
         "data": {
          "bar": [
           {
            "error_x": {
             "color": "#2a3f5f"
            },
            "error_y": {
             "color": "#2a3f5f"
            },
            "marker": {
             "line": {
              "color": "#E5ECF6",
              "width": 0.5
             },
             "pattern": {
              "fillmode": "overlay",
              "size": 10,
              "solidity": 0.2
             }
            },
            "type": "bar"
           }
          ],
          "barpolar": [
           {
            "marker": {
             "line": {
              "color": "#E5ECF6",
              "width": 0.5
             },
             "pattern": {
              "fillmode": "overlay",
              "size": 10,
              "solidity": 0.2
             }
            },
            "type": "barpolar"
           }
          ],
          "carpet": [
           {
            "aaxis": {
             "endlinecolor": "#2a3f5f",
             "gridcolor": "white",
             "linecolor": "white",
             "minorgridcolor": "white",
             "startlinecolor": "#2a3f5f"
            },
            "baxis": {
             "endlinecolor": "#2a3f5f",
             "gridcolor": "white",
             "linecolor": "white",
             "minorgridcolor": "white",
             "startlinecolor": "#2a3f5f"
            },
            "type": "carpet"
           }
          ],
          "choropleth": [
           {
            "colorbar": {
             "outlinewidth": 0,
             "ticks": ""
            },
            "type": "choropleth"
           }
          ],
          "contour": [
           {
            "colorbar": {
             "outlinewidth": 0,
             "ticks": ""
            },
            "colorscale": [
             [
              0,
              "#0d0887"
             ],
             [
              0.1111111111111111,
              "#46039f"
             ],
             [
              0.2222222222222222,
              "#7201a8"
             ],
             [
              0.3333333333333333,
              "#9c179e"
             ],
             [
              0.4444444444444444,
              "#bd3786"
             ],
             [
              0.5555555555555556,
              "#d8576b"
             ],
             [
              0.6666666666666666,
              "#ed7953"
             ],
             [
              0.7777777777777778,
              "#fb9f3a"
             ],
             [
              0.8888888888888888,
              "#fdca26"
             ],
             [
              1,
              "#f0f921"
             ]
            ],
            "type": "contour"
           }
          ],
          "contourcarpet": [
           {
            "colorbar": {
             "outlinewidth": 0,
             "ticks": ""
            },
            "type": "contourcarpet"
           }
          ],
          "heatmap": [
           {
            "colorbar": {
             "outlinewidth": 0,
             "ticks": ""
            },
            "colorscale": [
             [
              0,
              "#0d0887"
             ],
             [
              0.1111111111111111,
              "#46039f"
             ],
             [
              0.2222222222222222,
              "#7201a8"
             ],
             [
              0.3333333333333333,
              "#9c179e"
             ],
             [
              0.4444444444444444,
              "#bd3786"
             ],
             [
              0.5555555555555556,
              "#d8576b"
             ],
             [
              0.6666666666666666,
              "#ed7953"
             ],
             [
              0.7777777777777778,
              "#fb9f3a"
             ],
             [
              0.8888888888888888,
              "#fdca26"
             ],
             [
              1,
              "#f0f921"
             ]
            ],
            "type": "heatmap"
           }
          ],
          "histogram": [
           {
            "marker": {
             "pattern": {
              "fillmode": "overlay",
              "size": 10,
              "solidity": 0.2
             }
            },
            "type": "histogram"
           }
          ],
          "histogram2d": [
           {
            "colorbar": {
             "outlinewidth": 0,
             "ticks": ""
            },
            "colorscale": [
             [
              0,
              "#0d0887"
             ],
             [
              0.1111111111111111,
              "#46039f"
             ],
             [
              0.2222222222222222,
              "#7201a8"
             ],
             [
              0.3333333333333333,
              "#9c179e"
             ],
             [
              0.4444444444444444,
              "#bd3786"
             ],
             [
              0.5555555555555556,
              "#d8576b"
             ],
             [
              0.6666666666666666,
              "#ed7953"
             ],
             [
              0.7777777777777778,
              "#fb9f3a"
             ],
             [
              0.8888888888888888,
              "#fdca26"
             ],
             [
              1,
              "#f0f921"
             ]
            ],
            "type": "histogram2d"
           }
          ],
          "histogram2dcontour": [
           {
            "colorbar": {
             "outlinewidth": 0,
             "ticks": ""
            },
            "colorscale": [
             [
              0,
              "#0d0887"
             ],
             [
              0.1111111111111111,
              "#46039f"
             ],
             [
              0.2222222222222222,
              "#7201a8"
             ],
             [
              0.3333333333333333,
              "#9c179e"
             ],
             [
              0.4444444444444444,
              "#bd3786"
             ],
             [
              0.5555555555555556,
              "#d8576b"
             ],
             [
              0.6666666666666666,
              "#ed7953"
             ],
             [
              0.7777777777777778,
              "#fb9f3a"
             ],
             [
              0.8888888888888888,
              "#fdca26"
             ],
             [
              1,
              "#f0f921"
             ]
            ],
            "type": "histogram2dcontour"
           }
          ],
          "mesh3d": [
           {
            "colorbar": {
             "outlinewidth": 0,
             "ticks": ""
            },
            "type": "mesh3d"
           }
          ],
          "parcoords": [
           {
            "line": {
             "colorbar": {
              "outlinewidth": 0,
              "ticks": ""
             }
            },
            "type": "parcoords"
           }
          ],
          "pie": [
           {
            "automargin": true,
            "type": "pie"
           }
          ],
          "scatter": [
           {
            "fillpattern": {
             "fillmode": "overlay",
             "size": 10,
             "solidity": 0.2
            },
            "type": "scatter"
           }
          ],
          "scatter3d": [
           {
            "line": {
             "colorbar": {
              "outlinewidth": 0,
              "ticks": ""
             }
            },
            "marker": {
             "colorbar": {
              "outlinewidth": 0,
              "ticks": ""
             }
            },
            "type": "scatter3d"
           }
          ],
          "scattercarpet": [
           {
            "marker": {
             "colorbar": {
              "outlinewidth": 0,
              "ticks": ""
             }
            },
            "type": "scattercarpet"
           }
          ],
          "scattergeo": [
           {
            "marker": {
             "colorbar": {
              "outlinewidth": 0,
              "ticks": ""
             }
            },
            "type": "scattergeo"
           }
          ],
          "scattergl": [
           {
            "marker": {
             "colorbar": {
              "outlinewidth": 0,
              "ticks": ""
             }
            },
            "type": "scattergl"
           }
          ],
          "scattermap": [
           {
            "marker": {
             "colorbar": {
              "outlinewidth": 0,
              "ticks": ""
             }
            },
            "type": "scattermap"
           }
          ],
          "scattermapbox": [
           {
            "marker": {
             "colorbar": {
              "outlinewidth": 0,
              "ticks": ""
             }
            },
            "type": "scattermapbox"
           }
          ],
          "scatterpolar": [
           {
            "marker": {
             "colorbar": {
              "outlinewidth": 0,
              "ticks": ""
             }
            },
            "type": "scatterpolar"
           }
          ],
          "scatterpolargl": [
           {
            "marker": {
             "colorbar": {
              "outlinewidth": 0,
              "ticks": ""
             }
            },
            "type": "scatterpolargl"
           }
          ],
          "scatterternary": [
           {
            "marker": {
             "colorbar": {
              "outlinewidth": 0,
              "ticks": ""
             }
            },
            "type": "scatterternary"
           }
          ],
          "surface": [
           {
            "colorbar": {
             "outlinewidth": 0,
             "ticks": ""
            },
            "colorscale": [
             [
              0,
              "#0d0887"
             ],
             [
              0.1111111111111111,
              "#46039f"
             ],
             [
              0.2222222222222222,
              "#7201a8"
             ],
             [
              0.3333333333333333,
              "#9c179e"
             ],
             [
              0.4444444444444444,
              "#bd3786"
             ],
             [
              0.5555555555555556,
              "#d8576b"
             ],
             [
              0.6666666666666666,
              "#ed7953"
             ],
             [
              0.7777777777777778,
              "#fb9f3a"
             ],
             [
              0.8888888888888888,
              "#fdca26"
             ],
             [
              1,
              "#f0f921"
             ]
            ],
            "type": "surface"
           }
          ],
          "table": [
           {
            "cells": {
             "fill": {
              "color": "#EBF0F8"
             },
             "line": {
              "color": "white"
             }
            },
            "header": {
             "fill": {
              "color": "#C8D4E3"
             },
             "line": {
              "color": "white"
             }
            },
            "type": "table"
           }
          ]
         },
         "layout": {
          "annotationdefaults": {
           "arrowcolor": "#2a3f5f",
           "arrowhead": 0,
           "arrowwidth": 1
          },
          "autotypenumbers": "strict",
          "coloraxis": {
           "colorbar": {
            "outlinewidth": 0,
            "ticks": ""
           }
          },
          "colorscale": {
           "diverging": [
            [
             0,
             "#8e0152"
            ],
            [
             0.1,
             "#c51b7d"
            ],
            [
             0.2,
             "#de77ae"
            ],
            [
             0.3,
             "#f1b6da"
            ],
            [
             0.4,
             "#fde0ef"
            ],
            [
             0.5,
             "#f7f7f7"
            ],
            [
             0.6,
             "#e6f5d0"
            ],
            [
             0.7,
             "#b8e186"
            ],
            [
             0.8,
             "#7fbc41"
            ],
            [
             0.9,
             "#4d9221"
            ],
            [
             1,
             "#276419"
            ]
           ],
           "sequential": [
            [
             0,
             "#0d0887"
            ],
            [
             0.1111111111111111,
             "#46039f"
            ],
            [
             0.2222222222222222,
             "#7201a8"
            ],
            [
             0.3333333333333333,
             "#9c179e"
            ],
            [
             0.4444444444444444,
             "#bd3786"
            ],
            [
             0.5555555555555556,
             "#d8576b"
            ],
            [
             0.6666666666666666,
             "#ed7953"
            ],
            [
             0.7777777777777778,
             "#fb9f3a"
            ],
            [
             0.8888888888888888,
             "#fdca26"
            ],
            [
             1,
             "#f0f921"
            ]
           ],
           "sequentialminus": [
            [
             0,
             "#0d0887"
            ],
            [
             0.1111111111111111,
             "#46039f"
            ],
            [
             0.2222222222222222,
             "#7201a8"
            ],
            [
             0.3333333333333333,
             "#9c179e"
            ],
            [
             0.4444444444444444,
             "#bd3786"
            ],
            [
             0.5555555555555556,
             "#d8576b"
            ],
            [
             0.6666666666666666,
             "#ed7953"
            ],
            [
             0.7777777777777778,
             "#fb9f3a"
            ],
            [
             0.8888888888888888,
             "#fdca26"
            ],
            [
             1,
             "#f0f921"
            ]
           ]
          },
          "colorway": [
           "#636efa",
           "#EF553B",
           "#00cc96",
           "#ab63fa",
           "#FFA15A",
           "#19d3f3",
           "#FF6692",
           "#B6E880",
           "#FF97FF",
           "#FECB52"
          ],
          "font": {
           "color": "#2a3f5f"
          },
          "geo": {
           "bgcolor": "white",
           "lakecolor": "white",
           "landcolor": "#E5ECF6",
           "showlakes": true,
           "showland": true,
           "subunitcolor": "white"
          },
          "hoverlabel": {
           "align": "left"
          },
          "hovermode": "closest",
          "mapbox": {
           "style": "light"
          },
          "paper_bgcolor": "white",
          "plot_bgcolor": "#E5ECF6",
          "polar": {
           "angularaxis": {
            "gridcolor": "white",
            "linecolor": "white",
            "ticks": ""
           },
           "bgcolor": "#E5ECF6",
           "radialaxis": {
            "gridcolor": "white",
            "linecolor": "white",
            "ticks": ""
           }
          },
          "scene": {
           "xaxis": {
            "backgroundcolor": "#E5ECF6",
            "gridcolor": "white",
            "gridwidth": 2,
            "linecolor": "white",
            "showbackground": true,
            "ticks": "",
            "zerolinecolor": "white"
           },
           "yaxis": {
            "backgroundcolor": "#E5ECF6",
            "gridcolor": "white",
            "gridwidth": 2,
            "linecolor": "white",
            "showbackground": true,
            "ticks": "",
            "zerolinecolor": "white"
           },
           "zaxis": {
            "backgroundcolor": "#E5ECF6",
            "gridcolor": "white",
            "gridwidth": 2,
            "linecolor": "white",
            "showbackground": true,
            "ticks": "",
            "zerolinecolor": "white"
           }
          },
          "shapedefaults": {
           "line": {
            "color": "#2a3f5f"
           }
          },
          "ternary": {
           "aaxis": {
            "gridcolor": "white",
            "linecolor": "white",
            "ticks": ""
           },
           "baxis": {
            "gridcolor": "white",
            "linecolor": "white",
            "ticks": ""
           },
           "bgcolor": "#E5ECF6",
           "caxis": {
            "gridcolor": "white",
            "linecolor": "white",
            "ticks": ""
           }
          },
          "title": {
           "x": 0.05
          },
          "xaxis": {
           "automargin": true,
           "gridcolor": "white",
           "linecolor": "white",
           "ticks": "",
           "title": {
            "standoff": 15
           },
           "zerolinecolor": "white",
           "zerolinewidth": 2
          },
          "yaxis": {
           "automargin": true,
           "gridcolor": "white",
           "linecolor": "white",
           "ticks": "",
           "title": {
            "standoff": 15
           },
           "zerolinecolor": "white",
           "zerolinewidth": 2
          }
         }
        },
        "width": 1200,
        "xaxis": {
         "anchor": "y",
         "domain": [
          0,
          1
         ],
         "title": {
          "text": "Fare"
         }
        },
        "yaxis": {
         "anchor": "x",
         "domain": [
          0,
          1
         ],
         "title": {
          "text": "Name"
         }
        }
       }
      }
     },
     "metadata": {},
     "output_type": "display_data"
    }
   ],
   "source": [
    "dfplt = df.copy(deep=True)\n",
    "dfplt[\"Survived\"] = dfplt[\"Survived\"].astype(str)\n",
    "fig = px.scatter(dfplt, x=\"Fare\", y=\"Name\", color = \"Survived\", size_max=6,\n",
    "                 width=1200, height=500,color_discrete_sequence=cm)\n",
    "fig.show()"
   ]
  },
  {
   "cell_type": "code",
   "execution_count": 136,
   "id": "49b48c24",
   "metadata": {},
   "outputs": [
    {
     "data": {
      "text/html": [
       "<div>\n",
       "<style scoped>\n",
       "    .dataframe tbody tr th:only-of-type {\n",
       "        vertical-align: middle;\n",
       "    }\n",
       "\n",
       "    .dataframe tbody tr th {\n",
       "        vertical-align: top;\n",
       "    }\n",
       "\n",
       "    .dataframe thead th {\n",
       "        text-align: right;\n",
       "    }\n",
       "</style>\n",
       "<table border=\"1\" class=\"dataframe\">\n",
       "  <thead>\n",
       "    <tr style=\"text-align: right;\">\n",
       "      <th></th>\n",
       "      <th>Survived</th>\n",
       "      <th>Pclass</th>\n",
       "      <th>Name</th>\n",
       "      <th>Sex</th>\n",
       "      <th>Age</th>\n",
       "      <th>SibSp</th>\n",
       "      <th>Parch</th>\n",
       "      <th>Ticket</th>\n",
       "      <th>Fare</th>\n",
       "      <th>Cabin</th>\n",
       "      <th>Embarked</th>\n",
       "      <th>Deck</th>\n",
       "      <th>Side</th>\n",
       "    </tr>\n",
       "    <tr>\n",
       "      <th>PassengerId</th>\n",
       "      <th></th>\n",
       "      <th></th>\n",
       "      <th></th>\n",
       "      <th></th>\n",
       "      <th></th>\n",
       "      <th></th>\n",
       "      <th></th>\n",
       "      <th></th>\n",
       "      <th></th>\n",
       "      <th></th>\n",
       "      <th></th>\n",
       "      <th></th>\n",
       "      <th></th>\n",
       "    </tr>\n",
       "  </thead>\n",
       "  <tbody>\n",
       "    <tr>\n",
       "      <th>62</th>\n",
       "      <td>1.0</td>\n",
       "      <td>1</td>\n",
       "      <td>Icard, Miss. Amelie</td>\n",
       "      <td>female</td>\n",
       "      <td>38.0</td>\n",
       "      <td>0</td>\n",
       "      <td>0</td>\n",
       "      <td>113572</td>\n",
       "      <td>1194.0</td>\n",
       "      <td>28.0</td>\n",
       "      <td>NaN</td>\n",
       "      <td>B</td>\n",
       "      <td>-1.0</td>\n",
       "    </tr>\n",
       "    <tr>\n",
       "      <th>830</th>\n",
       "      <td>1.0</td>\n",
       "      <td>1</td>\n",
       "      <td>Stone, Mrs. George Nelson (Martha Evelyn)</td>\n",
       "      <td>female</td>\n",
       "      <td>62.0</td>\n",
       "      <td>0</td>\n",
       "      <td>0</td>\n",
       "      <td>113572</td>\n",
       "      <td>1194.0</td>\n",
       "      <td>28.0</td>\n",
       "      <td>NaN</td>\n",
       "      <td>B</td>\n",
       "      <td>-1.0</td>\n",
       "    </tr>\n",
       "  </tbody>\n",
       "</table>\n",
       "</div>"
      ],
      "text/plain": [
       "             Survived  Pclass                                       Name     Sex   Age  SibSp  Parch  Ticket    Fare  Cabin Embarked Deck  Side\n",
       "PassengerId                                                                                                                                    \n",
       "62                1.0       1                        Icard, Miss. Amelie  female  38.0      0      0  113572  1194.0   28.0      NaN    B  -1.0\n",
       "830               1.0       1  Stone, Mrs. George Nelson (Martha Evelyn)  female  62.0      0      0  113572  1194.0   28.0      NaN    B  -1.0"
      ]
     },
     "execution_count": 136,
     "metadata": {},
     "output_type": "execute_result"
    }
   ],
   "source": [
    "df[df[\"Embarked\"].isna()]"
   ]
  },
  {
   "cell_type": "code",
   "execution_count": 137,
   "id": "241d4b1c",
   "metadata": {},
   "outputs": [],
   "source": [
    "df.loc[df[\"Embarked\"].isna(),\"Embarked\"] = \"S\"\n"
   ]
  },
  {
   "cell_type": "code",
   "execution_count": 142,
   "id": "3e19070a",
   "metadata": {},
   "outputs": [
    {
     "data": {
      "text/plain": [
       "<Axes: >"
      ]
     },
     "execution_count": 142,
     "metadata": {},
     "output_type": "execute_result"
    },
    {
     "data": {
      "image/png": "[encoded data removed]",
      "text/plain": [
       "<Figure size 3000x200 with 3 Axes>"
      ]
     },
     "metadata": {},
     "output_type": "display_data"
    }
   ],
   "source": [
    "msno.bar(df, figsize=(30,2), color=gradient)"
   ]
  },
  {
   "cell_type": "code",
   "execution_count": 139,
   "id": "ed851293",
   "metadata": {},
   "outputs": [],
   "source": [
    "df.dropna(subset=['Survived'], inplace=True)\n",
    "df.drop(columns=['Cabin', 'Side'], inplace=True)"
   ]
  },
  {
   "cell_type": "code",
   "execution_count": 140,
   "id": "c9b7391b",
   "metadata": {},
   "outputs": [
    {
     "data": {
      "text/plain": [
       "Index(['Survived', 'Pclass', 'Name', 'Sex', 'Age', 'SibSp', 'Parch', 'Ticket', 'Fare', 'Embarked', 'Deck'], dtype='object')"
      ]
     },
     "execution_count": 140,
     "metadata": {},
     "output_type": "execute_result"
    }
   ],
   "source": [
    "df.columns"
   ]
  },
  {
   "cell_type": "code",
   "execution_count": 145,
   "id": "f1bf44ee",
   "metadata": {},
   "outputs": [],
   "source": [
    "onehot_df = pd.DataFrame(index=df.index)\n",
    "\n",
    "for c in [\"Pclass\",\"Sex\",\"Embarked\",\"Deck\"]:\n",
    "    encoded = OneHotEncoder().fit_transform(df[c].to_numpy().reshape(-1,1)).toarray()\n",
    "    columns = [f\"{c}_{i}\" for i in range(encoded.shape[1])]\n",
    "    _df =pd.DataFrame(data=encoded, columns=columns, index=df.index)\n",
    "    onehot_df = pd.concat([_df,onehot_df], axis=1)\n",
    "    \n",
    "onehot_df = pd.concat([onehot_df,df[[\"Survived\",\"Age\",\"SibSp\",\"Parch\",\"Fare\"]]], axis=1)\n",
    "\n",
    "for c in [\"Age\",\"Fare\",\"SibSp\",\"Parch\"]:\n",
    "    onehot_df[c] = MinMaxScaler().fit_transform(onehot_df[c].to_numpy().reshape(-1,1))"
   ]
  },
  {
   "cell_type": "markdown",
   "id": "85bd792c",
   "metadata": {},
   "source": [
    "### Model development"
   ]
  },
  {
   "cell_type": "code",
   "execution_count": 146,
   "id": "6bb5ffe5",
   "metadata": {},
   "outputs": [
    {
     "name": "stderr",
     "output_type": "stream",
     "text": [
      "/tmp/ipykernel_12523/2058455189.py:5: FutureWarning:\n",
      "\n",
      "Setting an item of incompatible dtype is deprecated and will raise in a future error of pandas. Value '[False  True  True  True False False False False  True  True  True  True\n",
      " False False False  True False  True False  True False  True  True  True\n",
      " False  True False False  True False False  True  True False False False\n",
      "  True False False  True False False False  True  True False False  True\n",
      " False False False False  True  True False  True  True False  True False\n",
      " False  True False False False  True  True False  True False False False\n",
      " False False  True False False False  True  True False  True  True False\n",
      "  True  True False False  True False False False False False False False\n",
      " False  True  True False False False False False False False  True  True\n",
      " False  True False False False False False False False False False False\n",
      " False False False  True False  True False  True  True False False False\n",
      " False  True False False  True False False False False  True  True False\n",
      " False False  True False False False False  True False False False False\n",
      "  True False False False False  True False False False  True  True False\n",
      " False False False False  True False False False False False False False\n",
      " False False False  True  True False  True  True False False  True False\n",
      "  True  True  True  True False False  True False False False False False\n",
      "  True False False  True  True  True False  True False False False  True\n",
      "  True False  True False  True False False False  True False  True False\n",
      " False False  True False False  True False False False  True False False\n",
      " False  True False False False False False  True  True False False False\n",
      " False False False  True  True  True  True  True False  True False False\n",
      " False False False  True  True  True False  True  True False  True  True\n",
      " False False False  True False False False  True False False  True False\n",
      "  True  True  True  True False False False False False False  True  True\n",
      "  True  True False  True False  True  True  True False  True  True  True\n",
      " False False False  True  True False  True  True False False  True  True\n",
      " False  True False  True  True  True  True False False False  True False\n",
      " False  True  True False  True  True False False False  True  True  True\n",
      "  True False False False False False False False  True False  True  True\n",
      " False False False False False False  True  True  True  True  True False\n",
      " False False False  True  True False False False  True  True False  True\n",
      " False False False  True False  True  True  True False  True  True False\n",
      " False False False  True  True False False False False False False  True\n",
      " False False False False  True False  True False  True  True False False\n",
      " False False False False False False  True  True False  True  True  True\n",
      "  True False False  True False  True False False  True False False  True\n",
      "  True  True  True  True  True  True False False False  True False  True\n",
      " False  True  True False  True False False False False False False False\n",
      " False  True False False  True  True False False False False False  True\n",
      " False False False  True  True False  True False False  True False False\n",
      " False False False False  True False False False False False False False\n",
      "  True False  True  True False  True  True False  True  True False False\n",
      "  True False  True False  True False False  True False False  True False\n",
      " False False  True False False  True False  True False  True False  True\n",
      "  True False False  True False False  True  True False  True  True False\n",
      " False  True  True False  True False  True  True False False False False\n",
      " False False False False False  True  True  True  True  True False False\n",
      "  True  True False  True  True  True False False False  True False  True\n",
      " False False False  True False False False False  True False False  True\n",
      "  True False False False  True False False  True  True  True False False\n",
      "  True False False  True False False  True False False  True  True False\n",
      " False False False  True False False  True False  True False False  True\n",
      " False False False False False  True False  True  True  True False  True\n",
      " False  True False  True False  True False False False False False False\n",
      "  True False False False  True False False False False  True  True False\n",
      " False  True False False False  True False  True False  True False False\n",
      " False False False False False  True  True  True  True False False False\n",
      " False  True False False  True  True False False False False  True  True\n",
      "  True  True  True False  True False False False  True  True False False\n",
      "  True False False False  True False  True  True False False  True False\n",
      " False False False False False  True False False  True False  True False\n",
      "  True False False  True False False  True  True False False  True  True\n",
      " False False False  True False False  True  True False  True False False\n",
      " False False False False False False  True False False  True False  True\n",
      "  True  True False False False False  True False  True False False False\n",
      " False False False False  True  True False False False  True  True  True\n",
      "  True False False False False  True False False False False False False\n",
      " False False False False  True  True False  True False False False  True\n",
      "  True  True  True  True False False False  True False False  True  True\n",
      " False False  True False False False False False False  True False False\n",
      " False  True False  True  True  True  True False False False  True False\n",
      " False  True  True False False  True False  True False False  True  True\n",
      " False False False  True  True False False False False False False  True\n",
      " False  True False]' has dtype incompatible with float64, please explicitly cast to a compatible dtype first.\n",
      "\n"
     ]
    }
   ],
   "source": [
    "df_train = onehot_df.copy(deep=True)\n",
    "mask = df_train[\"Survived\"].isna()\n",
    "train, deploy = df_train[~mask], df_train[mask]\n",
    "deploy = deploy.drop(\"Survived\", axis=1)\n",
    "train.loc[:,\"Survived\"] = train.loc[:,\"Survived\"].astype(bool)\n",
    "x_train, y_train = train.drop(\"Survived\", axis=1), train[\"Survived\"].astype(int)"
   ]
  },
  {
   "cell_type": "code",
   "execution_count": 147,
   "id": "8dc1821b",
   "metadata": {},
   "outputs": [],
   "source": [
    "import numpy as np\n",
    "import scipy\n",
    "setattr(scipy, \"interp\", np.interp)  # cria scipy.interp apontando para np.interp\n",
    "\n",
    "import scikitplot as skplt\n",
    "\n",
    "deploy_acc, train_acc, models_dict= {},{},{}\n",
    "\n",
    "def baseline(name, model, verbose=True):\n",
    "    models_dict[name] = model\n",
    "    models_dict[name].fit(x_train,y_train)\n",
    "    y_train_hat = models_dict[name].predict(x_train)\n",
    "    train_acc[name] = accuracy_score(y_train,y_train_hat)\n",
    "    if verbose:\n",
    "        skplt.metrics.plot_confusion_matrix(y_train, y_train_hat, normalize=True, figsize=(5,5))\n",
    "    submition = pd.DataFrame(models_dict[name].predict(deploy), index= deploy.index,columns = [\"Survived\"]).astype(int)\n",
    "    submition.to_csv(f'{name}.csv')"
   ]
  },
  {
   "cell_type": "code",
   "execution_count": 149,
   "id": "d29350bb",
   "metadata": {},
   "outputs": [
    {
     "ename": "ValueError",
     "evalue": "Found array with 0 sample(s) (shape=(0, 20)) while a minimum of 1 is required by SVC.",
     "output_type": "error",
     "traceback": [
      "\u001b[0;31m---------------------------------------------------------------------------\u001b[0m",
      "\u001b[0;31mValueError\u001b[0m                                Traceback (most recent call last)",
      "Cell \u001b[0;32mIn[149], line 6\u001b[0m\n\u001b[1;32m      1\u001b[0m \u001b[38;5;66;03m# params = {\"penalty\":\"l2\",\"solver\": \"liblinear\",\"C\":0.2,}\u001b[39;00m\n\u001b[1;32m      2\u001b[0m \u001b[38;5;66;03m# name, model = \"lr_baseline\", LogisticRegression(**params)\u001b[39;00m\n\u001b[1;32m      3\u001b[0m \u001b[38;5;66;03m# baseline(name, model, verbose=False)\u001b[39;00m\n\u001b[1;32m      5\u001b[0m name, model \u001b[38;5;241m=\u001b[39m \u001b[38;5;124m\"\u001b[39m\u001b[38;5;124msvm_baseline\u001b[39m\u001b[38;5;124m\"\u001b[39m, SVC(\u001b[38;5;241m*\u001b[39m\u001b[38;5;241m*\u001b[39m{\u001b[38;5;124m'\u001b[39m\u001b[38;5;124mC\u001b[39m\u001b[38;5;124m'\u001b[39m: \u001b[38;5;241m5\u001b[39m, \u001b[38;5;124m'\u001b[39m\u001b[38;5;124mdegree\u001b[39m\u001b[38;5;124m'\u001b[39m: \u001b[38;5;241m2\u001b[39m, \u001b[38;5;124m'\u001b[39m\u001b[38;5;124mgamma\u001b[39m\u001b[38;5;124m'\u001b[39m: \u001b[38;5;241m0.1\u001b[39m, \u001b[38;5;124m'\u001b[39m\u001b[38;5;124mkernel\u001b[39m\u001b[38;5;124m'\u001b[39m: \u001b[38;5;124m'\u001b[39m\u001b[38;5;124mpoly\u001b[39m\u001b[38;5;124m'\u001b[39m})\n\u001b[0;32m----> 6\u001b[0m \u001b[43mbaseline\u001b[49m\u001b[43m(\u001b[49m\u001b[43mname\u001b[49m\u001b[43m,\u001b[49m\u001b[43m \u001b[49m\u001b[43mmodel\u001b[49m\u001b[43m,\u001b[49m\u001b[43m \u001b[49m\u001b[43mverbose\u001b[49m\u001b[38;5;241;43m=\u001b[39;49m\u001b[38;5;28;43;01mFalse\u001b[39;49;00m\u001b[43m)\u001b[49m\n\u001b[1;32m      8\u001b[0m \u001b[38;5;66;03m# params = {\"eta\":0.1,\"gamma\":0,\"max_depth\":6,\"lambda\":0.1,\"alpha\":10}\u001b[39;00m\n\u001b[1;32m      9\u001b[0m \u001b[38;5;66;03m# name, model = \"xg_baseline\", XGBClassifier(**params)\u001b[39;00m\n\u001b[1;32m     10\u001b[0m \u001b[38;5;66;03m# baseline(name, model, verbose=False)\u001b[39;00m\n\u001b[0;32m   (...)\u001b[0m\n\u001b[1;32m     13\u001b[0m \u001b[38;5;66;03m# name, model = \"cb_baseline\", CatBoostClassifier(**params)\u001b[39;00m\n\u001b[1;32m     14\u001b[0m \u001b[38;5;66;03m# baseline(name, model, verbose=False)\u001b[39;00m\n",
      "Cell \u001b[0;32mIn[147], line 16\u001b[0m, in \u001b[0;36mbaseline\u001b[0;34m(name, model, verbose)\u001b[0m\n\u001b[1;32m     14\u001b[0m \u001b[38;5;28;01mif\u001b[39;00m verbose:\n\u001b[1;32m     15\u001b[0m     skplt\u001b[38;5;241m.\u001b[39mmetrics\u001b[38;5;241m.\u001b[39mplot_confusion_matrix(y_train, y_train_hat, normalize\u001b[38;5;241m=\u001b[39m\u001b[38;5;28;01mTrue\u001b[39;00m, figsize\u001b[38;5;241m=\u001b[39m(\u001b[38;5;241m5\u001b[39m,\u001b[38;5;241m5\u001b[39m))\n\u001b[0;32m---> 16\u001b[0m submition \u001b[38;5;241m=\u001b[39m pd\u001b[38;5;241m.\u001b[39mDataFrame(\u001b[43mmodels_dict\u001b[49m\u001b[43m[\u001b[49m\u001b[43mname\u001b[49m\u001b[43m]\u001b[49m\u001b[38;5;241;43m.\u001b[39;49m\u001b[43mpredict\u001b[49m\u001b[43m(\u001b[49m\u001b[43mdeploy\u001b[49m\u001b[43m)\u001b[49m, index\u001b[38;5;241m=\u001b[39m deploy\u001b[38;5;241m.\u001b[39mindex,columns \u001b[38;5;241m=\u001b[39m [\u001b[38;5;124m\"\u001b[39m\u001b[38;5;124mSurvived\u001b[39m\u001b[38;5;124m\"\u001b[39m])\u001b[38;5;241m.\u001b[39mastype(\u001b[38;5;28mint\u001b[39m)\n\u001b[1;32m     17\u001b[0m submition\u001b[38;5;241m.\u001b[39mto_csv(\u001b[38;5;124mf\u001b[39m\u001b[38;5;124m'\u001b[39m\u001b[38;5;132;01m{\u001b[39;00mname\u001b[38;5;132;01m}\u001b[39;00m\u001b[38;5;124m.csv\u001b[39m\u001b[38;5;124m'\u001b[39m)\n",
      "File \u001b[0;32m~/Projects/Harve/PCD/sklearn-env/lib/python3.10/site-packages/sklearn/svm/_base.py:822\u001b[0m, in \u001b[0;36mBaseSVC.predict\u001b[0;34m(self, X)\u001b[0m\n\u001b[1;32m    820\u001b[0m     y \u001b[38;5;241m=\u001b[39m np\u001b[38;5;241m.\u001b[39margmax(\u001b[38;5;28mself\u001b[39m\u001b[38;5;241m.\u001b[39mdecision_function(X), axis\u001b[38;5;241m=\u001b[39m\u001b[38;5;241m1\u001b[39m)\n\u001b[1;32m    821\u001b[0m \u001b[38;5;28;01melse\u001b[39;00m:\n\u001b[0;32m--> 822\u001b[0m     y \u001b[38;5;241m=\u001b[39m \u001b[38;5;28;43msuper\u001b[39;49m\u001b[43m(\u001b[49m\u001b[43m)\u001b[49m\u001b[38;5;241;43m.\u001b[39;49m\u001b[43mpredict\u001b[49m\u001b[43m(\u001b[49m\u001b[43mX\u001b[49m\u001b[43m)\u001b[49m\n\u001b[1;32m    823\u001b[0m \u001b[38;5;28;01mreturn\u001b[39;00m \u001b[38;5;28mself\u001b[39m\u001b[38;5;241m.\u001b[39mclasses_\u001b[38;5;241m.\u001b[39mtake(np\u001b[38;5;241m.\u001b[39masarray(y, dtype\u001b[38;5;241m=\u001b[39mnp\u001b[38;5;241m.\u001b[39mintp))\n",
      "File \u001b[0;32m~/Projects/Harve/PCD/sklearn-env/lib/python3.10/site-packages/sklearn/svm/_base.py:436\u001b[0m, in \u001b[0;36mBaseLibSVM.predict\u001b[0;34m(self, X)\u001b[0m\n\u001b[1;32m    420\u001b[0m \u001b[38;5;28;01mdef\u001b[39;00m\u001b[38;5;250m \u001b[39m\u001b[38;5;21mpredict\u001b[39m(\u001b[38;5;28mself\u001b[39m, X):\n\u001b[1;32m    421\u001b[0m \u001b[38;5;250m    \u001b[39m\u001b[38;5;124;03m\"\"\"Perform regression on samples in X.\u001b[39;00m\n\u001b[1;32m    422\u001b[0m \n\u001b[1;32m    423\u001b[0m \u001b[38;5;124;03m    For an one-class model, +1 (inlier) or -1 (outlier) is returned.\u001b[39;00m\n\u001b[0;32m   (...)\u001b[0m\n\u001b[1;32m    434\u001b[0m \u001b[38;5;124;03m        The predicted values.\u001b[39;00m\n\u001b[1;32m    435\u001b[0m \u001b[38;5;124;03m    \"\"\"\u001b[39;00m\n\u001b[0;32m--> 436\u001b[0m     X \u001b[38;5;241m=\u001b[39m \u001b[38;5;28;43mself\u001b[39;49m\u001b[38;5;241;43m.\u001b[39;49m\u001b[43m_validate_for_predict\u001b[49m\u001b[43m(\u001b[49m\u001b[43mX\u001b[49m\u001b[43m)\u001b[49m\n\u001b[1;32m    437\u001b[0m     predict \u001b[38;5;241m=\u001b[39m \u001b[38;5;28mself\u001b[39m\u001b[38;5;241m.\u001b[39m_sparse_predict \u001b[38;5;28;01mif\u001b[39;00m \u001b[38;5;28mself\u001b[39m\u001b[38;5;241m.\u001b[39m_sparse \u001b[38;5;28;01melse\u001b[39;00m \u001b[38;5;28mself\u001b[39m\u001b[38;5;241m.\u001b[39m_dense_predict\n\u001b[1;32m    438\u001b[0m     \u001b[38;5;28;01mreturn\u001b[39;00m predict(X)\n",
      "File \u001b[0;32m~/Projects/Harve/PCD/sklearn-env/lib/python3.10/site-packages/sklearn/svm/_base.py:614\u001b[0m, in \u001b[0;36mBaseLibSVM._validate_for_predict\u001b[0;34m(self, X)\u001b[0m\n\u001b[1;32m    611\u001b[0m check_is_fitted(\u001b[38;5;28mself\u001b[39m)\n\u001b[1;32m    613\u001b[0m \u001b[38;5;28;01mif\u001b[39;00m \u001b[38;5;129;01mnot\u001b[39;00m \u001b[38;5;28mcallable\u001b[39m(\u001b[38;5;28mself\u001b[39m\u001b[38;5;241m.\u001b[39mkernel):\n\u001b[0;32m--> 614\u001b[0m     X \u001b[38;5;241m=\u001b[39m \u001b[43mvalidate_data\u001b[49m\u001b[43m(\u001b[49m\n\u001b[1;32m    615\u001b[0m \u001b[43m        \u001b[49m\u001b[38;5;28;43mself\u001b[39;49m\u001b[43m,\u001b[49m\n\u001b[1;32m    616\u001b[0m \u001b[43m        \u001b[49m\u001b[43mX\u001b[49m\u001b[43m,\u001b[49m\n\u001b[1;32m    617\u001b[0m \u001b[43m        \u001b[49m\u001b[43maccept_sparse\u001b[49m\u001b[38;5;241;43m=\u001b[39;49m\u001b[38;5;124;43m\"\u001b[39;49m\u001b[38;5;124;43mcsr\u001b[39;49m\u001b[38;5;124;43m\"\u001b[39;49m\u001b[43m,\u001b[49m\n\u001b[1;32m    618\u001b[0m \u001b[43m        \u001b[49m\u001b[43mdtype\u001b[49m\u001b[38;5;241;43m=\u001b[39;49m\u001b[43mnp\u001b[49m\u001b[38;5;241;43m.\u001b[39;49m\u001b[43mfloat64\u001b[49m\u001b[43m,\u001b[49m\n\u001b[1;32m    619\u001b[0m \u001b[43m        \u001b[49m\u001b[43morder\u001b[49m\u001b[38;5;241;43m=\u001b[39;49m\u001b[38;5;124;43m\"\u001b[39;49m\u001b[38;5;124;43mC\u001b[39;49m\u001b[38;5;124;43m\"\u001b[39;49m\u001b[43m,\u001b[49m\n\u001b[1;32m    620\u001b[0m \u001b[43m        \u001b[49m\u001b[43maccept_large_sparse\u001b[49m\u001b[38;5;241;43m=\u001b[39;49m\u001b[38;5;28;43;01mFalse\u001b[39;49;00m\u001b[43m,\u001b[49m\n\u001b[1;32m    621\u001b[0m \u001b[43m        \u001b[49m\u001b[43mreset\u001b[49m\u001b[38;5;241;43m=\u001b[39;49m\u001b[38;5;28;43;01mFalse\u001b[39;49;00m\u001b[43m,\u001b[49m\n\u001b[1;32m    622\u001b[0m \u001b[43m    \u001b[49m\u001b[43m)\u001b[49m\n\u001b[1;32m    624\u001b[0m \u001b[38;5;28;01mif\u001b[39;00m \u001b[38;5;28mself\u001b[39m\u001b[38;5;241m.\u001b[39m_sparse \u001b[38;5;129;01mand\u001b[39;00m \u001b[38;5;129;01mnot\u001b[39;00m sp\u001b[38;5;241m.\u001b[39missparse(X):\n\u001b[1;32m    625\u001b[0m     X \u001b[38;5;241m=\u001b[39m sp\u001b[38;5;241m.\u001b[39mcsr_matrix(X)\n",
      "File \u001b[0;32m~/Projects/Harve/PCD/sklearn-env/lib/python3.10/site-packages/sklearn/utils/validation.py:2954\u001b[0m, in \u001b[0;36mvalidate_data\u001b[0;34m(_estimator, X, y, reset, validate_separately, skip_check_array, **check_params)\u001b[0m\n\u001b[1;32m   2952\u001b[0m         out \u001b[38;5;241m=\u001b[39m X, y\n\u001b[1;32m   2953\u001b[0m \u001b[38;5;28;01melif\u001b[39;00m \u001b[38;5;129;01mnot\u001b[39;00m no_val_X \u001b[38;5;129;01mand\u001b[39;00m no_val_y:\n\u001b[0;32m-> 2954\u001b[0m     out \u001b[38;5;241m=\u001b[39m \u001b[43mcheck_array\u001b[49m\u001b[43m(\u001b[49m\u001b[43mX\u001b[49m\u001b[43m,\u001b[49m\u001b[43m \u001b[49m\u001b[43minput_name\u001b[49m\u001b[38;5;241;43m=\u001b[39;49m\u001b[38;5;124;43m\"\u001b[39;49m\u001b[38;5;124;43mX\u001b[39;49m\u001b[38;5;124;43m\"\u001b[39;49m\u001b[43m,\u001b[49m\u001b[43m \u001b[49m\u001b[38;5;241;43m*\u001b[39;49m\u001b[38;5;241;43m*\u001b[39;49m\u001b[43mcheck_params\u001b[49m\u001b[43m)\u001b[49m\n\u001b[1;32m   2955\u001b[0m \u001b[38;5;28;01melif\u001b[39;00m no_val_X \u001b[38;5;129;01mand\u001b[39;00m \u001b[38;5;129;01mnot\u001b[39;00m no_val_y:\n\u001b[1;32m   2956\u001b[0m     out \u001b[38;5;241m=\u001b[39m _check_y(y, \u001b[38;5;241m*\u001b[39m\u001b[38;5;241m*\u001b[39mcheck_params)\n",
      "File \u001b[0;32m~/Projects/Harve/PCD/sklearn-env/lib/python3.10/site-packages/sklearn/utils/validation.py:1128\u001b[0m, in \u001b[0;36mcheck_array\u001b[0;34m(array, accept_sparse, accept_large_sparse, dtype, order, copy, force_writeable, force_all_finite, ensure_all_finite, ensure_non_negative, ensure_2d, allow_nd, ensure_min_samples, ensure_min_features, estimator, input_name)\u001b[0m\n\u001b[1;32m   1126\u001b[0m     n_samples \u001b[38;5;241m=\u001b[39m _num_samples(array)\n\u001b[1;32m   1127\u001b[0m     \u001b[38;5;28;01mif\u001b[39;00m n_samples \u001b[38;5;241m<\u001b[39m ensure_min_samples:\n\u001b[0;32m-> 1128\u001b[0m         \u001b[38;5;28;01mraise\u001b[39;00m \u001b[38;5;167;01mValueError\u001b[39;00m(\n\u001b[1;32m   1129\u001b[0m             \u001b[38;5;124m\"\u001b[39m\u001b[38;5;124mFound array with \u001b[39m\u001b[38;5;132;01m%d\u001b[39;00m\u001b[38;5;124m sample(s) (shape=\u001b[39m\u001b[38;5;132;01m%s\u001b[39;00m\u001b[38;5;124m) while a\u001b[39m\u001b[38;5;124m\"\u001b[39m\n\u001b[1;32m   1130\u001b[0m             \u001b[38;5;124m\"\u001b[39m\u001b[38;5;124m minimum of \u001b[39m\u001b[38;5;132;01m%d\u001b[39;00m\u001b[38;5;124m is required\u001b[39m\u001b[38;5;132;01m%s\u001b[39;00m\u001b[38;5;124m.\u001b[39m\u001b[38;5;124m\"\u001b[39m\n\u001b[1;32m   1131\u001b[0m             \u001b[38;5;241m%\u001b[39m (n_samples, array\u001b[38;5;241m.\u001b[39mshape, ensure_min_samples, context)\n\u001b[1;32m   1132\u001b[0m         )\n\u001b[1;32m   1134\u001b[0m \u001b[38;5;28;01mif\u001b[39;00m ensure_min_features \u001b[38;5;241m>\u001b[39m \u001b[38;5;241m0\u001b[39m \u001b[38;5;129;01mand\u001b[39;00m array\u001b[38;5;241m.\u001b[39mndim \u001b[38;5;241m==\u001b[39m \u001b[38;5;241m2\u001b[39m:\n\u001b[1;32m   1135\u001b[0m     n_features \u001b[38;5;241m=\u001b[39m array\u001b[38;5;241m.\u001b[39mshape[\u001b[38;5;241m1\u001b[39m]\n",
      "\u001b[0;31mValueError\u001b[0m: Found array with 0 sample(s) (shape=(0, 20)) while a minimum of 1 is required by SVC."
     ]
    }
   ],
   "source": [
    "# params = {\"penalty\":\"l2\",\"solver\": \"liblinear\",\"C\":0.2,}\n",
    "# name, model = \"lr_baseline\", LogisticRegression(**params)\n",
    "# baseline(name, model, verbose=False)\n",
    "\n",
    "name, model = \"svm_baseline\", SVC(**{'C': 5, 'degree': 2, 'gamma': 0.1, 'kernel': 'poly'})\n",
    "baseline(name, model, verbose=False)\n",
    "\n",
    "# params = {\"eta\":0.1,\"gamma\":0,\"max_depth\":6,\"lambda\":0.1,\"alpha\":10}\n",
    "# name, model = \"xg_baseline\", XGBClassifier(**params)\n",
    "# baseline(name, model, verbose=False)\n",
    "\n",
    "# params = {\"rsm\":0.1, \"learning_rate\":0.005,\"iterations\":500,\"l2_leaf_reg\":5,\"verbose\":False}\n",
    "# name, model = \"cb_baseline\", CatBoostClassifier(**params)\n",
    "# baseline(name, model, verbose=False)"
   ]
  },
  {
   "cell_type": "code",
   "execution_count": null,
   "id": "1cc427c2",
   "metadata": {},
   "outputs": [],
   "source": []
  }
 ],
 "metadata": {
  "kernelspec": {
   "display_name": "sklearn-env",
   "language": "python",
   "name": "python3"
  },
  "language_info": {
   "codemirror_mode": {
    "name": "ipython",
    "version": 3
   },
   "file_extension": ".py",
   "mimetype": "text/x-python",
   "name": "python",
   "nbconvert_exporter": "python",
   "pygments_lexer": "ipython3",
   "version": "3.10.12"
  }
 },
 "nbformat": 4,
 "nbformat_minor": 5
}
